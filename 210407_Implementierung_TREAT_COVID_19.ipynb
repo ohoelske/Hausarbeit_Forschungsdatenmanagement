{
  "nbformat": 4,
  "nbformat_minor": 0,
  "metadata": {
    "colab": {
      "name": "210407_Implementierung_TREAT COVID-19.ipynb",
      "provenance": [],
      "collapsed_sections": [
        "V28pCyKCkGPq",
        "Ru_V4P8dteVz",
        "zdOuqCqAtuOS",
        "NU5Y3Itvy4xW",
        "Od4sYSeBmwZd",
        "LsQw6Gz2kS3a",
        "Rja69vMilKvt",
        "XjduAoTN7Z5Z",
        "QclewDpxA2ew",
        "txiBEq5M1s5Q",
        "aCRrmEMzp0WX",
        "Y-Zfoc3zqykl",
        "QLKWY9v3fSp3",
        "5CLfyXoBLAg2",
        "iBaPWQfIKNZd",
        "84rtSjr-KWYA",
        "NN8YU4TvNF08",
        "_AohfNf9ggLm",
        "yL8X8Z8uLMbU",
        "Wsmo7v-JLS-j",
        "_p7XH3l2NQiM",
        "ngtxlWptTSdm",
        "-W0t5Q8udDFS",
        "AFMtjCm3DFXY",
        "orV9-EEPz_Lw",
        "4m7mnjva0UqA",
        "YADAkfZoAYMV",
        "X0nUUG_AAehJ",
        "IUdVqeVQ9q8_",
        "6urBBXWCBjDc",
        "vViTjd3oBxOu",
        "_9h5CI8MB5nZ",
        "em091gZEB-65",
        "gP4P_5jH_pOv",
        "c6gzWw9iLsQd",
        "tpQkxY979Z0s",
        "Mb1v2ZB3Gsvp",
        "d9khunCV-7Wh"
      ],
      "toc_visible": true,
      "include_colab_link": true
    },
    "kernelspec": {
      "display_name": "Python 3",
      "name": "python3"
    }
  },
  "cells": [
    {
      "cell_type": "markdown",
      "metadata": {
        "id": "view-in-github",
        "colab_type": "text"
      },
      "source": [
        "<a href=\"https://colab.research.google.com/github/ohoelske/Hausarbeit_Forschungsdatenmanagement/blob/main/210407_Implementierung_TREAT_COVID_19.ipynb\" target=\"_parent\"><img src=\"https://colab.research.google.com/assets/colab-badge.svg\" alt=\"Open In Colab\"/></a>"
      ]
    },
    {
      "cell_type": "markdown",
      "metadata": {
        "id": "AiEtIJroK0oe"
      },
      "source": [
        "# **Python Quellcode zum Projektes \"TREAT COVID-19\"**"
      ]
    },
    {
      "cell_type": "markdown",
      "metadata": {
        "id": "yOeJA8zhQlVL"
      },
      "source": [
        "Autor: Oliver Hölsken"
      ]
    },
    {
      "cell_type": "markdown",
      "metadata": {
        "id": "3UcH4rUiRBaY"
      },
      "source": [
        "Version 1.0"
      ]
    },
    {
      "cell_type": "markdown",
      "metadata": {
        "id": "H4UeCo7QJ0Ca"
      },
      "source": [
        "#1. Environment erstellen"
      ]
    },
    {
      "cell_type": "markdown",
      "metadata": {
        "id": "nHrAW7eQConA"
      },
      "source": [
        "##Variabeln löschen"
      ]
    },
    {
      "cell_type": "code",
      "metadata": {
        "id": "Su4CjvNKVpRS"
      },
      "source": [
        "%reset -f"
      ],
      "execution_count": 2,
      "outputs": []
    },
    {
      "cell_type": "markdown",
      "metadata": {
        "id": "pmR0UOlsC42L"
      },
      "source": [
        "##Import Libraries"
      ]
    },
    {
      "cell_type": "code",
      "metadata": {
        "colab": {
          "base_uri": "https://localhost:8080/"
        },
        "id": "GWVWH5liPaH-",
        "outputId": "1cfbf744-7bf1-46f0-c3ef-3443b813d790"
      },
      "source": [
        "import sys\n",
        "import pandas as pd\n",
        "from pandas.util import hash_pandas_object\n",
        "import numpy as np\n",
        "import matplotlib as mlp\n",
        "import matplotlib.pyplot as plt\n",
        "import seaborn as sns\n",
        "import datetime as dt\n",
        "sns.set(color_codes=True)\n",
        "sns.set_theme(style=\"darkgrid\")\n",
        "from google.colab import drive\n",
        "from pandas_profiling import ProfileReport\n",
        "\n",
        "drive.mount('/content/drive/', force_remount=True)"
      ],
      "execution_count": 3,
      "outputs": [
        {
          "output_type": "stream",
          "text": [
            "Mounted at /content/drive/\n"
          ],
          "name": "stdout"
        }
      ]
    },
    {
      "cell_type": "code",
      "metadata": {
        "id": "Ra7hYZTH8hOf"
      },
      "source": [
        "material_path = '/content/drive/MyDrive/Forschungsdatenmanagement/Hausarbeit/csv.files'"
      ],
      "execution_count": 4,
      "outputs": []
    },
    {
      "cell_type": "markdown",
      "metadata": {
        "id": "p8n6evkxC-BX"
      },
      "source": [
        "##Configuration"
      ]
    },
    {
      "cell_type": "code",
      "metadata": {
        "id": "jvrUEGrgPld2"
      },
      "source": [
        "%matplotlib inline"
      ],
      "execution_count": 5,
      "outputs": []
    },
    {
      "cell_type": "markdown",
      "metadata": {
        "id": "y7PeIbRKDCEn"
      },
      "source": [
        "##Versioncheck"
      ]
    },
    {
      "cell_type": "code",
      "metadata": {
        "id": "AmhBAC8CDLje"
      },
      "source": [
        "#Python\n",
        "#sys.version_info"
      ],
      "execution_count": 6,
      "outputs": []
    },
    {
      "cell_type": "code",
      "metadata": {
        "id": "LJJk4OdbDRJX",
        "colab": {
          "base_uri": "https://localhost:8080/",
          "height": 35
        },
        "outputId": "31010c8a-66c7-4b8b-ef62-edf59887c554"
      },
      "source": [
        "#pandas\n",
        "pd.__version__"
      ],
      "execution_count": 7,
      "outputs": [
        {
          "output_type": "execute_result",
          "data": {
            "application/vnd.google.colaboratory.intrinsic+json": {
              "type": "string"
            },
            "text/plain": [
              "'1.1.5'"
            ]
          },
          "metadata": {
            "tags": []
          },
          "execution_count": 7
        }
      ]
    },
    {
      "cell_type": "code",
      "metadata": {
        "id": "HeNX3GfADU-g",
        "colab": {
          "base_uri": "https://localhost:8080/",
          "height": 35
        },
        "outputId": "785b2950-8443-4505-f940-b2450b9bcca4"
      },
      "source": [
        "#seaborn\n",
        "sns.__version__"
      ],
      "execution_count": 8,
      "outputs": [
        {
          "output_type": "execute_result",
          "data": {
            "application/vnd.google.colaboratory.intrinsic+json": {
              "type": "string"
            },
            "text/plain": [
              "'0.11.1'"
            ]
          },
          "metadata": {
            "tags": []
          },
          "execution_count": 8
        }
      ]
    },
    {
      "cell_type": "code",
      "metadata": {
        "id": "V7hj4BraDYSb",
        "colab": {
          "base_uri": "https://localhost:8080/",
          "height": 35
        },
        "outputId": "4790cecb-7453-46e5-d8fd-36508b0e3f8d"
      },
      "source": [
        "#matplotlib\n",
        "mlp.__version__"
      ],
      "execution_count": 9,
      "outputs": [
        {
          "output_type": "execute_result",
          "data": {
            "application/vnd.google.colaboratory.intrinsic+json": {
              "type": "string"
            },
            "text/plain": [
              "'3.2.2'"
            ]
          },
          "metadata": {
            "tags": []
          },
          "execution_count": 9
        }
      ]
    },
    {
      "cell_type": "code",
      "metadata": {
        "id": "t7e4faZZDdQQ",
        "colab": {
          "base_uri": "https://localhost:8080/",
          "height": 35
        },
        "outputId": "540b6f74-a603-4019-b8de-5399d5a28f24"
      },
      "source": [
        "#numpy\n",
        "np.__version__"
      ],
      "execution_count": 10,
      "outputs": [
        {
          "output_type": "execute_result",
          "data": {
            "application/vnd.google.colaboratory.intrinsic+json": {
              "type": "string"
            },
            "text/plain": [
              "'1.19.5'"
            ]
          },
          "metadata": {
            "tags": []
          },
          "execution_count": 10
        }
      ]
    },
    {
      "cell_type": "markdown",
      "metadata": {
        "id": "IfBf_QpeQjSF"
      },
      "source": [
        "### Versionen der Umgebung und Bibliotheken (Zusammenfassung)\n",
        "\n",
        "|Bibliothek|Version|\n",
        "|-|-|\n",
        "| python | 3.7.10 |\n",
        "| pandas |1.1.5|\n",
        "| numpy |1.19.5|\n",
        "| matplotlib |3.2.2|\n",
        "| seaborn |0.11.1|\n",
        "| google|2.0.3|\n"
      ]
    },
    {
      "cell_type": "code",
      "metadata": {
        "id": "FqO7DbhUQej9"
      },
      "source": [
        "# %pip freeze"
      ],
      "execution_count": 11,
      "outputs": []
    },
    {
      "cell_type": "markdown",
      "metadata": {
        "id": "VZMGwmbMsTx_"
      },
      "source": [
        "# 2. Abfragen zur Datenqualität"
      ]
    },
    {
      "cell_type": "markdown",
      "metadata": {
        "id": "BYNDgQdASJFa"
      },
      "source": [
        "##V0 Datei einlesen"
      ]
    },
    {
      "cell_type": "code",
      "metadata": {
        "id": "ZOAlFyZJhr_X",
        "colab": {
          "base_uri": "https://localhost:8080/",
          "height": 377
        },
        "outputId": "3b374b3e-1b39-414c-8a74-4fb81f90fc42"
      },
      "source": [
        "#Einlesen der v0.csv Datei als dataframe_0\n",
        "df_0 = pd.read_csv('/content/drive/MyDrive/Forschungsdatenmanagement/Hausarbeit/csv_files/Kopie_Complete_Dataset_Covid_10k_Valid_V0.csv', sep=\";\") # ggf. \",\""
      ],
      "execution_count": 12,
      "outputs": [
        {
          "output_type": "error",
          "ename": "FileNotFoundError",
          "evalue": "ignored",
          "traceback": [
            "\u001b[0;31m---------------------------------------------------------------------------\u001b[0m",
            "\u001b[0;31mFileNotFoundError\u001b[0m                         Traceback (most recent call last)",
            "\u001b[0;32m<ipython-input-12-fc0a11907a02>\u001b[0m in \u001b[0;36m<module>\u001b[0;34m()\u001b[0m\n\u001b[1;32m      1\u001b[0m \u001b[0;31m#Einlesen der v0.csv Datei als dataframe_0\u001b[0m\u001b[0;34m\u001b[0m\u001b[0;34m\u001b[0m\u001b[0;34m\u001b[0m\u001b[0m\n\u001b[0;32m----> 2\u001b[0;31m \u001b[0mdf_0\u001b[0m \u001b[0;34m=\u001b[0m \u001b[0mpd\u001b[0m\u001b[0;34m.\u001b[0m\u001b[0mread_csv\u001b[0m\u001b[0;34m(\u001b[0m\u001b[0;34m'/content/drive/MyDrive/Forschungsdatenmanagement/Hausarbeit/csv_files/Kopie_Complete_Dataset_Covid_10k_Valid_V0.csv'\u001b[0m\u001b[0;34m,\u001b[0m \u001b[0msep\u001b[0m\u001b[0;34m=\u001b[0m\u001b[0;34m\";\"\u001b[0m\u001b[0;34m)\u001b[0m \u001b[0;31m# ggf. \",\"\u001b[0m\u001b[0;34m\u001b[0m\u001b[0;34m\u001b[0m\u001b[0m\n\u001b[0m",
            "\u001b[0;32m/usr/local/lib/python3.7/dist-packages/pandas/io/parsers.py\u001b[0m in \u001b[0;36mread_csv\u001b[0;34m(filepath_or_buffer, sep, delimiter, header, names, index_col, usecols, squeeze, prefix, mangle_dupe_cols, dtype, engine, converters, true_values, false_values, skipinitialspace, skiprows, skipfooter, nrows, na_values, keep_default_na, na_filter, verbose, skip_blank_lines, parse_dates, infer_datetime_format, keep_date_col, date_parser, dayfirst, cache_dates, iterator, chunksize, compression, thousands, decimal, lineterminator, quotechar, quoting, doublequote, escapechar, comment, encoding, dialect, error_bad_lines, warn_bad_lines, delim_whitespace, low_memory, memory_map, float_precision)\u001b[0m\n\u001b[1;32m    686\u001b[0m     )\n\u001b[1;32m    687\u001b[0m \u001b[0;34m\u001b[0m\u001b[0m\n\u001b[0;32m--> 688\u001b[0;31m     \u001b[0;32mreturn\u001b[0m \u001b[0m_read\u001b[0m\u001b[0;34m(\u001b[0m\u001b[0mfilepath_or_buffer\u001b[0m\u001b[0;34m,\u001b[0m \u001b[0mkwds\u001b[0m\u001b[0;34m)\u001b[0m\u001b[0;34m\u001b[0m\u001b[0;34m\u001b[0m\u001b[0m\n\u001b[0m\u001b[1;32m    689\u001b[0m \u001b[0;34m\u001b[0m\u001b[0m\n\u001b[1;32m    690\u001b[0m \u001b[0;34m\u001b[0m\u001b[0m\n",
            "\u001b[0;32m/usr/local/lib/python3.7/dist-packages/pandas/io/parsers.py\u001b[0m in \u001b[0;36m_read\u001b[0;34m(filepath_or_buffer, kwds)\u001b[0m\n\u001b[1;32m    452\u001b[0m \u001b[0;34m\u001b[0m\u001b[0m\n\u001b[1;32m    453\u001b[0m     \u001b[0;31m# Create the parser.\u001b[0m\u001b[0;34m\u001b[0m\u001b[0;34m\u001b[0m\u001b[0;34m\u001b[0m\u001b[0m\n\u001b[0;32m--> 454\u001b[0;31m     \u001b[0mparser\u001b[0m \u001b[0;34m=\u001b[0m \u001b[0mTextFileReader\u001b[0m\u001b[0;34m(\u001b[0m\u001b[0mfp_or_buf\u001b[0m\u001b[0;34m,\u001b[0m \u001b[0;34m**\u001b[0m\u001b[0mkwds\u001b[0m\u001b[0;34m)\u001b[0m\u001b[0;34m\u001b[0m\u001b[0;34m\u001b[0m\u001b[0m\n\u001b[0m\u001b[1;32m    455\u001b[0m \u001b[0;34m\u001b[0m\u001b[0m\n\u001b[1;32m    456\u001b[0m     \u001b[0;32mif\u001b[0m \u001b[0mchunksize\u001b[0m \u001b[0;32mor\u001b[0m \u001b[0miterator\u001b[0m\u001b[0;34m:\u001b[0m\u001b[0;34m\u001b[0m\u001b[0;34m\u001b[0m\u001b[0m\n",
            "\u001b[0;32m/usr/local/lib/python3.7/dist-packages/pandas/io/parsers.py\u001b[0m in \u001b[0;36m__init__\u001b[0;34m(self, f, engine, **kwds)\u001b[0m\n\u001b[1;32m    946\u001b[0m             \u001b[0mself\u001b[0m\u001b[0;34m.\u001b[0m\u001b[0moptions\u001b[0m\u001b[0;34m[\u001b[0m\u001b[0;34m\"has_index_names\"\u001b[0m\u001b[0;34m]\u001b[0m \u001b[0;34m=\u001b[0m \u001b[0mkwds\u001b[0m\u001b[0;34m[\u001b[0m\u001b[0;34m\"has_index_names\"\u001b[0m\u001b[0;34m]\u001b[0m\u001b[0;34m\u001b[0m\u001b[0;34m\u001b[0m\u001b[0m\n\u001b[1;32m    947\u001b[0m \u001b[0;34m\u001b[0m\u001b[0m\n\u001b[0;32m--> 948\u001b[0;31m         \u001b[0mself\u001b[0m\u001b[0;34m.\u001b[0m\u001b[0m_make_engine\u001b[0m\u001b[0;34m(\u001b[0m\u001b[0mself\u001b[0m\u001b[0;34m.\u001b[0m\u001b[0mengine\u001b[0m\u001b[0;34m)\u001b[0m\u001b[0;34m\u001b[0m\u001b[0;34m\u001b[0m\u001b[0m\n\u001b[0m\u001b[1;32m    949\u001b[0m \u001b[0;34m\u001b[0m\u001b[0m\n\u001b[1;32m    950\u001b[0m     \u001b[0;32mdef\u001b[0m \u001b[0mclose\u001b[0m\u001b[0;34m(\u001b[0m\u001b[0mself\u001b[0m\u001b[0;34m)\u001b[0m\u001b[0;34m:\u001b[0m\u001b[0;34m\u001b[0m\u001b[0;34m\u001b[0m\u001b[0m\n",
            "\u001b[0;32m/usr/local/lib/python3.7/dist-packages/pandas/io/parsers.py\u001b[0m in \u001b[0;36m_make_engine\u001b[0;34m(self, engine)\u001b[0m\n\u001b[1;32m   1178\u001b[0m     \u001b[0;32mdef\u001b[0m \u001b[0m_make_engine\u001b[0m\u001b[0;34m(\u001b[0m\u001b[0mself\u001b[0m\u001b[0;34m,\u001b[0m \u001b[0mengine\u001b[0m\u001b[0;34m=\u001b[0m\u001b[0;34m\"c\"\u001b[0m\u001b[0;34m)\u001b[0m\u001b[0;34m:\u001b[0m\u001b[0;34m\u001b[0m\u001b[0;34m\u001b[0m\u001b[0m\n\u001b[1;32m   1179\u001b[0m         \u001b[0;32mif\u001b[0m \u001b[0mengine\u001b[0m \u001b[0;34m==\u001b[0m \u001b[0;34m\"c\"\u001b[0m\u001b[0;34m:\u001b[0m\u001b[0;34m\u001b[0m\u001b[0;34m\u001b[0m\u001b[0m\n\u001b[0;32m-> 1180\u001b[0;31m             \u001b[0mself\u001b[0m\u001b[0;34m.\u001b[0m\u001b[0m_engine\u001b[0m \u001b[0;34m=\u001b[0m \u001b[0mCParserWrapper\u001b[0m\u001b[0;34m(\u001b[0m\u001b[0mself\u001b[0m\u001b[0;34m.\u001b[0m\u001b[0mf\u001b[0m\u001b[0;34m,\u001b[0m \u001b[0;34m**\u001b[0m\u001b[0mself\u001b[0m\u001b[0;34m.\u001b[0m\u001b[0moptions\u001b[0m\u001b[0;34m)\u001b[0m\u001b[0;34m\u001b[0m\u001b[0;34m\u001b[0m\u001b[0m\n\u001b[0m\u001b[1;32m   1181\u001b[0m         \u001b[0;32melse\u001b[0m\u001b[0;34m:\u001b[0m\u001b[0;34m\u001b[0m\u001b[0;34m\u001b[0m\u001b[0m\n\u001b[1;32m   1182\u001b[0m             \u001b[0;32mif\u001b[0m \u001b[0mengine\u001b[0m \u001b[0;34m==\u001b[0m \u001b[0;34m\"python\"\u001b[0m\u001b[0;34m:\u001b[0m\u001b[0;34m\u001b[0m\u001b[0;34m\u001b[0m\u001b[0m\n",
            "\u001b[0;32m/usr/local/lib/python3.7/dist-packages/pandas/io/parsers.py\u001b[0m in \u001b[0;36m__init__\u001b[0;34m(self, src, **kwds)\u001b[0m\n\u001b[1;32m   2008\u001b[0m         \u001b[0mkwds\u001b[0m\u001b[0;34m[\u001b[0m\u001b[0;34m\"usecols\"\u001b[0m\u001b[0;34m]\u001b[0m \u001b[0;34m=\u001b[0m \u001b[0mself\u001b[0m\u001b[0;34m.\u001b[0m\u001b[0musecols\u001b[0m\u001b[0;34m\u001b[0m\u001b[0;34m\u001b[0m\u001b[0m\n\u001b[1;32m   2009\u001b[0m \u001b[0;34m\u001b[0m\u001b[0m\n\u001b[0;32m-> 2010\u001b[0;31m         \u001b[0mself\u001b[0m\u001b[0;34m.\u001b[0m\u001b[0m_reader\u001b[0m \u001b[0;34m=\u001b[0m \u001b[0mparsers\u001b[0m\u001b[0;34m.\u001b[0m\u001b[0mTextReader\u001b[0m\u001b[0;34m(\u001b[0m\u001b[0msrc\u001b[0m\u001b[0;34m,\u001b[0m \u001b[0;34m**\u001b[0m\u001b[0mkwds\u001b[0m\u001b[0;34m)\u001b[0m\u001b[0;34m\u001b[0m\u001b[0;34m\u001b[0m\u001b[0m\n\u001b[0m\u001b[1;32m   2011\u001b[0m         \u001b[0mself\u001b[0m\u001b[0;34m.\u001b[0m\u001b[0munnamed_cols\u001b[0m \u001b[0;34m=\u001b[0m \u001b[0mself\u001b[0m\u001b[0;34m.\u001b[0m\u001b[0m_reader\u001b[0m\u001b[0;34m.\u001b[0m\u001b[0munnamed_cols\u001b[0m\u001b[0;34m\u001b[0m\u001b[0;34m\u001b[0m\u001b[0m\n\u001b[1;32m   2012\u001b[0m \u001b[0;34m\u001b[0m\u001b[0m\n",
            "\u001b[0;32mpandas/_libs/parsers.pyx\u001b[0m in \u001b[0;36mpandas._libs.parsers.TextReader.__cinit__\u001b[0;34m()\u001b[0m\n",
            "\u001b[0;32mpandas/_libs/parsers.pyx\u001b[0m in \u001b[0;36mpandas._libs.parsers.TextReader._setup_parser_source\u001b[0;34m()\u001b[0m\n",
            "\u001b[0;31mFileNotFoundError\u001b[0m: [Errno 2] No such file or directory: '/content/drive/MyDrive/Forschungsdatenmanagement/Hausarbeit/csv_files/Kopie_Complete_Dataset_Covid_10k_Valid_V0.csv'"
          ]
        }
      ]
    },
    {
      "cell_type": "code",
      "metadata": {
        "id": "55k1aBcch3j6"
      },
      "source": [
        "#Generelle Info über Einträge und Datentypen\n",
        "df_0.info()"
      ],
      "execution_count": null,
      "outputs": []
    },
    {
      "cell_type": "code",
      "metadata": {
        "id": "u-79NhFWjtGb"
      },
      "source": [
        "#Erste Zeilen anzeigen\n",
        "df_0.head()"
      ],
      "execution_count": null,
      "outputs": []
    },
    {
      "cell_type": "code",
      "metadata": {
        "id": "Dp1X3A-uoYZ2"
      },
      "source": [
        "#Beispiel Index Patient Zeile 2\n",
        "df_0.loc[2]"
      ],
      "execution_count": null,
      "outputs": []
    },
    {
      "cell_type": "markdown",
      "metadata": {
        "id": "4up918yJSN1t"
      },
      "source": [
        "##V1 Datei einlesen"
      ]
    },
    {
      "cell_type": "code",
      "metadata": {
        "id": "UxWmJFrw9pxj"
      },
      "source": [
        "#Einlesen der v1.csv Datei als dataframe\n",
        "df = pd.read_csv('/content/drive/MyDrive/Forschungsdatenmanagement/Hausarbeit/csv_files/Kopie_Complete_Dataset_Covid_10k_Valid_V1.csv', sep=\";\") # ggf. \",\""
      ],
      "execution_count": null,
      "outputs": []
    },
    {
      "cell_type": "code",
      "metadata": {
        "id": "AOuV6Jzn_Ydf"
      },
      "source": [
        "#Kontrolle des Datensatzes V1\n",
        "df.info()"
      ],
      "execution_count": null,
      "outputs": []
    },
    {
      "cell_type": "code",
      "metadata": {
        "id": "HokANOzIuR0d"
      },
      "source": [
        "#Alle Spalten für Patient mit dem Index (1) darsellen\n",
        "df.loc[1]"
      ],
      "execution_count": null,
      "outputs": []
    },
    {
      "cell_type": "markdown",
      "metadata": {
        "id": "WeyMByvnULoM"
      },
      "source": [
        "##Konstrukt 2A: Sind ausreichend Datenpunkte vorhanden?"
      ]
    },
    {
      "cell_type": "markdown",
      "metadata": {
        "id": "Z-k17mmmYKHj"
      },
      "source": [
        "###Merkmal: SARS-CoV-2 Virusnachweis (Anhand OBS_CODE und OBS_VALUE)\n",
        "*Wie häufig taucht der Code 94531-1 in der Spalte OBS_Code auf ind Kombination mit Virusnachweis?*"
      ]
    },
    {
      "cell_type": "code",
      "metadata": {
        "id": "lQYMTjsvSfy7"
      },
      "source": [
        "#Selektion aller Patienten mit detektierbarem Virus\n",
        "df.loc[(df['OBS_CODE'] == '94531-1') & (df['OBS_VALUE'] == 'Detected (qualifier value)')]"
      ],
      "execution_count": null,
      "outputs": []
    },
    {
      "cell_type": "markdown",
      "metadata": {
        "id": "mRjfWCLNYIDi"
      },
      "source": [
        "##Merkmal: Ethnie (RACE)"
      ]
    },
    {
      "cell_type": "code",
      "metadata": {
        "id": "nDgcQ6aCQY0r"
      },
      "source": [
        "#Zählen der verscheinden RACE Merkmale\n",
        "df['RACE'].value_counts()"
      ],
      "execution_count": null,
      "outputs": []
    },
    {
      "cell_type": "code",
      "metadata": {
        "id": "d95dgsHRRNDx"
      },
      "source": [
        "sns.countplot(x='RACE', data=df)\n",
        "plt.title('RACE distribution')\n",
        "plt.show()"
      ],
      "execution_count": null,
      "outputs": []
    },
    {
      "cell_type": "markdown",
      "metadata": {
        "id": "V87HzayhUtvB"
      },
      "source": [
        "##Konstrukt 2B: Besteht ein Zusammenhang zwischen Datenpunkten?"
      ]
    },
    {
      "cell_type": "markdown",
      "metadata": {
        "id": "VCLTBf0KHwaC"
      },
      "source": [
        "###Beispiel: Todesdatum muss NACH dem Beginn der Behandlung liegen "
      ]
    },
    {
      "cell_type": "code",
      "metadata": {
        "id": "TOd4vCin4-ki"
      },
      "source": [
        "#print(df.dtypes)"
      ],
      "execution_count": null,
      "outputs": []
    },
    {
      "cell_type": "markdown",
      "metadata": {
        "id": "10Qv6RSHWF8B"
      },
      "source": [
        "###Überführung der Objekte in den DATE Spalten in Python datetime Objekte64"
      ]
    },
    {
      "cell_type": "code",
      "metadata": {
        "id": "Zoncc1Wh6pmo"
      },
      "source": [
        "#Überführung der Objekte in den DATE Spalten in Python datetime Objekte64\n",
        "df[\"BIRTHDATE\"] = pd.to_datetime(df[\"BIRTHDATE\"])\n",
        "df[\"DEATHDATE\"] = pd.to_datetime(df[\"DEATHDATE\"])\n",
        "df[\"MED_START\"] = pd.to_datetime(df[\"MED_START\"])"
      ],
      "execution_count": null,
      "outputs": []
    },
    {
      "cell_type": "code",
      "metadata": {
        "id": "o_VynZEbDk4f"
      },
      "source": [
        "#df[\"OBS_DATE\"] = pd.to_datetime(df[\"OBS_DATE\"])\n",
        "#df[\"CON_START\"] = pd.to_datetime(df[\"CON_START\"])\n",
        "#df[\"CON_STOP\"] = pd.to_datetime(df[\"CON_STOP\"])\n",
        "#df[\"MED_STOP\"] = pd.to_datetime(df[\"MED_STOP\"])"
      ],
      "execution_count": null,
      "outputs": []
    },
    {
      "cell_type": "code",
      "metadata": {
        "id": "VbqCjoa6DbIi"
      },
      "source": [
        "print(df.dtypes)"
      ],
      "execution_count": null,
      "outputs": []
    },
    {
      "cell_type": "markdown",
      "metadata": {
        "id": "rQNl_PzpIAD3"
      },
      "source": [
        "###Identifikation der verstorbenen Patienten"
      ]
    },
    {
      "cell_type": "code",
      "metadata": {
        "id": "69tYEk71GxAf"
      },
      "source": [
        "deceased_patients = df[df.DEATHDATE.notna()]"
      ],
      "execution_count": null,
      "outputs": []
    },
    {
      "cell_type": "code",
      "metadata": {
        "id": "mFnqy_MIG5RX"
      },
      "source": [
        "deceased_patients"
      ],
      "execution_count": null,
      "outputs": []
    },
    {
      "cell_type": "markdown",
      "metadata": {
        "id": "OVrgXsqVWVr5"
      },
      "source": [
        "70 Patienten sind verstorben."
      ]
    },
    {
      "cell_type": "markdown",
      "metadata": {
        "id": "H28KinqBIHRE"
      },
      "source": [
        "### Differenz zwischen DEATHDATE und MED_START"
      ]
    },
    {
      "cell_type": "code",
      "metadata": {
        "id": "IL51XOjIPMSp"
      },
      "source": [
        "#pd.options.mode.chained_assignment = None  # default='warn'"
      ],
      "execution_count": null,
      "outputs": []
    },
    {
      "cell_type": "markdown",
      "metadata": {
        "id": "6YXcuN4QSpa7"
      },
      "source": [
        "Die Differenz zwischen den beiden Daten wurde berechnent. Positive Werte geben an, dass die Medikation NACH dem Sterbedatum angesetzt wurde:"
      ]
    },
    {
      "cell_type": "code",
      "metadata": {
        "id": "_iZxU5sPILeu"
      },
      "source": [
        "deceased_patients['Val_Diff'] = deceased_patients['MED_START'] - deceased_patients['DEATHDATE'] "
      ],
      "execution_count": null,
      "outputs": []
    },
    {
      "cell_type": "code",
      "metadata": {
        "id": "CnkQIHQAQiF5"
      },
      "source": [
        "#Transformation der Val_Diff werte in Tage\n",
        "deceased_patients['time_diff_days'] = deceased_patients[\"Val_Diff\"].dt.days"
      ],
      "execution_count": null,
      "outputs": []
    },
    {
      "cell_type": "code",
      "metadata": {
        "id": "2wbj7H2UQ2gT"
      },
      "source": [
        "deceased_patients_true = deceased_patients.loc[deceased_patients['time_diff_days'] < 0]"
      ],
      "execution_count": null,
      "outputs": []
    },
    {
      "cell_type": "code",
      "metadata": {
        "id": "YVk2OpgnRf10"
      },
      "source": [
        "deceased_patients_true.head"
      ],
      "execution_count": null,
      "outputs": []
    },
    {
      "cell_type": "markdown",
      "metadata": {
        "id": "-J2oUrUBsjM2"
      },
      "source": [
        "Verstorbene Patienten, die Medikation nach Todesdatum erhalten haben:"
      ]
    },
    {
      "cell_type": "code",
      "metadata": {
        "id": "L4fKx5MFsm5a"
      },
      "source": [
        "deceased_patients_false = deceased_patients.loc[deceased_patients['time_diff_days'] > 0]"
      ],
      "execution_count": null,
      "outputs": []
    },
    {
      "cell_type": "code",
      "metadata": {
        "id": "DO0TFN3nssrK"
      },
      "source": [
        "deceased_patients_false"
      ],
      "execution_count": null,
      "outputs": []
    },
    {
      "cell_type": "code",
      "metadata": {
        "id": "V7ipwfG0uxKa"
      },
      "source": [
        "#Index der betroffen Zeilen"
      ],
      "execution_count": null,
      "outputs": []
    },
    {
      "cell_type": "code",
      "metadata": {
        "id": "cJuMoSm6toRW"
      },
      "source": [
        "deceased_patients_false.index.values"
      ],
      "execution_count": null,
      "outputs": []
    },
    {
      "cell_type": "markdown",
      "metadata": {
        "id": "5OielvIaWoNh"
      },
      "source": [
        "Diese Datenpunkte sind sehr wahrscheinlich fehlerhaft und werden weiter unten bereinigt."
      ]
    },
    {
      "cell_type": "markdown",
      "metadata": {
        "id": "0BjHnOdmTRMV"
      },
      "source": [
        "###Schwangere mit dem Geschlecht M(ale)"
      ]
    },
    {
      "cell_type": "markdown",
      "metadata": {
        "id": "eTaCYBFVhUjw"
      },
      "source": [
        "Identifikaion aller Zeilen mit dem Eintrag 'Normal pregnancy' in der Spalte CON_DESCRIPTION"
      ]
    },
    {
      "cell_type": "code",
      "metadata": {
        "id": "fPvHvkVAUgZs"
      },
      "source": [
        "pregnant_patients = df.loc[(df['CON_DESCRIPTION'] == 'Normal pregnancy')]\n",
        "pregnant_patients.count"
      ],
      "execution_count": null,
      "outputs": []
    },
    {
      "cell_type": "markdown",
      "metadata": {
        "id": "5dgo24-NXBSl"
      },
      "source": [
        "50 Zeileneinträge weisen diesen Merkmal auf."
      ]
    },
    {
      "cell_type": "markdown",
      "metadata": {
        "id": "zsGEqKivhYRs"
      },
      "source": [
        "Aufteilung in Geschlecht "
      ]
    },
    {
      "cell_type": "code",
      "metadata": {
        "id": "iBfqRgzuTXCO"
      },
      "source": [
        "pregnant_males = df.loc[(df['CON_DESCRIPTION'] == 'Normal pregnancy') & (df['GENDER'] == 'M')]\n",
        "pregnant_females = df.loc[(df['CON_DESCRIPTION'] == 'Normal pregnancy') & (df['GENDER'] == 'F')]"
      ],
      "execution_count": null,
      "outputs": []
    },
    {
      "cell_type": "markdown",
      "metadata": {
        "id": "d-IQFd6nhdGb"
      },
      "source": [
        "Darstellung"
      ]
    },
    {
      "cell_type": "code",
      "metadata": {
        "id": "orMmxaLrYDKs"
      },
      "source": [
        "sns.set(rc={'figure.figsize':(7,5)})"
      ],
      "execution_count": null,
      "outputs": []
    },
    {
      "cell_type": "code",
      "metadata": {
        "id": "sTaG9IV5W8dg"
      },
      "source": [
        "sns.countplot(x='GENDER', data=pregnant_patients)\n",
        "plt.title('Distribution Pregnant patients')\n",
        "plt.show()"
      ],
      "execution_count": null,
      "outputs": []
    },
    {
      "cell_type": "markdown",
      "metadata": {
        "id": "I7F_oDgFhkA4"
      },
      "source": [
        "#3. Verbesserungsvorschläge"
      ]
    },
    {
      "cell_type": "markdown",
      "metadata": {
        "id": "iVej7rGQhwu4"
      },
      "source": [
        "##Die Einträge in der Spalte RACE mit den Merkmalen *Alien* oder *w* wurden entfernt."
      ]
    },
    {
      "cell_type": "code",
      "metadata": {
        "id": "e_5pC94v2J4F"
      },
      "source": [
        "#Identifkation der Aliens\n",
        "df_Aliens = df.loc[(df['RACE'] == 'Alien')]"
      ],
      "execution_count": null,
      "outputs": []
    },
    {
      "cell_type": "code",
      "metadata": {
        "id": "bwgkiAU60O1y"
      },
      "source": [
        "#Indizierung\n",
        "df_Aliens.index.values"
      ],
      "execution_count": null,
      "outputs": []
    },
    {
      "cell_type": "code",
      "metadata": {
        "id": "C5tp0bGC0bJ5"
      },
      "source": [
        "#Bereinigung\n",
        "df_cleaned = df.drop(labels=[38, 159, 456], axis=0)"
      ],
      "execution_count": null,
      "outputs": []
    },
    {
      "cell_type": "code",
      "metadata": {
        "id": "Pr7zlMoQ0pCH"
      },
      "source": [
        "#Identifkation der Einträge w\n",
        "df_w = df_cleaned.loc[(df['RACE'] == 'w')]"
      ],
      "execution_count": null,
      "outputs": []
    },
    {
      "cell_type": "code",
      "metadata": {
        "id": "LpzXQibd3H7A"
      },
      "source": [
        "#Indizierung\n",
        "df_w.index.values"
      ],
      "execution_count": null,
      "outputs": []
    },
    {
      "cell_type": "markdown",
      "metadata": {
        "id": "lCxNpmNq3Vid"
      },
      "source": [
        "###Interesanterweise werden nicht alle Indices mit dem Merkmal w agezeigt. Die Indices 42-44 wurden manuell hinzugefügt:"
      ]
    },
    {
      "cell_type": "code",
      "metadata": {
        "id": "XfCKiNRZ3ODk"
      },
      "source": [
        "#Bereinigung\n",
        "df_cleaned_2 = df_cleaned.drop(labels=[42, 43, 44, 45, 46, 47, 48, 49, 50, 51, 52, 53], axis=0)"
      ],
      "execution_count": null,
      "outputs": []
    },
    {
      "cell_type": "markdown",
      "metadata": {
        "id": "xeMpHEjSmN4n"
      },
      "source": [
        "##Entfernung der schwangeren männlichen Patienten"
      ]
    },
    {
      "cell_type": "code",
      "metadata": {
        "id": "w9VWFn3rnBj7"
      },
      "source": [
        "#Identifikation\n",
        "df_pregnant_m = df_cleaned_2.loc[(df_cleaned_2['CON_DESCRIPTION'] == 'Normal pregnancy') & (df_cleaned_2['GENDER'] == 'M')]"
      ],
      "execution_count": null,
      "outputs": []
    },
    {
      "cell_type": "code",
      "metadata": {
        "id": "YN5SPcVZu3B1"
      },
      "source": [
        "#Indexierung\n",
        "df_pregnant_m.index.values"
      ],
      "execution_count": null,
      "outputs": []
    },
    {
      "cell_type": "code",
      "metadata": {
        "id": "CMGL5Tdhp4_o"
      },
      "source": [
        "#Entfernung der schwangeren männlichen Patienten\n",
        "df_no_pregnat_m = df_cleaned_2.drop(labels=[35,  41,  57, 140, 144, 145, 194, 202, 236, 277, 278, 279, 284,\n",
        "       287, 312, 406, 412, 413, 440], axis=0)"
      ],
      "execution_count": null,
      "outputs": []
    },
    {
      "cell_type": "markdown",
      "metadata": {
        "id": "9j-KyVX3rEBz"
      },
      "source": [
        "##Entfernung der nicht aktuell verstorbenen Patienten sowie der Patienten, mit Medikation nach Todesdatum und fehlerhaften Einträgen in der Spalte OBS_Date"
      ]
    },
    {
      "cell_type": "code",
      "metadata": {
        "id": "doXvRtq0r68U"
      },
      "source": [
        "#Identifikation laut Index aus Abschnitt Datenaufbereitung, 2B\n",
        "df_incorrect_deathdate = df_no_pregnat_m.drop(labels=[11,  62,  80,  83,  89, 143, 172, 183, 201, 204, 205, 217, 235,\n",
        "       246, 253, 297, 306, 315, 318, 330, 341, 347, 355, 356, 368,\n",
        "       395, 399, 402, 408, 411, 414, 416, 420, 438, 439, 463, 493], axis=0)"
      ],
      "execution_count": null,
      "outputs": []
    },
    {
      "cell_type": "code",
      "metadata": {
        "id": "BKQvUAvMv0_r"
      },
      "source": [
        "#Welche Patienten sind vor 2019 gestorben?\n",
        "df_old_deathdate = df_incorrect_deathdate.loc[df_incorrect_deathdate['DEATHDATE'] < '2019-01-01']"
      ],
      "execution_count": null,
      "outputs": []
    },
    {
      "cell_type": "code",
      "metadata": {
        "id": "4s_mfnrAwXDK"
      },
      "source": [
        "df_old_deathdate.count "
      ],
      "execution_count": null,
      "outputs": []
    },
    {
      "cell_type": "markdown",
      "metadata": {
        "id": "wbiAUeRUY8ZL"
      },
      "source": [
        "19 Patienten wuden ausgeschlossen, da sie vor 2019 verstorben waren"
      ]
    },
    {
      "cell_type": "code",
      "metadata": {
        "id": "5fhuIsFiwlNt"
      },
      "source": [
        "df_old_deathdate.index.values"
      ],
      "execution_count": null,
      "outputs": []
    },
    {
      "cell_type": "code",
      "metadata": {
        "id": "ijxui_kWvqjJ"
      },
      "source": [
        "df_clean_final = df_incorrect_deathdate.drop(labels=[107, 111, 169, 178, 180, 256, 259, 264, 270, 273, 291, 308, 319,\n",
        "       387, 392, 428, 447, 462], axis=0)"
      ],
      "execution_count": null,
      "outputs": []
    },
    {
      "cell_type": "code",
      "metadata": {
        "id": "RVd-SA0MxjZy"
      },
      "source": [
        "#Löschen von Spalten mit fehlerhaften Eintrag in OBS_date"
      ],
      "execution_count": null,
      "outputs": []
    },
    {
      "cell_type": "code",
      "metadata": {
        "id": "nGQp2XJfxt_B"
      },
      "source": [
        "df_clean_date = df_clean_final.loc[df_clean_final['OBS_DATE'] == \"4386200%\"]"
      ],
      "execution_count": null,
      "outputs": []
    },
    {
      "cell_type": "code",
      "metadata": {
        "id": "h-i9vF_Cx5CE"
      },
      "source": [
        "df_clean_date2 = df_clean_final.loc[df_clean_final['OBS_DATE'] == \"4386300%\"]"
      ],
      "execution_count": null,
      "outputs": []
    },
    {
      "cell_type": "code",
      "metadata": {
        "id": "3ZrCOnnVynm2"
      },
      "source": [
        "df_clean_date2"
      ],
      "execution_count": null,
      "outputs": []
    },
    {
      "cell_type": "code",
      "metadata": {
        "id": "iR_bFBeiyxES"
      },
      "source": [
        "#Löschen der 13. und 14. Zeile"
      ],
      "execution_count": null,
      "outputs": []
    },
    {
      "cell_type": "code",
      "metadata": {
        "id": "cE4bC648y2Ge"
      },
      "source": [
        "df_clean_final_v2 = df_clean_final.drop(labels=[13, 14], axis=0)"
      ],
      "execution_count": null,
      "outputs": []
    },
    {
      "cell_type": "markdown",
      "metadata": {
        "id": "Dp-o_EYqZWrg"
      },
      "source": [
        "Finaler Dataframe für Version 2"
      ]
    },
    {
      "cell_type": "code",
      "metadata": {
        "id": "W2oR-T6SzCXq"
      },
      "source": [
        "df_clean_final_v2 "
      ],
      "execution_count": null,
      "outputs": []
    },
    {
      "cell_type": "code",
      "metadata": {
        "id": "vLVEQAA-dM-K"
      },
      "source": [
        "df_clean_final_v2.info()"
      ],
      "execution_count": null,
      "outputs": []
    },
    {
      "cell_type": "code",
      "metadata": {
        "id": "b6QF4cR0huN_"
      },
      "source": [
        "df_clean_final_v2.loc[1]"
      ],
      "execution_count": null,
      "outputs": []
    },
    {
      "cell_type": "code",
      "metadata": {
        "id": "ewtevSl_dSp9"
      },
      "source": [
        "df_clean_final_v2.describe"
      ],
      "execution_count": null,
      "outputs": []
    },
    {
      "cell_type": "markdown",
      "metadata": {
        "id": "PG-KPqjaxC2j"
      },
      "source": [
        "##Erstellung Version 2"
      ]
    },
    {
      "cell_type": "code",
      "metadata": {
        "id": "ljPNIWwwxHEi"
      },
      "source": [
        "#df_clean_final_v2.to_csv(r'/content/drive/MyDrive/Forschungsdatenmanagement/Hausarbeit/csv_files/Kopie_Complete_Dataset_Covid_10k_Valid_V2.csv', index = False)"
      ],
      "execution_count": null,
      "outputs": []
    },
    {
      "cell_type": "markdown",
      "metadata": {
        "id": "ElAaX_Ycqzk7"
      },
      "source": [
        "#4. Metadaten"
      ]
    },
    {
      "cell_type": "code",
      "metadata": {
        "id": "WmGovi0AzsqH"
      },
      "source": [
        "#Überführung der anderen Daten in das ISO 8601 Format mittels pd.to_datetime"
      ],
      "execution_count": null,
      "outputs": []
    },
    {
      "cell_type": "code",
      "metadata": {
        "id": "x1fk7UKXt6hu"
      },
      "source": [
        "df = df_clean_final_v2"
      ],
      "execution_count": null,
      "outputs": []
    },
    {
      "cell_type": "code",
      "metadata": {
        "id": "tw6HfiLQt3QX"
      },
      "source": [
        "df[\"OBS_DATE\"] = pd.to_datetime(df[\"OBS_DATE\"])\n",
        "df[\"MED_STOP\"] = pd.to_datetime(df[\"MED_STOP\"])"
      ],
      "execution_count": null,
      "outputs": []
    },
    {
      "cell_type": "code",
      "metadata": {
        "id": "1l7_bmkbjjw5"
      },
      "source": [
        "df.info()"
      ],
      "execution_count": null,
      "outputs": []
    },
    {
      "cell_type": "code",
      "metadata": {
        "id": "ncfTCe8Ejq9d"
      },
      "source": [
        "df.loc[1]"
      ],
      "execution_count": null,
      "outputs": []
    },
    {
      "cell_type": "markdown",
      "metadata": {
        "id": "H-cPwje80jkQ"
      },
      "source": [
        "##Erstellung Version 3"
      ]
    },
    {
      "cell_type": "code",
      "metadata": {
        "id": "YzV2oH37zZUn"
      },
      "source": [
        "#df.to_csv(r'/content/drive/MyDrive/Forschungsdatenmanagement/Hausarbeit/csv_files/Kopie_Complete_Dataset_Covid_10k_Valid_V3.csv', index = False)"
      ],
      "execution_count": null,
      "outputs": []
    },
    {
      "cell_type": "markdown",
      "metadata": {
        "id": "e8Vm0_vaakCs"
      },
      "source": [
        "#Data Cleaning"
      ]
    },
    {
      "cell_type": "markdown",
      "metadata": {
        "id": "RbSwZypKsDTf"
      },
      "source": [
        "## Fehlende Werte/Nullwerte Identifizieren\n",
        "\n"
      ]
    },
    {
      "cell_type": "markdown",
      "metadata": {
        "id": "LnTcDelFtY8L"
      },
      "source": [
        "### Heatmap "
      ]
    },
    {
      "cell_type": "markdown",
      "metadata": {
        "id": "qOPUxdCxssEP"
      },
      "source": [
        "Mithilfe des Tools Seaborn können leere Zeilen im Dataframe erkannt werden."
      ]
    },
    {
      "cell_type": "code",
      "metadata": {
        "id": "pg08rUi3sHw3"
      },
      "source": [
        "cols = df.columns\n",
        "colours = ['#000099', '#ffff00'] # yellow is missing. blue is not missing.\n",
        "#Erstellung einer Heatmap\n",
        "sns.set(rc={'figure.figsize':(10,10)})\n",
        "sns.heatmap(df[cols].isnull(), cmap=sns.color_palette(colours))"
      ],
      "execution_count": null,
      "outputs": []
    },
    {
      "cell_type": "markdown",
      "metadata": {
        "id": "upFDu_dUtFSf"
      },
      "source": [
        "**Interpretation:**\n",
        "1.   komplett leere Zeilen im Bereich um 95, 220 und 241 identifiziert.\n",
        "2.   Einige Variabeln wie DEATHDATE, OBS_UNIT und CON_STOP haben relativ viele leere Zeilen.\n",
        "\n",
        "\n"
      ]
    },
    {
      "cell_type": "markdown",
      "metadata": {
        "id": "kG06jVVYtdLT"
      },
      "source": [
        "### Fehlende Werte in %"
      ]
    },
    {
      "cell_type": "markdown",
      "metadata": {
        "id": "04Ilvg15tvOT"
      },
      "source": [
        "Mittels eines for loops können die fehlenden Werte quantifiziert werden:"
      ]
    },
    {
      "cell_type": "code",
      "metadata": {
        "id": "qoR-BxcBtwXI"
      },
      "source": [
        "for col in df.columns:\n",
        "    pct_missing = np.mean(df[col].isnull())\n",
        "    print('{} - {}%'.format(col, round(pct_missing*100)))"
      ],
      "execution_count": null,
      "outputs": []
    },
    {
      "cell_type": "markdown",
      "metadata": {
        "id": "CtYahoK-v3FS"
      },
      "source": [
        "###Lösungsvorschlag: Leere Zeilen löschen"
      ]
    },
    {
      "cell_type": "code",
      "metadata": {
        "id": "Symwzj5s9ZWt"
      },
      "source": [
        "#Kompletter DF zeigen\n",
        "#pd.set_option(\"display.max_rows\", None, \"display.max_columns\", None)\n",
        "#df"
      ],
      "execution_count": null,
      "outputs": []
    },
    {
      "cell_type": "code",
      "metadata": {
        "id": "JhQyOGQABhp6"
      },
      "source": [
        "#Zeilen identifizieren, in denen das Geburstdatum = 0 ist.\n",
        "df['BIRTHDATE'].isnull().sum()"
      ],
      "execution_count": null,
      "outputs": []
    },
    {
      "cell_type": "code",
      "metadata": {
        "id": "8U0Uuf1_CnSW"
      },
      "source": [
        "#Zeilen identifizieren, in denen das Geburstdatum = 0 ist.\n",
        "index = df.loc[pd.isna(df[\"BIRTHDATE\"]), :].index\n",
        "index"
      ],
      "execution_count": null,
      "outputs": []
    },
    {
      "cell_type": "code",
      "metadata": {
        "id": "IzgScyZ8DBs3"
      },
      "source": [
        "#Indizierte Zeilen aus dem Dataframe löschen\n",
        "df = df.drop(index)"
      ],
      "execution_count": null,
      "outputs": []
    },
    {
      "cell_type": "code",
      "metadata": {
        "id": "Ru30AuOKEfoS"
      },
      "source": [
        "df.shape"
      ],
      "execution_count": null,
      "outputs": []
    },
    {
      "cell_type": "markdown",
      "metadata": {
        "id": "-PtdIaKzEhjG"
      },
      "source": [
        "3 Zeilen wurden aus dem Dataframe gelöscht.\n"
      ]
    },
    {
      "cell_type": "markdown",
      "metadata": {
        "id": "c9nvXv8AFUmg"
      },
      "source": [
        "## Duplikate"
      ]
    },
    {
      "cell_type": "markdown",
      "metadata": {
        "id": "0prjlfnaG1Mg"
      },
      "source": [
        "Duplizierte Reihen indentifizieren anhand von 5 Spalten"
      ]
    },
    {
      "cell_type": "code",
      "metadata": {
        "id": "HcHVTSwJUuZm"
      },
      "source": [
        "#Definition der Spalten\n",
        "column_names = ['BIRTHDATE', 'DEATHDATE', 'MARITAL', 'GENDER', 'BIRTHPLACE']"
      ],
      "execution_count": null,
      "outputs": []
    },
    {
      "cell_type": "code",
      "metadata": {
        "id": "EELNNfH5TMdq"
      },
      "source": [
        "#Identifikation der duplizierten Zeilen\n",
        "duplicates = df.duplicated(subset = column_names, keep=False)\n",
        "df[duplicates]"
      ],
      "execution_count": null,
      "outputs": []
    },
    {
      "cell_type": "code",
      "metadata": {
        "id": "DnaiPOXAVhfI"
      },
      "source": [
        "#Löschen der zwei doppelten Zeilen\n",
        "df = df.drop(labels=[23, 124], axis=0)"
      ],
      "execution_count": null,
      "outputs": []
    },
    {
      "cell_type": "code",
      "metadata": {
        "id": "tpMa2Y-OT09e"
      },
      "source": [
        "#Anzeigen der neuen Zeilen-Zahl\n",
        "df.shape"
      ],
      "execution_count": null,
      "outputs": []
    },
    {
      "cell_type": "markdown",
      "metadata": {
        "id": "25SRrvjsZHLS"
      },
      "source": [
        "2 Zeilen wurden aus dem Dataframe gelöscht."
      ]
    },
    {
      "cell_type": "markdown",
      "metadata": {
        "id": "u3Jxqv5UdsXC"
      },
      "source": [
        "## Datenformat"
      ]
    },
    {
      "cell_type": "markdown",
      "metadata": {
        "id": "nUD5gpk5pRFJ"
      },
      "source": [
        "Zuerst sollte sich ein Überblick über die verschiedenen Datentypen verschafft werden. Dies kann mit Hilfe der .info Funktion durchgeführt werden."
      ]
    },
    {
      "cell_type": "code",
      "metadata": {
        "id": "DI9dbSI-pZV0"
      },
      "source": [
        "df.info()"
      ],
      "execution_count": null,
      "outputs": []
    },
    {
      "cell_type": "markdown",
      "metadata": {
        "id": "pJNMbu3Tt4Zj"
      },
      "source": [
        "###Kategotische Werte"
      ]
    },
    {
      "cell_type": "markdown",
      "metadata": {
        "id": "SCcTQysaphxQ"
      },
      "source": [
        "Die Spalten mit kategorischen Werten können über eine Funktion identifiziert werden. Dafür lässt man sich die Anzahl der Merkmalsausprägungen anzeigen."
      ]
    },
    {
      "cell_type": "code",
      "metadata": {
        "id": "9Hy2-aDitRCx"
      },
      "source": [
        "unique_counts = pd.DataFrame.from_records([(col, df[col].nunique()) for col in df.columns],\n",
        "                          columns=['Column_Name', 'Num_Unique']).sort_values(by=['Num_Unique'])\n",
        "unique_counts"
      ],
      "execution_count": null,
      "outputs": []
    },
    {
      "cell_type": "markdown",
      "metadata": {
        "id": "Yydx4AykuDuk"
      },
      "source": [
        "Die Spalten **MARITAL**, **RACE** und **GENDER** enthalten kategorische (<10 Merkmale) Werte und können transformiert werden."
      ]
    },
    {
      "cell_type": "code",
      "metadata": {
        "id": "rG2_pXxCuDIJ"
      },
      "source": [
        "cols_to_exclude = ['DEATHDATE\t', 'OBS_DATE\t', 'BIRTHDATE', 'CON_STOP', 'CON_START']\n",
        "for col in df.columns:\n",
        "    if df[col].nunique() < 10 and col not in cols_to_exclude:\n",
        "        df[col] = df[col].astype('category')"
      ],
      "execution_count": null,
      "outputs": []
    },
    {
      "cell_type": "markdown",
      "metadata": {
        "id": "3ACEDnQGvJKy"
      },
      "source": [
        "Der neue Dataframe ist kleiner und enthält nun die kategorischen Werte und ist kleiner."
      ]
    },
    {
      "cell_type": "code",
      "metadata": {
        "id": "CJLsMx7Fu3Uw"
      },
      "source": [
        "df.info()"
      ],
      "execution_count": null,
      "outputs": []
    },
    {
      "cell_type": "markdown",
      "metadata": {
        "id": "_n9EosL4u1Dz"
      },
      "source": [
        "###Schreibweise BIRTHPLACE"
      ]
    },
    {
      "cell_type": "markdown",
      "metadata": {
        "id": "x934_6j8gkGJ"
      },
      "source": [
        "Das Format des Geburtsortes beachtet Groß- und Kleinschreibung. Dies ist potentiell problematisch für die  Maschinenlesbarkeit, v.a. von Python-basierten Applikatonen.\n",
        "Außerdem fallen einige irreguläre Werte mit Sonderzeichen auf.\n",
        "\n",
        "Das Ziel ist es, dass irreguläre Werte in der Spalte BIRTHPLACE  entfernt und eine einheitliche Schreibweise eingeführt werden(Klein-Schreibung und Entfernung von Leerzeichen)"
      ]
    },
    {
      "cell_type": "code",
      "metadata": {
        "id": "ruNCbwjxlrhB"
      },
      "source": [
        "df['BIRTHPLACE']"
      ],
      "execution_count": null,
      "outputs": []
    },
    {
      "cell_type": "code",
      "metadata": {
        "id": "2VB9hrYUgnml"
      },
      "source": [
        "df['BIRTHPLACE_new'] = df['BIRTHPLACE'].str.lower()\n",
        "df['BIRTHPLACE_new'] = df['BIRTHPLACE_new'].str.strip() # remove leading and trailing whitespace.\n",
        "df['BIRTHPLACE_new'] = df['BIRTHPLACE_new'].str.replace('\\\\.', '') # remove period.\n",
        "df"
      ],
      "execution_count": null,
      "outputs": []
    },
    {
      "cell_type": "markdown",
      "metadata": {
        "id": "pAehKoXYz_MQ"
      },
      "source": [
        "Zeilen mit irreguläre Schreibweise entfernen"
      ]
    },
    {
      "cell_type": "code",
      "metadata": {
        "id": "GFDRUEVSm6zC"
      },
      "source": [
        "df_new = df.loc[df['BIRTHPLACE_new'] == 'hanoi  h√† ƒê√¥ng  vn']"
      ],
      "execution_count": null,
      "outputs": []
    },
    {
      "cell_type": "code",
      "metadata": {
        "id": "Ueb83dS8umWF"
      },
      "source": [
        "df_new"
      ],
      "execution_count": null,
      "outputs": []
    },
    {
      "cell_type": "markdown",
      "metadata": {
        "id": "Xip3Rn8j0HeJ"
      },
      "source": [
        "**h√† ƒê√¥ng  vn** wird zu **hanoi hanoi  vn**"
      ]
    },
    {
      "cell_type": "code",
      "metadata": {
        "id": "Yd37e1oivR7j"
      },
      "source": [
        "df.loc[129, 'BIRTHPLACE'] = 'Hanoi  Hanoi  VN'\n",
        "df.loc[288, 'BIRTHPLACE'] = 'Hanoi  Hanoi  VN'\n",
        "df.loc[129, 'BIRTHPLACE_new'] = 'hanoi  hanoi  vn'\n",
        "df.loc[288, 'BIRTHPLACE_new'] = 'hanoi  hanoi  vn'"
      ],
      "execution_count": null,
      "outputs": []
    },
    {
      "cell_type": "code",
      "metadata": {
        "id": "tgae4YhM0J1J"
      },
      "source": [
        "df.loc[288,]"
      ],
      "execution_count": null,
      "outputs": []
    },
    {
      "cell_type": "markdown",
      "metadata": {
        "id": "UKmrhkGNxUYC"
      },
      "source": [
        "###Verbleibende Daten umformatieren"
      ]
    },
    {
      "cell_type": "code",
      "metadata": {
        "id": "x83Iiy2HxTxC"
      },
      "source": [
        "df[\"CON_START\"] = pd.to_datetime(df[\"CON_START\"])\n",
        "df[\"CON_STOP\"] = pd.to_datetime(df[\"CON_STOP\"])"
      ],
      "execution_count": null,
      "outputs": []
    },
    {
      "cell_type": "code",
      "metadata": {
        "id": "2C-2uw88xrVk"
      },
      "source": [
        "df.info()"
      ],
      "execution_count": null,
      "outputs": []
    },
    {
      "cell_type": "markdown",
      "metadata": {
        "id": "PAzchQanZqKs"
      },
      "source": [
        "## Irreguläre Daten / Extremwerte"
      ]
    },
    {
      "cell_type": "markdown",
      "metadata": {
        "id": "G2rCBqO4xBqY"
      },
      "source": [
        "###MED_DISPENSES Spalte"
      ]
    },
    {
      "cell_type": "code",
      "metadata": {
        "id": "zJDeCIfxdLBq"
      },
      "source": [
        "#Histogramm\n",
        "df['MED_DISPENSES'].hist(bins=100)"
      ],
      "execution_count": null,
      "outputs": []
    },
    {
      "cell_type": "code",
      "metadata": {
        "id": "gZZz4zWW1xq4"
      },
      "source": [
        "#Deskriptive Statistik mit DataFrame.describe()\n",
        "df['MED_DISPENSES'].describe()"
      ],
      "execution_count": null,
      "outputs": []
    },
    {
      "cell_type": "markdown",
      "metadata": {
        "id": "2iJXacCU2WI8"
      },
      "source": [
        "Der höchste Wert liegt bei **583**, obwohl der Mittelwert bei 18 liegt. Sehr wahrscheinlich ein Ausreißer."
      ]
    },
    {
      "cell_type": "markdown",
      "metadata": {
        "id": "fvSF0x0fxGG3"
      },
      "source": [
        "###CODE Spalten \n"
      ]
    },
    {
      "cell_type": "markdown",
      "metadata": {
        "id": "QP3HDPNpK947"
      },
      "source": [
        "####CON_CODE"
      ]
    },
    {
      "cell_type": "markdown",
      "metadata": {
        "id": "5mhFIpRZ_EgD"
      },
      "source": [
        "Die Werte für die Reihen 320, 396, 451 und 458 wurden durch die korrekten SNOMED-CT Codes ersetzt."
      ]
    },
    {
      "cell_type": "code",
      "metadata": {
        "id": "hCHLPdQzJx3C"
      },
      "source": [
        "#Alle Einträge in der Spalte CON_CODE\n",
        "df['CON_CODE'].sort_values(ascending=True)"
      ],
      "execution_count": null,
      "outputs": []
    },
    {
      "cell_type": "code",
      "metadata": {
        "id": "BeviP7WO-9nw"
      },
      "source": [
        "df.loc[320, 'CON_CODE'] = '437931000124100' #SNOMED füe Migräne\n",
        "df.loc[396, 'CON_CODE'] = '437931000124100'\n",
        "df.loc[458, 'CON_CODE'] = '1551000119108' #SNOMED für Diabetische Retinopathie\n",
        "df.loc[451, 'CON_CODE'] = '1511000119107' #SNOMED für periphere Neuropathie"
      ],
      "execution_count": null,
      "outputs": []
    },
    {
      "cell_type": "markdown",
      "metadata": {
        "id": "XVFDjuh1Js_y"
      },
      "source": [
        "In der Spalte wurden Objects zu Int64 (also Zahlen umgewandelt)"
      ]
    },
    {
      "cell_type": "code",
      "metadata": {
        "id": "RtcshQX5-HaJ"
      },
      "source": [
        "df['CON_CODE'] = pd.to_numeric(df['CON_CODE']) "
      ],
      "execution_count": null,
      "outputs": []
    },
    {
      "cell_type": "code",
      "metadata": {
        "id": "x9msvAsXDGIP"
      },
      "source": [
        "df['CON_CODE'].describe"
      ],
      "execution_count": null,
      "outputs": []
    },
    {
      "cell_type": "code",
      "metadata": {
        "id": "LndrRiamJvAV"
      },
      "source": [
        "#Kompletter DF zeigen\n",
        "#pd.set_option(\"display.max_rows\", None, \"display.max_columns\", None)\n",
        "#df"
      ],
      "execution_count": null,
      "outputs": []
    },
    {
      "cell_type": "markdown",
      "metadata": {
        "id": "XR8xV1sRLDFI"
      },
      "source": [
        "####MED_CODE: Obj --> Int64 Transformation zur besseren Lesbarkeit"
      ]
    },
    {
      "cell_type": "code",
      "metadata": {
        "id": "30ESYCikMIIk"
      },
      "source": [
        "df['MED_CODE'] = pd.to_numeric(df['MED_CODE']) \n",
        "df['MED_CODE'] = df['MED_CODE'].astype(int)\n",
        "df['MED_CODE'].sort_values(ascending=True)"
      ],
      "execution_count": null,
      "outputs": []
    },
    {
      "cell_type": "markdown",
      "metadata": {
        "id": "q3TgysJXw_2X"
      },
      "source": [
        "##Finalen DataFrame überprüfen"
      ]
    },
    {
      "cell_type": "code",
      "metadata": {
        "id": "6nshZMm7uMdP"
      },
      "source": [
        "df.info()"
      ],
      "execution_count": null,
      "outputs": []
    },
    {
      "cell_type": "code",
      "metadata": {
        "id": "aqLDYOUUuUdb"
      },
      "source": [
        "df.describe"
      ],
      "execution_count": null,
      "outputs": []
    },
    {
      "cell_type": "code",
      "metadata": {
        "id": "fqQCTwTnvb7_"
      },
      "source": [
        "df.loc[1]"
      ],
      "execution_count": null,
      "outputs": []
    },
    {
      "cell_type": "markdown",
      "metadata": {
        "id": "wO_u7UchpHos"
      },
      "source": [
        "##Erstellung Version 4"
      ]
    },
    {
      "cell_type": "code",
      "metadata": {
        "id": "JLbkwG1NpL8E"
      },
      "source": [
        "#df.to_csv(r'/content/drive/MyDrive/Forschungsdatenmanagement/Hausarbeit/csv_files/Kopie_Complete_Dataset_Covid_10k_Valid_V4.csv', index = False)"
      ],
      "execution_count": null,
      "outputs": []
    },
    {
      "cell_type": "markdown",
      "metadata": {
        "id": "BP7sJJHWdH3v"
      },
      "source": [
        "df_0 = pd.read_csv('/content/drive/MyDrive/Forschungsdatenmanagement/Hausarbeit/csv_files/Kopie_Complete_Dataset_Covid_10k_Valid_V0.csv', sep=\";\") # ggf. \",\""
      ]
    },
    {
      "cell_type": "markdown",
      "metadata": {
        "id": "L5bw2C0Ydlfg"
      },
      "source": [
        "#Checksum des Datensatzes überprüfen"
      ]
    },
    {
      "cell_type": "markdown",
      "metadata": {
        "id": "jp5uBtyKdtKQ"
      },
      "source": [
        "##Datensatz laden"
      ]
    },
    {
      "cell_type": "code",
      "metadata": {
        "id": "zcEggAYIdQ5Q"
      },
      "source": [
        "df_new = pd.read_csv('/content/drive/MyDrive/Forschungsdatenmanagement/Hausarbeit/csv_files/Kopie_Complete_Dataset_Covid_10k_Valid_V4.csv', sep=\";\") # ggf. \",\""
      ],
      "execution_count": 13,
      "outputs": []
    },
    {
      "cell_type": "code",
      "metadata": {
        "id": "LGyDy2U-dwXJ"
      },
      "source": [
        "from pandas.util import hash_pandas_object\n",
        "df_newhashes = hash_pandas_object(df_new)"
      ],
      "execution_count": 15,
      "outputs": []
    },
    {
      "cell_type": "code",
      "metadata": {
        "colab": {
          "base_uri": "https://localhost:8080/"
        },
        "id": "U17H6pXQdhGH",
        "outputId": "565af6d7-9dd7-4096-c246-2d26eefaed73"
      },
      "source": [
        "df_newhashes"
      ],
      "execution_count": 16,
      "outputs": [
        {
          "output_type": "execute_result",
          "data": {
            "text/plain": [
              "0       1361311020871574867\n",
              "1       6562544486741711634\n",
              "2      13989948102070031639\n",
              "3       1723490946744185018\n",
              "4       2677837615848096838\n",
              "               ...         \n",
              "397     6071120933425309432\n",
              "398    17729717618054060606\n",
              "399    11938426041472357116\n",
              "400    17122329460960300879\n",
              "401     8097091569756539399\n",
              "Length: 402, dtype: uint64"
            ]
          },
          "metadata": {
            "tags": []
          },
          "execution_count": 16
        }
      ]
    },
    {
      "cell_type": "markdown",
      "metadata": {
        "id": "mApzvfNBeGPz"
      },
      "source": [
        "##Wert sollte -2765201148000130798 sein"
      ]
    },
    {
      "cell_type": "code",
      "metadata": {
        "colab": {
          "base_uri": "https://localhost:8080/"
        },
        "id": "AOCdpatCeBrY",
        "outputId": "07520602-85f3-4820-a6ea-96a5a79d4fdc"
      },
      "source": [
        "df_newhashes.sum()"
      ],
      "execution_count": 17,
      "outputs": [
        {
          "output_type": "execute_result",
          "data": {
            "text/plain": [
              "-2765201148000130798"
            ]
          },
          "metadata": {
            "tags": []
          },
          "execution_count": 17
        }
      ]
    },
    {
      "cell_type": "markdown",
      "metadata": {
        "id": "AbYhdPs2H-Fh"
      },
      "source": [
        "#Quellen\n",
        "- Seaborn: https://seaborn.pydata.org/tutorial/data_structure.html\n",
        "- pandas: https://pandas.pydata.org/pandas-docs/stable/reference/api/pandas.DataFrame.describe.html\n",
        "\n",
        "Data cleaning\n",
        "\n",
        "1.   https://towardsdatascience.com/data-cleaning-in-python-the-ultimate-guide-2020-c63b88bf0a0d\n",
        "2.   https://learn.datacamp.com/courses/cleaning-data-in-python\n",
        "3. https://www.w3schools.com/python/pandas/pandas_cleaning_wrong_format.asp\n",
        "\n"
      ]
    }
  ]
}