{
  "nbformat": 4,
  "nbformat_minor": 0,
  "metadata": {
    "colab": {
      "name": "210407_Implementierung_TREAT COVID-19.ipynb",
      "provenance": [],
      "collapsed_sections": [
        "V28pCyKCkGPq",
        "Ru_V4P8dteVz",
        "zdOuqCqAtuOS",
        "NU5Y3Itvy4xW",
        "Od4sYSeBmwZd",
        "LsQw6Gz2kS3a",
        "Rja69vMilKvt",
        "XjduAoTN7Z5Z",
        "QclewDpxA2ew",
        "txiBEq5M1s5Q",
        "aCRrmEMzp0WX",
        "Y-Zfoc3zqykl",
        "QLKWY9v3fSp3",
        "5CLfyXoBLAg2",
        "iBaPWQfIKNZd",
        "84rtSjr-KWYA",
        "NN8YU4TvNF08",
        "_AohfNf9ggLm",
        "yL8X8Z8uLMbU",
        "Wsmo7v-JLS-j",
        "_p7XH3l2NQiM",
        "ngtxlWptTSdm",
        "-W0t5Q8udDFS",
        "AFMtjCm3DFXY",
        "orV9-EEPz_Lw",
        "4m7mnjva0UqA",
        "YADAkfZoAYMV",
        "X0nUUG_AAehJ",
        "IUdVqeVQ9q8_",
        "6urBBXWCBjDc",
        "vViTjd3oBxOu",
        "_9h5CI8MB5nZ",
        "em091gZEB-65",
        "gP4P_5jH_pOv",
        "c6gzWw9iLsQd",
        "tpQkxY979Z0s",
        "Mb1v2ZB3Gsvp",
        "d9khunCV-7Wh"
      ],
      "toc_visible": true,
      "include_colab_link": true
    },
    "kernelspec": {
      "display_name": "Python 3",
      "name": "python3"
    }
  },
  "cells": [
    {
      "cell_type": "markdown",
      "metadata": {
        "id": "view-in-github",
        "colab_type": "text"
      },
      "source": [
        "<a href=\"https://colab.research.google.com/github/ohoelske/Hausarbeit_Forschungsdatenmanagement/blob/main/210407_Implementierung_TREAT_COVID_19.ipynb\" target=\"_parent\"><img src=\"https://colab.research.google.com/assets/colab-badge.svg\" alt=\"Open In Colab\"/></a>"
      ]
    },
    {
      "cell_type": "markdown",
      "metadata": {
        "id": "AiEtIJroK0oe"
      },
      "source": [
        "# **Python Quellcode zum Projektes \"TREAT COVID-19\"**"
      ]
    },
    {
      "cell_type": "markdown",
      "metadata": {
        "id": "yOeJA8zhQlVL"
      },
      "source": [
        "Autor: Oliver Hölsken"
      ]
    },
    {
      "cell_type": "markdown",
      "metadata": {
        "id": "3UcH4rUiRBaY"
      },
      "source": [
        "Version 1.0"
      ]
    },
    {
      "cell_type": "markdown",
      "metadata": {
        "id": "H4UeCo7QJ0Ca"
      },
      "source": [
        "#1. Environment erstellen"
      ]
    },
    {
      "cell_type": "markdown",
      "metadata": {
        "id": "nHrAW7eQConA"
      },
      "source": [
        "##Variabeln löschen"
      ]
    },
    {
      "cell_type": "code",
      "metadata": {
        "id": "Su4CjvNKVpRS"
      },
      "source": [
        "%reset -f"
      ],
      "execution_count": 19,
      "outputs": []
    },
    {
      "cell_type": "markdown",
      "metadata": {
        "id": "pmR0UOlsC42L"
      },
      "source": [
        "##Import Libraries"
      ]
    },
    {
      "cell_type": "code",
      "metadata": {
        "colab": {
          "base_uri": "https://localhost:8080/"
        },
        "id": "GWVWH5liPaH-",
        "outputId": "495f6d85-7bf2-4d19-d2e9-c96f432901c4"
      },
      "source": [
        "import sys\n",
        "import pandas as pd\n",
        "from pandas.util import hash_pandas_object\n",
        "import numpy as np\n",
        "import matplotlib as mlp\n",
        "import matplotlib.pyplot as plt\n",
        "import seaborn as sns\n",
        "import datetime as dt\n",
        "sns.set(color_codes=True)\n",
        "sns.set_theme(style=\"darkgrid\")\n",
        "from google.colab import drive\n",
        "from pandas_profiling import ProfileReport\n",
        "\n",
        "drive.mount('/content/drive/', force_remount=True)"
      ],
      "execution_count": 20,
      "outputs": [
        {
          "output_type": "stream",
          "text": [
            "Mounted at /content/drive/\n"
          ],
          "name": "stdout"
        }
      ]
    },
    {
      "cell_type": "code",
      "metadata": {
        "id": "Ra7hYZTH8hOf"
      },
      "source": [
        "material_path = '/content/drive/MyDrive/Forschungsdatenmanagement/Hausarbeit/csv.files'"
      ],
      "execution_count": 21,
      "outputs": []
    },
    {
      "cell_type": "markdown",
      "metadata": {
        "id": "p8n6evkxC-BX"
      },
      "source": [
        "##Configuration"
      ]
    },
    {
      "cell_type": "code",
      "metadata": {
        "id": "jvrUEGrgPld2"
      },
      "source": [
        "%matplotlib inline"
      ],
      "execution_count": 22,
      "outputs": []
    },
    {
      "cell_type": "markdown",
      "metadata": {
        "id": "y7PeIbRKDCEn"
      },
      "source": [
        "##Versioncheck"
      ]
    },
    {
      "cell_type": "code",
      "metadata": {
        "id": "AmhBAC8CDLje"
      },
      "source": [
        "#Python\n",
        "#sys.version_info"
      ],
      "execution_count": 23,
      "outputs": []
    },
    {
      "cell_type": "code",
      "metadata": {
        "id": "LJJk4OdbDRJX",
        "colab": {
          "base_uri": "https://localhost:8080/",
          "height": 35
        },
        "outputId": "c0e3241b-08af-4a7e-ad36-3bbabefe030d"
      },
      "source": [
        "#pandas\n",
        "pd.__version__"
      ],
      "execution_count": 24,
      "outputs": [
        {
          "output_type": "execute_result",
          "data": {
            "application/vnd.google.colaboratory.intrinsic+json": {
              "type": "string"
            },
            "text/plain": [
              "'1.1.5'"
            ]
          },
          "metadata": {
            "tags": []
          },
          "execution_count": 24
        }
      ]
    },
    {
      "cell_type": "code",
      "metadata": {
        "id": "HeNX3GfADU-g",
        "colab": {
          "base_uri": "https://localhost:8080/",
          "height": 35
        },
        "outputId": "8464d23c-198a-45cc-cc0f-f84a03728575"
      },
      "source": [
        "#seaborn\n",
        "sns.__version__"
      ],
      "execution_count": 25,
      "outputs": [
        {
          "output_type": "execute_result",
          "data": {
            "application/vnd.google.colaboratory.intrinsic+json": {
              "type": "string"
            },
            "text/plain": [
              "'0.11.1'"
            ]
          },
          "metadata": {
            "tags": []
          },
          "execution_count": 25
        }
      ]
    },
    {
      "cell_type": "code",
      "metadata": {
        "id": "V7hj4BraDYSb",
        "colab": {
          "base_uri": "https://localhost:8080/",
          "height": 35
        },
        "outputId": "10b1fe5c-4469-4e49-8f12-40f60903b2fc"
      },
      "source": [
        "#matplotlib\n",
        "mlp.__version__"
      ],
      "execution_count": 26,
      "outputs": [
        {
          "output_type": "execute_result",
          "data": {
            "application/vnd.google.colaboratory.intrinsic+json": {
              "type": "string"
            },
            "text/plain": [
              "'3.2.2'"
            ]
          },
          "metadata": {
            "tags": []
          },
          "execution_count": 26
        }
      ]
    },
    {
      "cell_type": "code",
      "metadata": {
        "id": "t7e4faZZDdQQ",
        "colab": {
          "base_uri": "https://localhost:8080/",
          "height": 35
        },
        "outputId": "ef4d408e-adfc-45f0-b2e8-1c713b50c56e"
      },
      "source": [
        "#numpy\n",
        "np.__version__"
      ],
      "execution_count": 27,
      "outputs": [
        {
          "output_type": "execute_result",
          "data": {
            "application/vnd.google.colaboratory.intrinsic+json": {
              "type": "string"
            },
            "text/plain": [
              "'1.19.5'"
            ]
          },
          "metadata": {
            "tags": []
          },
          "execution_count": 27
        }
      ]
    },
    {
      "cell_type": "markdown",
      "metadata": {
        "id": "IfBf_QpeQjSF"
      },
      "source": [
        "### Versionen der Umgebung und Bibliotheken (Zusammenfassung)\n",
        "\n",
        "|Bibliothek|Version|\n",
        "|-|-|\n",
        "| python | 3.7.10 |\n",
        "| pandas |1.1.5|\n",
        "| numpy |1.19.5|\n",
        "| matplotlib |3.2.2|\n",
        "| seaborn |0.11.1|\n",
        "| google|2.0.3|\n"
      ]
    },
    {
      "cell_type": "code",
      "metadata": {
        "id": "FqO7DbhUQej9"
      },
      "source": [
        "# %pip freeze"
      ],
      "execution_count": 28,
      "outputs": []
    },
    {
      "cell_type": "markdown",
      "metadata": {
        "id": "VZMGwmbMsTx_"
      },
      "source": [
        "# 2. Abfragen zur Datenqualität"
      ]
    },
    {
      "cell_type": "markdown",
      "metadata": {
        "id": "BYNDgQdASJFa"
      },
      "source": [
        "##V0 Datei einlesen"
      ]
    },
    {
      "cell_type": "code",
      "metadata": {
        "id": "ZOAlFyZJhr_X"
      },
      "source": [
        "#Einlesen der v0.csv Datei als dataframe_0\n",
        "df_0 = pd.read_csv('/content/drive/MyDrive/Forschungsdatenmanagement/Hausarbeit/csv_files/Kopie_Complete_Dataset_Covid_10k_Valid_V0.csv', sep=\";\") # ggf. \",\""
      ],
      "execution_count": 29,
      "outputs": []
    },
    {
      "cell_type": "code",
      "metadata": {
        "colab": {
          "base_uri": "https://localhost:8080/"
        },
        "id": "55k1aBcch3j6",
        "outputId": "e3f7cbcb-655a-45b2-ab18-2c30a869972e"
      },
      "source": [
        "#Generelle Info über Einträge und Datentypen\n",
        "df_0.info()"
      ],
      "execution_count": 30,
      "outputs": [
        {
          "output_type": "stream",
          "text": [
            "<class 'pandas.core.frame.DataFrame'>\n",
            "RangeIndex: 499 entries, 0 to 498\n",
            "Data columns (total 23 columns):\n",
            " #   Column        Non-Null Count  Dtype \n",
            "---  ------        --------------  ----- \n",
            " 0   Patients      496 non-null    object\n",
            " 1   Unnamed: 1    71 non-null     object\n",
            " 2   Unnamed: 2    338 non-null    object\n",
            " 3   Unnamed: 3    496 non-null    object\n",
            " 4   Unnamed: 4    496 non-null    object\n",
            " 5   Unnamed: 5    496 non-null    object\n",
            " 6   Observations  496 non-null    object\n",
            " 7   Unnamed: 7    496 non-null    object\n",
            " 8   Unnamed: 8    496 non-null    object\n",
            " 9   Unnamed: 9    496 non-null    object\n",
            " 10  Unnamed: 10   496 non-null    object\n",
            " 11  Unnamed: 11   432 non-null    object\n",
            " 12  Conditions    496 non-null    object\n",
            " 13  Unnamed: 13   310 non-null    object\n",
            " 14  Unnamed: 14   496 non-null    object\n",
            " 15  Unnamed: 15   496 non-null    object\n",
            " 16  Medications   496 non-null    object\n",
            " 17  Unnamed: 17   429 non-null    object\n",
            " 18  Unnamed: 18   496 non-null    object\n",
            " 19  Unnamed: 19   496 non-null    object\n",
            " 20  Unnamed: 20   496 non-null    object\n",
            " 21  Unnamed: 21   419 non-null    object\n",
            " 22  Unnamed: 22   419 non-null    object\n",
            "dtypes: object(23)\n",
            "memory usage: 89.8+ KB\n"
          ],
          "name": "stdout"
        }
      ]
    },
    {
      "cell_type": "code",
      "metadata": {
        "colab": {
          "base_uri": "https://localhost:8080/",
          "height": 422
        },
        "id": "u-79NhFWjtGb",
        "outputId": "ac3a52af-2437-4f0d-9da8-c969300b4818"
      },
      "source": [
        "#Erste Zeilen anzeigen\n",
        "df_0.head()"
      ],
      "execution_count": 31,
      "outputs": [
        {
          "output_type": "execute_result",
          "data": {
            "text/html": [
              "<div>\n",
              "<style scoped>\n",
              "    .dataframe tbody tr th:only-of-type {\n",
              "        vertical-align: middle;\n",
              "    }\n",
              "\n",
              "    .dataframe tbody tr th {\n",
              "        vertical-align: top;\n",
              "    }\n",
              "\n",
              "    .dataframe thead th {\n",
              "        text-align: right;\n",
              "    }\n",
              "</style>\n",
              "<table border=\"1\" class=\"dataframe\">\n",
              "  <thead>\n",
              "    <tr style=\"text-align: right;\">\n",
              "      <th></th>\n",
              "      <th>Patients</th>\n",
              "      <th>Unnamed: 1</th>\n",
              "      <th>Unnamed: 2</th>\n",
              "      <th>Unnamed: 3</th>\n",
              "      <th>Unnamed: 4</th>\n",
              "      <th>Unnamed: 5</th>\n",
              "      <th>Observations</th>\n",
              "      <th>Unnamed: 7</th>\n",
              "      <th>Unnamed: 8</th>\n",
              "      <th>Unnamed: 9</th>\n",
              "      <th>Unnamed: 10</th>\n",
              "      <th>Unnamed: 11</th>\n",
              "      <th>Conditions</th>\n",
              "      <th>Unnamed: 13</th>\n",
              "      <th>Unnamed: 14</th>\n",
              "      <th>Unnamed: 15</th>\n",
              "      <th>Medications</th>\n",
              "      <th>Unnamed: 17</th>\n",
              "      <th>Unnamed: 18</th>\n",
              "      <th>Unnamed: 19</th>\n",
              "      <th>Unnamed: 20</th>\n",
              "      <th>Unnamed: 21</th>\n",
              "      <th>Unnamed: 22</th>\n",
              "    </tr>\n",
              "  </thead>\n",
              "  <tbody>\n",
              "    <tr>\n",
              "      <th>0</th>\n",
              "      <td>BIRTHDATE</td>\n",
              "      <td>DEATHDATE</td>\n",
              "      <td>MARITAL</td>\n",
              "      <td>RACE</td>\n",
              "      <td>GENDER</td>\n",
              "      <td>BIRTHPLACE</td>\n",
              "      <td>DATE</td>\n",
              "      <td>PATIENT</td>\n",
              "      <td>CODE</td>\n",
              "      <td>DESCRIPTION</td>\n",
              "      <td>VALUE</td>\n",
              "      <td>UNITS</td>\n",
              "      <td>START</td>\n",
              "      <td>STOP</td>\n",
              "      <td>CODE</td>\n",
              "      <td>DESCRIPTION</td>\n",
              "      <td>START</td>\n",
              "      <td>STOP</td>\n",
              "      <td>CODE</td>\n",
              "      <td>DESCRIPTION</td>\n",
              "      <td>DISPENSES</td>\n",
              "      <td>REASONCODE</td>\n",
              "      <td>REASONDESCRIPTION</td>\n",
              "    </tr>\n",
              "    <tr>\n",
              "      <th>1</th>\n",
              "      <td>24.08.2017</td>\n",
              "      <td>NaN</td>\n",
              "      <td>NaN</td>\n",
              "      <td>white</td>\n",
              "      <td>M</td>\n",
              "      <td>Beverly  Massachusetts  US</td>\n",
              "      <td>01.08.2019</td>\n",
              "      <td>f0f3bc8d-ef38-49ce-a2bd-dfdda982b271</td>\n",
              "      <td>8302-2</td>\n",
              "      <td>Body Height</td>\n",
              "      <td>82.7</td>\n",
              "      <td>cm</td>\n",
              "      <td>01.05.2001</td>\n",
              "      <td>NaN</td>\n",
              "      <td>40055000</td>\n",
              "      <td>Chronic sinusitis (disorder)</td>\n",
              "      <td>30.10.2019</td>\n",
              "      <td>13.11.2019</td>\n",
              "      <td>308182</td>\n",
              "      <td>Amoxicillin 250 MG Oral Capsule</td>\n",
              "      <td>1</td>\n",
              "      <td>NaN</td>\n",
              "      <td>NaN</td>\n",
              "    </tr>\n",
              "    <tr>\n",
              "      <th>2</th>\n",
              "      <td>01.08.2016</td>\n",
              "      <td>NaN</td>\n",
              "      <td>NaN</td>\n",
              "      <td>white</td>\n",
              "      <td>F</td>\n",
              "      <td>Boston  Massachusetts  US</td>\n",
              "      <td>01.08.2019</td>\n",
              "      <td>f0f3bc8d-ef38-49ce-a2bd-dfdda982b271</td>\n",
              "      <td>72514-3</td>\n",
              "      <td>Pain severity - 0-10 verbal numeric rating [Sc...</td>\n",
              "      <td>2.0</td>\n",
              "      <td>{score}</td>\n",
              "      <td>09.08.2011</td>\n",
              "      <td>16.08.2011</td>\n",
              "      <td>444814009</td>\n",
              "      <td>Viral sinusitis (disorder)</td>\n",
              "      <td>30.10.2019</td>\n",
              "      <td>13.11.2019</td>\n",
              "      <td>313820</td>\n",
              "      <td>Acetaminophen 160 MG Chewable Tablet</td>\n",
              "      <td>1</td>\n",
              "      <td>NaN</td>\n",
              "      <td>NaN</td>\n",
              "    </tr>\n",
              "    <tr>\n",
              "      <th>3</th>\n",
              "      <td>30.06.1992</td>\n",
              "      <td>NaN</td>\n",
              "      <td>S</td>\n",
              "      <td>white</td>\n",
              "      <td>M</td>\n",
              "      <td>Springfield  Massachusetts  US</td>\n",
              "      <td>01.08.2019</td>\n",
              "      <td>f0f3bc8d-ef38-49ce-a2bd-dfdda982b271</td>\n",
              "      <td>29463-7</td>\n",
              "      <td>Body Weight</td>\n",
              "      <td>12. Jun</td>\n",
              "      <td>kg</td>\n",
              "      <td>16.11.2011</td>\n",
              "      <td>26.11.2011</td>\n",
              "      <td>195662009</td>\n",
              "      <td>Acute viral pharyngitis (disorder)</td>\n",
              "      <td>12.02.2020</td>\n",
              "      <td>26.02.2020</td>\n",
              "      <td>313820</td>\n",
              "      <td>Acetaminophen 160 MG Chewable Tablet</td>\n",
              "      <td>1</td>\n",
              "      <td>NaN</td>\n",
              "      <td>NaN</td>\n",
              "    </tr>\n",
              "    <tr>\n",
              "      <th>4</th>\n",
              "      <td>09.01.2004</td>\n",
              "      <td>NaN</td>\n",
              "      <td>NaN</td>\n",
              "      <td>white</td>\n",
              "      <td>F</td>\n",
              "      <td>Worcester  Massachusetts  US</td>\n",
              "      <td>01.08.2019</td>\n",
              "      <td>f0f3bc8d-ef38-49ce-a2bd-dfdda982b271</td>\n",
              "      <td>77606-2</td>\n",
              "      <td>Weight-for-length Per age and sex</td>\n",
              "      <td>86.1</td>\n",
              "      <td>%</td>\n",
              "      <td>13.05.2011</td>\n",
              "      <td>27.05.2011</td>\n",
              "      <td>10509002</td>\n",
              "      <td>Acute bronchitis (disorder)</td>\n",
              "      <td>28.04.2020</td>\n",
              "      <td>08.05.2020</td>\n",
              "      <td>834061</td>\n",
              "      <td>Penicillin V Potassium 250 MG Oral Tablet</td>\n",
              "      <td>1</td>\n",
              "      <td>43878008</td>\n",
              "      <td>Streptococcal sore throat (disorder)</td>\n",
              "    </tr>\n",
              "  </tbody>\n",
              "</table>\n",
              "</div>"
            ],
            "text/plain": [
              "     Patients Unnamed: 1  ... Unnamed: 21                           Unnamed: 22\n",
              "0   BIRTHDATE  DEATHDATE  ...  REASONCODE                     REASONDESCRIPTION\n",
              "1  24.08.2017        NaN  ...         NaN                                   NaN\n",
              "2  01.08.2016        NaN  ...         NaN                                   NaN\n",
              "3  30.06.1992        NaN  ...         NaN                                   NaN\n",
              "4  09.01.2004        NaN  ...    43878008  Streptococcal sore throat (disorder)\n",
              "\n",
              "[5 rows x 23 columns]"
            ]
          },
          "metadata": {
            "tags": []
          },
          "execution_count": 31
        }
      ]
    },
    {
      "cell_type": "code",
      "metadata": {
        "colab": {
          "base_uri": "https://localhost:8080/"
        },
        "id": "Dp1X3A-uoYZ2",
        "outputId": "eedec4cd-8f85-4177-ac08-8e9a0bb01186"
      },
      "source": [
        "#Beispiel Index Patient Zeile 2\n",
        "df_0.loc[2]"
      ],
      "execution_count": 32,
      "outputs": [
        {
          "output_type": "execute_result",
          "data": {
            "text/plain": [
              "Patients                                               01.08.2016\n",
              "Unnamed: 1                                                    NaN\n",
              "Unnamed: 2                                                    NaN\n",
              "Unnamed: 3                                                  white\n",
              "Unnamed: 4                                                      F\n",
              "Unnamed: 5                              Boston  Massachusetts  US\n",
              "Observations                                           01.08.2019\n",
              "Unnamed: 7                   f0f3bc8d-ef38-49ce-a2bd-dfdda982b271\n",
              "Unnamed: 8                                                72514-3\n",
              "Unnamed: 9      Pain severity - 0-10 verbal numeric rating [Sc...\n",
              "Unnamed: 10                                                   2.0\n",
              "Unnamed: 11                                               {score}\n",
              "Conditions                                             09.08.2011\n",
              "Unnamed: 13                                            16.08.2011\n",
              "Unnamed: 14                                             444814009\n",
              "Unnamed: 15                            Viral sinusitis (disorder)\n",
              "Medications                                            30.10.2019\n",
              "Unnamed: 17                                            13.11.2019\n",
              "Unnamed: 18                                                313820\n",
              "Unnamed: 19                  Acetaminophen 160 MG Chewable Tablet\n",
              "Unnamed: 20                                                     1\n",
              "Unnamed: 21                                                   NaN\n",
              "Unnamed: 22                                                   NaN\n",
              "Name: 2, dtype: object"
            ]
          },
          "metadata": {
            "tags": []
          },
          "execution_count": 32
        }
      ]
    },
    {
      "cell_type": "markdown",
      "metadata": {
        "id": "4up918yJSN1t"
      },
      "source": [
        "##V1 Datei einlesen"
      ]
    },
    {
      "cell_type": "code",
      "metadata": {
        "id": "UxWmJFrw9pxj"
      },
      "source": [
        "#Einlesen der v1.csv Datei als dataframe\n",
        "df = pd.read_csv('/content/drive/MyDrive/Forschungsdatenmanagement/Hausarbeit/csv_files/Kopie_Complete_Dataset_Covid_10k_Valid_V1.csv', sep=\";\") # ggf. \",\""
      ],
      "execution_count": 33,
      "outputs": []
    },
    {
      "cell_type": "code",
      "metadata": {
        "id": "AOuV6Jzn_Ydf",
        "colab": {
          "base_uri": "https://localhost:8080/"
        },
        "outputId": "0892aca0-e751-40fe-d120-b43e62daa13f"
      },
      "source": [
        "#Kontrolle des Datensatzes V1\n",
        "df.info()"
      ],
      "execution_count": 34,
      "outputs": [
        {
          "output_type": "stream",
          "text": [
            "<class 'pandas.core.frame.DataFrame'>\n",
            "RangeIndex: 498 entries, 0 to 497\n",
            "Data columns (total 22 columns):\n",
            " #   Column                 Non-Null Count  Dtype  \n",
            "---  ------                 --------------  -----  \n",
            " 0   BIRTHDATE              495 non-null    object \n",
            " 1   DEATHDATE              70 non-null     object \n",
            " 2   MARITAL                337 non-null    object \n",
            " 3   RACE                   495 non-null    object \n",
            " 4   GENDER                 495 non-null    object \n",
            " 5   BIRTHPLACE             495 non-null    object \n",
            " 6   OBS_DATE               495 non-null    object \n",
            " 7   OBS_CODE               495 non-null    object \n",
            " 8   OBS_DESCRIPTION        495 non-null    object \n",
            " 9   OBS_VALUE              495 non-null    object \n",
            " 10  OBS_UNITS              431 non-null    object \n",
            " 11  CON_START              495 non-null    object \n",
            " 12  CON_STOP               309 non-null    object \n",
            " 13  CON_CODE               495 non-null    object \n",
            " 14  CON_DESCRIPTION        495 non-null    object \n",
            " 15  MED_START              495 non-null    object \n",
            " 16  MED_STOP               428 non-null    object \n",
            " 17  MED_CODE               495 non-null    float64\n",
            " 18  MED_DESCRIPTION        495 non-null    object \n",
            " 19  MED_DISPENSES          495 non-null    float64\n",
            " 20  MED_REASONCODE         418 non-null    float64\n",
            " 21  MED_REASONDESCRIPTION  418 non-null    object \n",
            "dtypes: float64(3), object(19)\n",
            "memory usage: 85.7+ KB\n"
          ],
          "name": "stdout"
        }
      ]
    },
    {
      "cell_type": "code",
      "metadata": {
        "colab": {
          "base_uri": "https://localhost:8080/"
        },
        "id": "HokANOzIuR0d",
        "outputId": "2fcaaf11-9d9e-4b03-9967-13d6a6e51397"
      },
      "source": [
        "#Alle Spalten für Patient mit dem Index (1) darsellen\n",
        "df.loc[1]"
      ],
      "execution_count": 35,
      "outputs": [
        {
          "output_type": "execute_result",
          "data": {
            "text/plain": [
              "BIRTHDATE                                                       01.08.2016\n",
              "DEATHDATE                                                              NaN\n",
              "MARITAL                                                                NaN\n",
              "RACE                                                                 white\n",
              "GENDER                                                                   F\n",
              "BIRTHPLACE                                       Boston  Massachusetts  US\n",
              "OBS_DATE                                                        01.08.2019\n",
              "OBS_CODE                                                           72514-3\n",
              "OBS_DESCRIPTION          Pain severity - 0-10 verbal numeric rating [Sc...\n",
              "OBS_VALUE                                                              2.0\n",
              "OBS_UNITS                                                          {score}\n",
              "CON_START                                                       09.08.2011\n",
              "CON_STOP                                                        16.08.2011\n",
              "CON_CODE                                                         444814009\n",
              "CON_DESCRIPTION                                 Viral sinusitis (disorder)\n",
              "MED_START                                                       30.10.2019\n",
              "MED_STOP                                                        13.11.2019\n",
              "MED_CODE                                                            313820\n",
              "MED_DESCRIPTION                       Acetaminophen 160 MG Chewable Tablet\n",
              "MED_DISPENSES                                                            1\n",
              "MED_REASONCODE                                                         NaN\n",
              "MED_REASONDESCRIPTION                                                  NaN\n",
              "Name: 1, dtype: object"
            ]
          },
          "metadata": {
            "tags": []
          },
          "execution_count": 35
        }
      ]
    },
    {
      "cell_type": "markdown",
      "metadata": {
        "id": "WeyMByvnULoM"
      },
      "source": [
        "##Konstrukt 2A: Sind ausreichend Datenpunkte vorhanden?"
      ]
    },
    {
      "cell_type": "markdown",
      "metadata": {
        "id": "Z-k17mmmYKHj"
      },
      "source": [
        "###Merkmal: SARS-CoV-2 Virusnachweis (Anhand OBS_CODE und OBS_VALUE)\n",
        "*Wie häufig taucht der Code 94531-1 in der Spalte OBS_Code auf ind Kombination mit Virusnachweis?*"
      ]
    },
    {
      "cell_type": "code",
      "metadata": {
        "id": "lQYMTjsvSfy7",
        "colab": {
          "base_uri": "https://localhost:8080/",
          "height": 451
        },
        "outputId": "1a688c76-cc30-46bd-a4e0-e6417c147fed"
      },
      "source": [
        "#Selektion aller Patienten mit detektierbarem Virus\n",
        "df.loc[(df['OBS_CODE'] == '94531-1') & (df['OBS_VALUE'] == 'Detected (qualifier value)')]"
      ],
      "execution_count": 36,
      "outputs": [
        {
          "output_type": "execute_result",
          "data": {
            "text/html": [
              "<div>\n",
              "<style scoped>\n",
              "    .dataframe tbody tr th:only-of-type {\n",
              "        vertical-align: middle;\n",
              "    }\n",
              "\n",
              "    .dataframe tbody tr th {\n",
              "        vertical-align: top;\n",
              "    }\n",
              "\n",
              "    .dataframe thead th {\n",
              "        text-align: right;\n",
              "    }\n",
              "</style>\n",
              "<table border=\"1\" class=\"dataframe\">\n",
              "  <thead>\n",
              "    <tr style=\"text-align: right;\">\n",
              "      <th></th>\n",
              "      <th>BIRTHDATE</th>\n",
              "      <th>DEATHDATE</th>\n",
              "      <th>MARITAL</th>\n",
              "      <th>RACE</th>\n",
              "      <th>GENDER</th>\n",
              "      <th>BIRTHPLACE</th>\n",
              "      <th>OBS_DATE</th>\n",
              "      <th>OBS_CODE</th>\n",
              "      <th>OBS_DESCRIPTION</th>\n",
              "      <th>OBS_VALUE</th>\n",
              "      <th>OBS_UNITS</th>\n",
              "      <th>CON_START</th>\n",
              "      <th>CON_STOP</th>\n",
              "      <th>CON_CODE</th>\n",
              "      <th>CON_DESCRIPTION</th>\n",
              "      <th>MED_START</th>\n",
              "      <th>MED_STOP</th>\n",
              "      <th>MED_CODE</th>\n",
              "      <th>MED_DESCRIPTION</th>\n",
              "      <th>MED_DISPENSES</th>\n",
              "      <th>MED_REASONCODE</th>\n",
              "      <th>MED_REASONDESCRIPTION</th>\n",
              "    </tr>\n",
              "  </thead>\n",
              "  <tbody>\n",
              "    <tr>\n",
              "      <th>38</th>\n",
              "      <td>20.09.1986</td>\n",
              "      <td>NaN</td>\n",
              "      <td>M</td>\n",
              "      <td>Alien</td>\n",
              "      <td>F</td>\n",
              "      <td>Granby  Massachusetts  US</td>\n",
              "      <td>01.03.2020</td>\n",
              "      <td>94531-1</td>\n",
              "      <td>SARS-CoV-2 RNA Pnl Resp NAA+probe</td>\n",
              "      <td>Detected (qualifier value)</td>\n",
              "      <td>NaN</td>\n",
              "      <td>13.09.2017</td>\n",
              "      <td>18.04.2018</td>\n",
              "      <td>271737000</td>\n",
              "      <td>Anemia (disorder)</td>\n",
              "      <td>23.11.2013</td>\n",
              "      <td>05.04.2014</td>\n",
              "      <td>310798.0</td>\n",
              "      <td>Hydrochlorothiazide 25 MG Oral Tablet</td>\n",
              "      <td>4.0</td>\n",
              "      <td>59621000.0</td>\n",
              "      <td>Hypertension</td>\n",
              "    </tr>\n",
              "    <tr>\n",
              "      <th>82</th>\n",
              "      <td>22.07.1984</td>\n",
              "      <td>NaN</td>\n",
              "      <td>S</td>\n",
              "      <td>white</td>\n",
              "      <td>F</td>\n",
              "      <td>Santiago de los Caballeros  Santiago  DO</td>\n",
              "      <td>13.03.2020</td>\n",
              "      <td>94531-1</td>\n",
              "      <td>SARS-CoV-2 RNA Pnl Resp NAA+probe</td>\n",
              "      <td>Detected (qualifier value)</td>\n",
              "      <td>NaN</td>\n",
              "      <td>06.08.2012</td>\n",
              "      <td>27.08.2012</td>\n",
              "      <td>39848009</td>\n",
              "      <td>Whiplash injury to neck</td>\n",
              "      <td>13.10.2017</td>\n",
              "      <td>20.10.2017</td>\n",
              "      <td>312961.0</td>\n",
              "      <td>Simvastatin 20 MG Oral Tablet</td>\n",
              "      <td>1.0</td>\n",
              "      <td>NaN</td>\n",
              "      <td>NaN</td>\n",
              "    </tr>\n",
              "    <tr>\n",
              "      <th>126</th>\n",
              "      <td>09.08.1958</td>\n",
              "      <td>NaN</td>\n",
              "      <td>M</td>\n",
              "      <td>white</td>\n",
              "      <td>M</td>\n",
              "      <td>Worcester  Massachusetts  US</td>\n",
              "      <td>11.03.2020</td>\n",
              "      <td>94531-1</td>\n",
              "      <td>SARS-CoV-2 RNA Pnl Resp NAA+probe</td>\n",
              "      <td>Detected (qualifier value)</td>\n",
              "      <td>NaN</td>\n",
              "      <td>31.07.2011</td>\n",
              "      <td>07.08.2011</td>\n",
              "      <td>444814009</td>\n",
              "      <td>Viral sinusitis (disorder)</td>\n",
              "      <td>09.07.2013</td>\n",
              "      <td>14.01.2014</td>\n",
              "      <td>895994.0</td>\n",
              "      <td>120 ACTUAT Fluticasone propionate 0.044 MG/ACT...</td>\n",
              "      <td>6.0</td>\n",
              "      <td>233678006.0</td>\n",
              "      <td>Childhood asthma</td>\n",
              "    </tr>\n",
              "    <tr>\n",
              "      <th>153</th>\n",
              "      <td>21.08.2001</td>\n",
              "      <td>NaN</td>\n",
              "      <td>NaN</td>\n",
              "      <td>white</td>\n",
              "      <td>M</td>\n",
              "      <td>Greenfield  Massachusetts  US</td>\n",
              "      <td>02.03.2020</td>\n",
              "      <td>94531-1</td>\n",
              "      <td>SARS-CoV-2 RNA Pnl Resp NAA+probe</td>\n",
              "      <td>Detected (qualifier value)</td>\n",
              "      <td>NaN</td>\n",
              "      <td>17.07.2017</td>\n",
              "      <td>NaN</td>\n",
              "      <td>15777000</td>\n",
              "      <td>Prediabetes</td>\n",
              "      <td>30.03.2020</td>\n",
              "      <td>NaN</td>\n",
              "      <td>807283.0</td>\n",
              "      <td>Mirena 52 MG Intrauterine System</td>\n",
              "      <td>2.0</td>\n",
              "      <td>NaN</td>\n",
              "      <td>NaN</td>\n",
              "    </tr>\n",
              "    <tr>\n",
              "      <th>166</th>\n",
              "      <td>30.05.1993</td>\n",
              "      <td>NaN</td>\n",
              "      <td>NaN</td>\n",
              "      <td>white</td>\n",
              "      <td>F</td>\n",
              "      <td>Cambridge  Massachusetts  US</td>\n",
              "      <td>02.03.2020</td>\n",
              "      <td>94531-1</td>\n",
              "      <td>SARS-CoV-2 RNA Pnl Resp NAA+probe</td>\n",
              "      <td>Detected (qualifier value)</td>\n",
              "      <td>NaN</td>\n",
              "      <td>28.05.1989</td>\n",
              "      <td>NaN</td>\n",
              "      <td>15777000</td>\n",
              "      <td>Prediabetes</td>\n",
              "      <td>25.07.1980</td>\n",
              "      <td>31.07.1981</td>\n",
              "      <td>310798.0</td>\n",
              "      <td>Hydrochlorothiazide 25 MG Oral Tablet</td>\n",
              "      <td>12.0</td>\n",
              "      <td>59621000.0</td>\n",
              "      <td>Hypertension</td>\n",
              "    </tr>\n",
              "    <tr>\n",
              "      <th>250</th>\n",
              "      <td>26.10.1980</td>\n",
              "      <td>NaN</td>\n",
              "      <td>M</td>\n",
              "      <td>white</td>\n",
              "      <td>M</td>\n",
              "      <td>Boston  Massachusetts  US</td>\n",
              "      <td>19.02.2020</td>\n",
              "      <td>94531-1</td>\n",
              "      <td>SARS-CoV-2 RNA Pnl Resp NAA+probe</td>\n",
              "      <td>Detected (qualifier value)</td>\n",
              "      <td>NaN</td>\n",
              "      <td>17.07.2016</td>\n",
              "      <td>24.07.2016</td>\n",
              "      <td>444814009</td>\n",
              "      <td>Viral sinusitis (disorder)</td>\n",
              "      <td>27.05.2015</td>\n",
              "      <td>26.05.2016</td>\n",
              "      <td>314231.0</td>\n",
              "      <td>Simvastatin 10 MG Oral Tablet</td>\n",
              "      <td>12.0</td>\n",
              "      <td>55822004.0</td>\n",
              "      <td>Hyperlipidemia</td>\n",
              "    </tr>\n",
              "  </tbody>\n",
              "</table>\n",
              "</div>"
            ],
            "text/plain": [
              "      BIRTHDATE DEATHDATE  ... MED_REASONCODE MED_REASONDESCRIPTION\n",
              "38   20.09.1986       NaN  ...     59621000.0          Hypertension\n",
              "82   22.07.1984       NaN  ...            NaN                   NaN\n",
              "126  09.08.1958       NaN  ...    233678006.0      Childhood asthma\n",
              "153  21.08.2001       NaN  ...            NaN                   NaN\n",
              "166  30.05.1993       NaN  ...     59621000.0          Hypertension\n",
              "250  26.10.1980       NaN  ...     55822004.0        Hyperlipidemia\n",
              "\n",
              "[6 rows x 22 columns]"
            ]
          },
          "metadata": {
            "tags": []
          },
          "execution_count": 36
        }
      ]
    },
    {
      "cell_type": "markdown",
      "metadata": {
        "id": "mRjfWCLNYIDi"
      },
      "source": [
        "##Merkmal: Ethnie (RACE)"
      ]
    },
    {
      "cell_type": "code",
      "metadata": {
        "colab": {
          "base_uri": "https://localhost:8080/"
        },
        "id": "nDgcQ6aCQY0r",
        "outputId": "2154f25a-36a0-482b-818d-cd759b32ff5e"
      },
      "source": [
        "#Zählen der verscheinden RACE Merkmale\n",
        "df['RACE'].value_counts()"
      ],
      "execution_count": 37,
      "outputs": [
        {
          "output_type": "execute_result",
          "data": {
            "text/plain": [
              "white     399\n",
              "asian      39\n",
              "black      35\n",
              "w           9\n",
              "native      7\n",
              "w           3\n",
              "Alien       3\n",
              "Name: RACE, dtype: int64"
            ]
          },
          "metadata": {
            "tags": []
          },
          "execution_count": 37
        }
      ]
    },
    {
      "cell_type": "code",
      "metadata": {
        "id": "d95dgsHRRNDx",
        "colab": {
          "base_uri": "https://localhost:8080/",
          "height": 301
        },
        "outputId": "327a93a3-943d-4f2f-d31b-16eb618aca63"
      },
      "source": [
        "sns.countplot(x='RACE', data=df)\n",
        "plt.title('RACE distribution')\n",
        "plt.show()"
      ],
      "execution_count": 38,
      "outputs": [
        {
          "output_type": "display_data",
          "data": {
            "image/png": "[encoded data removed]",
            "text/plain": [
              "<Figure size 432x288 with 1 Axes>"
            ]
          },
          "metadata": {
            "tags": [],
            "needs_background": "light"
          }
        }
      ]
    },
    {
      "cell_type": "markdown",
      "metadata": {
        "id": "V87HzayhUtvB"
      },
      "source": [
        "##Konstrukt 2B: Besteht ein Zusammenhang zwischen Datenpunkten?"
      ]
    },
    {
      "cell_type": "markdown",
      "metadata": {
        "id": "VCLTBf0KHwaC"
      },
      "source": [
        "###Beispiel: Todesdatum muss NACH dem Beginn der Behandlung liegen "
      ]
    },
    {
      "cell_type": "code",
      "metadata": {
        "id": "TOd4vCin4-ki"
      },
      "source": [
        "#print(df.dtypes)"
      ],
      "execution_count": 39,
      "outputs": []
    },
    {
      "cell_type": "markdown",
      "metadata": {
        "id": "10Qv6RSHWF8B"
      },
      "source": [
        "###Überführung der Objekte in den DATE Spalten in Python datetime Objekte64"
      ]
    },
    {
      "cell_type": "code",
      "metadata": {
        "id": "Zoncc1Wh6pmo"
      },
      "source": [
        "#Überführung der Objekte in den DATE Spalten in Python datetime Objekte64\n",
        "df[\"BIRTHDATE\"] = pd.to_datetime(df[\"BIRTHDATE\"])\n",
        "df[\"DEATHDATE\"] = pd.to_datetime(df[\"DEATHDATE\"])\n",
        "df[\"MED_START\"] = pd.to_datetime(df[\"MED_START\"])"
      ],
      "execution_count": 40,
      "outputs": []
    },
    {
      "cell_type": "code",
      "metadata": {
        "id": "o_VynZEbDk4f"
      },
      "source": [
        "#df[\"OBS_DATE\"] = pd.to_datetime(df[\"OBS_DATE\"])\n",
        "#df[\"CON_START\"] = pd.to_datetime(df[\"CON_START\"])\n",
        "#df[\"CON_STOP\"] = pd.to_datetime(df[\"CON_STOP\"])\n",
        "#df[\"MED_STOP\"] = pd.to_datetime(df[\"MED_STOP\"])"
      ],
      "execution_count": 41,
      "outputs": []
    },
    {
      "cell_type": "code",
      "metadata": {
        "colab": {
          "base_uri": "https://localhost:8080/"
        },
        "id": "VbqCjoa6DbIi",
        "outputId": "7886299c-7b72-4ff8-9fd0-fba39c808673"
      },
      "source": [
        "print(df.dtypes)"
      ],
      "execution_count": 42,
      "outputs": [
        {
          "output_type": "stream",
          "text": [
            "BIRTHDATE                datetime64[ns]\n",
            "DEATHDATE                datetime64[ns]\n",
            "MARITAL                          object\n",
            "RACE                             object\n",
            "GENDER                           object\n",
            "BIRTHPLACE                       object\n",
            "OBS_DATE                         object\n",
            "OBS_CODE                         object\n",
            "OBS_DESCRIPTION                  object\n",
            "OBS_VALUE                        object\n",
            "OBS_UNITS                        object\n",
            "CON_START                        object\n",
            "CON_STOP                         object\n",
            "CON_CODE                         object\n",
            "CON_DESCRIPTION                  object\n",
            "MED_START                datetime64[ns]\n",
            "MED_STOP                         object\n",
            "MED_CODE                        float64\n",
            "MED_DESCRIPTION                  object\n",
            "MED_DISPENSES                   float64\n",
            "MED_REASONCODE                  float64\n",
            "MED_REASONDESCRIPTION            object\n",
            "dtype: object\n"
          ],
          "name": "stdout"
        }
      ]
    },
    {
      "cell_type": "markdown",
      "metadata": {
        "id": "rQNl_PzpIAD3"
      },
      "source": [
        "###Identifikation der verstorbenen Patienten"
      ]
    },
    {
      "cell_type": "code",
      "metadata": {
        "id": "69tYEk71GxAf"
      },
      "source": [
        "deceased_patients = df[df.DEATHDATE.notna()]"
      ],
      "execution_count": 43,
      "outputs": []
    },
    {
      "cell_type": "code",
      "metadata": {
        "colab": {
          "base_uri": "https://localhost:8080/",
          "height": 785
        },
        "id": "mFnqy_MIG5RX",
        "outputId": "52d70e63-d324-4b90-fd6c-f9bc548163c2"
      },
      "source": [
        "deceased_patients"
      ],
      "execution_count": 44,
      "outputs": [
        {
          "output_type": "execute_result",
          "data": {
            "text/html": [
              "<div>\n",
              "<style scoped>\n",
              "    .dataframe tbody tr th:only-of-type {\n",
              "        vertical-align: middle;\n",
              "    }\n",
              "\n",
              "    .dataframe tbody tr th {\n",
              "        vertical-align: top;\n",
              "    }\n",
              "\n",
              "    .dataframe thead th {\n",
              "        text-align: right;\n",
              "    }\n",
              "</style>\n",
              "<table border=\"1\" class=\"dataframe\">\n",
              "  <thead>\n",
              "    <tr style=\"text-align: right;\">\n",
              "      <th></th>\n",
              "      <th>BIRTHDATE</th>\n",
              "      <th>DEATHDATE</th>\n",
              "      <th>MARITAL</th>\n",
              "      <th>RACE</th>\n",
              "      <th>GENDER</th>\n",
              "      <th>BIRTHPLACE</th>\n",
              "      <th>OBS_DATE</th>\n",
              "      <th>OBS_CODE</th>\n",
              "      <th>OBS_DESCRIPTION</th>\n",
              "      <th>OBS_VALUE</th>\n",
              "      <th>OBS_UNITS</th>\n",
              "      <th>CON_START</th>\n",
              "      <th>CON_STOP</th>\n",
              "      <th>CON_CODE</th>\n",
              "      <th>CON_DESCRIPTION</th>\n",
              "      <th>MED_START</th>\n",
              "      <th>MED_STOP</th>\n",
              "      <th>MED_CODE</th>\n",
              "      <th>MED_DESCRIPTION</th>\n",
              "      <th>MED_DISPENSES</th>\n",
              "      <th>MED_REASONCODE</th>\n",
              "      <th>MED_REASONDESCRIPTION</th>\n",
              "    </tr>\n",
              "  </thead>\n",
              "  <tbody>\n",
              "    <tr>\n",
              "      <th>11</th>\n",
              "      <td>1970-06-13</td>\n",
              "      <td>2016-07-05</td>\n",
              "      <td>S</td>\n",
              "      <td>white</td>\n",
              "      <td>F</td>\n",
              "      <td>Santiago  Santiago Province  CL</td>\n",
              "      <td>30.01.2020</td>\n",
              "      <td>72514-3</td>\n",
              "      <td>Pain severity - 0-10 verbal numeric rating [Sc...</td>\n",
              "      <td>4.0</td>\n",
              "      <td>{score}</td>\n",
              "      <td>20.03.2019</td>\n",
              "      <td>10.04.2019</td>\n",
              "      <td>444814009</td>\n",
              "      <td>Viral sinusitis (disorder)</td>\n",
              "      <td>2017-03-10</td>\n",
              "      <td>09.10.2018</td>\n",
              "      <td>999967.0</td>\n",
              "      <td>amLODIPine 5 MG / Hydrochlorothiazide 12.5 MG ...</td>\n",
              "      <td>12.0</td>\n",
              "      <td>59621000.0</td>\n",
              "      <td>Hypertension</td>\n",
              "    </tr>\n",
              "    <tr>\n",
              "      <th>42</th>\n",
              "      <td>1959-06-17</td>\n",
              "      <td>2020-11-03</td>\n",
              "      <td>M</td>\n",
              "      <td>w</td>\n",
              "      <td>M</td>\n",
              "      <td>Worcester  Massachusetts  US</td>\n",
              "      <td>08.07.2019</td>\n",
              "      <td>8302-2</td>\n",
              "      <td>Body Height</td>\n",
              "      <td>94.2</td>\n",
              "      <td>cm</td>\n",
              "      <td>01.05.2019</td>\n",
              "      <td>NaN</td>\n",
              "      <td>19169002</td>\n",
              "      <td>Miscarriage in first trimester</td>\n",
              "      <td>2016-10-12</td>\n",
              "      <td>16.12.2017</td>\n",
              "      <td>310798.0</td>\n",
              "      <td>Hydrochlorothiazide 25 MG Oral Tablet</td>\n",
              "      <td>12.0</td>\n",
              "      <td>59621000.0</td>\n",
              "      <td>Hypertension</td>\n",
              "    </tr>\n",
              "    <tr>\n",
              "      <th>62</th>\n",
              "      <td>1940-03-05</td>\n",
              "      <td>2010-04-20</td>\n",
              "      <td>M</td>\n",
              "      <td>white</td>\n",
              "      <td>F</td>\n",
              "      <td>Hopedale  Massachusetts  US</td>\n",
              "      <td>06.01.2020</td>\n",
              "      <td>8480-6</td>\n",
              "      <td>Systolic Blood Pressure</td>\n",
              "      <td>112.0</td>\n",
              "      <td>mm[Hg]</td>\n",
              "      <td>03.11.2016</td>\n",
              "      <td>17.11.2016</td>\n",
              "      <td>10509002</td>\n",
              "      <td>Acute bronchitis (disorder)</td>\n",
              "      <td>2012-01-25</td>\n",
              "      <td>30.01.2013</td>\n",
              "      <td>429503.0</td>\n",
              "      <td>Hydrochlorothiazide 12.5 MG</td>\n",
              "      <td>12.0</td>\n",
              "      <td>59621000.0</td>\n",
              "      <td>Hypertension</td>\n",
              "    </tr>\n",
              "    <tr>\n",
              "      <th>72</th>\n",
              "      <td>1940-09-01</td>\n",
              "      <td>2020-03-15</td>\n",
              "      <td>M</td>\n",
              "      <td>white</td>\n",
              "      <td>M</td>\n",
              "      <td>Chelsea  Massachusetts  US</td>\n",
              "      <td>13.03.2020</td>\n",
              "      <td>29463-7</td>\n",
              "      <td>Body Weight</td>\n",
              "      <td>15. Aug</td>\n",
              "      <td>kg</td>\n",
              "      <td>15.05.2017</td>\n",
              "      <td>22.05.2017</td>\n",
              "      <td>444814009</td>\n",
              "      <td>Viral sinusitis (disorder)</td>\n",
              "      <td>2019-06-03</td>\n",
              "      <td>11.03.2020</td>\n",
              "      <td>429503.0</td>\n",
              "      <td>Hydrochlorothiazide 12.5 MG</td>\n",
              "      <td>12.0</td>\n",
              "      <td>59621000.0</td>\n",
              "      <td>Hypertension</td>\n",
              "    </tr>\n",
              "    <tr>\n",
              "      <th>80</th>\n",
              "      <td>1964-06-09</td>\n",
              "      <td>1999-08-29</td>\n",
              "      <td>M</td>\n",
              "      <td>white</td>\n",
              "      <td>M</td>\n",
              "      <td>Arlington  Massachusetts  US</td>\n",
              "      <td>13.03.2020</td>\n",
              "      <td>92134-6</td>\n",
              "      <td>Human metapneumovirus RNA [Presence] in Respir...</td>\n",
              "      <td>Negative (qualifier value)</td>\n",
              "      <td>NaN</td>\n",
              "      <td>27.06.2010</td>\n",
              "      <td>18.07.2010</td>\n",
              "      <td>44465007</td>\n",
              "      <td>Sprain of ankle</td>\n",
              "      <td>2017-10-13</td>\n",
              "      <td>20.10.2017</td>\n",
              "      <td>309362.0</td>\n",
              "      <td>Clopidogrel 75 MG Oral Tablet</td>\n",
              "      <td>1.0</td>\n",
              "      <td>NaN</td>\n",
              "      <td>NaN</td>\n",
              "    </tr>\n",
              "    <tr>\n",
              "      <th>...</th>\n",
              "      <td>...</td>\n",
              "      <td>...</td>\n",
              "      <td>...</td>\n",
              "      <td>...</td>\n",
              "      <td>...</td>\n",
              "      <td>...</td>\n",
              "      <td>...</td>\n",
              "      <td>...</td>\n",
              "      <td>...</td>\n",
              "      <td>...</td>\n",
              "      <td>...</td>\n",
              "      <td>...</td>\n",
              "      <td>...</td>\n",
              "      <td>...</td>\n",
              "      <td>...</td>\n",
              "      <td>...</td>\n",
              "      <td>...</td>\n",
              "      <td>...</td>\n",
              "      <td>...</td>\n",
              "      <td>...</td>\n",
              "      <td>...</td>\n",
              "      <td>...</td>\n",
              "    </tr>\n",
              "    <tr>\n",
              "      <th>463</th>\n",
              "      <td>1939-07-20</td>\n",
              "      <td>1990-06-12</td>\n",
              "      <td>M</td>\n",
              "      <td>white</td>\n",
              "      <td>M</td>\n",
              "      <td>Boston  Massachusetts  US</td>\n",
              "      <td>23.02.2020</td>\n",
              "      <td>2951-2</td>\n",
              "      <td>Sodium [Moles/volume] in Serum or Plasma</td>\n",
              "      <td>141.7</td>\n",
              "      <td>mmol/L</td>\n",
              "      <td>04.02.1958</td>\n",
              "      <td>NaN</td>\n",
              "      <td>59621000</td>\n",
              "      <td>Hypertension</td>\n",
              "      <td>2020-03-26</td>\n",
              "      <td>09.04.2020</td>\n",
              "      <td>313782.0</td>\n",
              "      <td>Acetaminophen 325 MG Oral Tablet</td>\n",
              "      <td>1.0</td>\n",
              "      <td>10509002.0</td>\n",
              "      <td>Acute bronchitis (disorder)</td>\n",
              "    </tr>\n",
              "    <tr>\n",
              "      <th>470</th>\n",
              "      <td>1913-06-27</td>\n",
              "      <td>2020-12-03</td>\n",
              "      <td>M</td>\n",
              "      <td>black</td>\n",
              "      <td>M</td>\n",
              "      <td>Boston  Massachusetts  US</td>\n",
              "      <td>23.02.2020</td>\n",
              "      <td>1975-2</td>\n",
              "      <td>Bilirubin.total [Mass/volume] in Serum or Plasma</td>\n",
              "      <td>14.0</td>\n",
              "      <td>mg/dL</td>\n",
              "      <td>25.12.2014</td>\n",
              "      <td>08.01.2015</td>\n",
              "      <td>44465007</td>\n",
              "      <td>Sprain of ankle</td>\n",
              "      <td>1998-04-22</td>\n",
              "      <td>12.08.1998</td>\n",
              "      <td>429503.0</td>\n",
              "      <td>Hydrochlorothiazide 12.5 MG</td>\n",
              "      <td>3.0</td>\n",
              "      <td>59621000.0</td>\n",
              "      <td>Hypertension</td>\n",
              "    </tr>\n",
              "    <tr>\n",
              "      <th>492</th>\n",
              "      <td>1955-02-04</td>\n",
              "      <td>2019-05-14</td>\n",
              "      <td>M</td>\n",
              "      <td>white</td>\n",
              "      <td>M</td>\n",
              "      <td>Revere  Massachusetts  US</td>\n",
              "      <td>24.02.2020</td>\n",
              "      <td>718-7</td>\n",
              "      <td>Hemoglobin [Mass/volume] in Blood</td>\n",
              "      <td>12. Mrz</td>\n",
              "      <td>g/dL</td>\n",
              "      <td>21.03.1967</td>\n",
              "      <td>NaN</td>\n",
              "      <td>74400008</td>\n",
              "      <td>Appendicitis</td>\n",
              "      <td>2018-05-12</td>\n",
              "      <td>11.12.2019</td>\n",
              "      <td>429503.0</td>\n",
              "      <td>Hydrochlorothiazide 12.5 MG</td>\n",
              "      <td>12.0</td>\n",
              "      <td>59621000.0</td>\n",
              "      <td>Hypertension</td>\n",
              "    </tr>\n",
              "    <tr>\n",
              "      <th>493</th>\n",
              "      <td>1935-11-09</td>\n",
              "      <td>1997-05-04</td>\n",
              "      <td>S</td>\n",
              "      <td>white</td>\n",
              "      <td>M</td>\n",
              "      <td>Lynn  Massachusetts  US</td>\n",
              "      <td>24.02.2020</td>\n",
              "      <td>4544-3</td>\n",
              "      <td>Hematocrit [Volume Fraction] of Blood by Autom...</td>\n",
              "      <td>45.7</td>\n",
              "      <td>%</td>\n",
              "      <td>21.03.1967</td>\n",
              "      <td>NaN</td>\n",
              "      <td>428251008</td>\n",
              "      <td>History of appendectomy</td>\n",
              "      <td>2019-11-12</td>\n",
              "      <td>NaN</td>\n",
              "      <td>429503.0</td>\n",
              "      <td>Hydrochlorothiazide 12.5 MG</td>\n",
              "      <td>5.0</td>\n",
              "      <td>59621000.0</td>\n",
              "      <td>Hypertension</td>\n",
              "    </tr>\n",
              "    <tr>\n",
              "      <th>494</th>\n",
              "      <td>1913-06-27</td>\n",
              "      <td>1996-03-25</td>\n",
              "      <td>M</td>\n",
              "      <td>black</td>\n",
              "      <td>M</td>\n",
              "      <td>Millis  Massachusetts  US</td>\n",
              "      <td>24.02.2020</td>\n",
              "      <td>787-2</td>\n",
              "      <td>MCV [Entitic volume] by Automated count</td>\n",
              "      <td>89.3</td>\n",
              "      <td>fL</td>\n",
              "      <td>12.06.1977</td>\n",
              "      <td>NaN</td>\n",
              "      <td>370143000</td>\n",
              "      <td>Major depression disorder</td>\n",
              "      <td>1977-09-09</td>\n",
              "      <td>16.08.1978</td>\n",
              "      <td>746030.0</td>\n",
              "      <td>Atenolol 50 MG / Chlorthalidone 25 MG Oral Tablet</td>\n",
              "      <td>11.0</td>\n",
              "      <td>59621000.0</td>\n",
              "      <td>Hypertension</td>\n",
              "    </tr>\n",
              "  </tbody>\n",
              "</table>\n",
              "<p>70 rows × 22 columns</p>\n",
              "</div>"
            ],
            "text/plain": [
              "     BIRTHDATE  DEATHDATE  ... MED_REASONCODE        MED_REASONDESCRIPTION\n",
              "11  1970-06-13 2016-07-05  ...     59621000.0                 Hypertension\n",
              "42  1959-06-17 2020-11-03  ...     59621000.0                 Hypertension\n",
              "62  1940-03-05 2010-04-20  ...     59621000.0                 Hypertension\n",
              "72  1940-09-01 2020-03-15  ...     59621000.0                 Hypertension\n",
              "80  1964-06-09 1999-08-29  ...            NaN                          NaN\n",
              "..         ...        ...  ...            ...                          ...\n",
              "463 1939-07-20 1990-06-12  ...     10509002.0  Acute bronchitis (disorder)\n",
              "470 1913-06-27 2020-12-03  ...     59621000.0                 Hypertension\n",
              "492 1955-02-04 2019-05-14  ...     59621000.0                 Hypertension\n",
              "493 1935-11-09 1997-05-04  ...     59621000.0                 Hypertension\n",
              "494 1913-06-27 1996-03-25  ...     59621000.0                 Hypertension\n",
              "\n",
              "[70 rows x 22 columns]"
            ]
          },
          "metadata": {
            "tags": []
          },
          "execution_count": 44
        }
      ]
    },
    {
      "cell_type": "markdown",
      "metadata": {
        "id": "OVrgXsqVWVr5"
      },
      "source": [
        "70 Patienten sind verstorben."
      ]
    },
    {
      "cell_type": "markdown",
      "metadata": {
        "id": "H28KinqBIHRE"
      },
      "source": [
        "### Differenz zwischen DEATHDATE und MED_START"
      ]
    },
    {
      "cell_type": "code",
      "metadata": {
        "id": "IL51XOjIPMSp"
      },
      "source": [
        "pd.options.mode.chained_assignment = None  # default='warn'"
      ],
      "execution_count": 45,
      "outputs": []
    },
    {
      "cell_type": "markdown",
      "metadata": {
        "id": "6YXcuN4QSpa7"
      },
      "source": [
        "Die Differenz zwischen den beiden Daten wurde berechnent. Positive Werte geben an, dass die Medikation NACH dem Sterbedatum angesetzt wurde:"
      ]
    },
    {
      "cell_type": "code",
      "metadata": {
        "id": "_iZxU5sPILeu",
        "colab": {
          "base_uri": "https://localhost:8080/"
        },
        "outputId": "e6232881-07d9-47d1-df35-313f8c70bcb4"
      },
      "source": [
        "deceased_patients['Val_Diff'] = deceased_patients['MED_START'] - deceased_patients['DEATHDATE'] "
      ],
      "execution_count": 46,
      "outputs": [
        {
          "output_type": "stream",
          "text": [
            "/usr/local/lib/python3.7/dist-packages/ipykernel_launcher.py:1: SettingWithCopyWarning: \n",
            "A value is trying to be set on a copy of a slice from a DataFrame.\n",
            "Try using .loc[row_indexer,col_indexer] = value instead\n",
            "\n",
            "See the caveats in the documentation: https://pandas.pydata.org/pandas-docs/stable/user_guide/indexing.html#returning-a-view-versus-a-copy\n",
            "  \"\"\"Entry point for launching an IPython kernel.\n"
          ],
          "name": "stderr"
        }
      ]
    },
    {
      "cell_type": "code",
      "metadata": {
        "id": "CnkQIHQAQiF5",
        "colab": {
          "base_uri": "https://localhost:8080/"
        },
        "outputId": "9e38a383-f765-49eb-b8bd-ba567003b97c"
      },
      "source": [
        "#Transformation der Val_Diff werte in Tage\n",
        "deceased_patients['time_diff_days'] = deceased_patients[\"Val_Diff\"].dt.days"
      ],
      "execution_count": 47,
      "outputs": [
        {
          "output_type": "stream",
          "text": [
            "/usr/local/lib/python3.7/dist-packages/ipykernel_launcher.py:2: SettingWithCopyWarning: \n",
            "A value is trying to be set on a copy of a slice from a DataFrame.\n",
            "Try using .loc[row_indexer,col_indexer] = value instead\n",
            "\n",
            "See the caveats in the documentation: https://pandas.pydata.org/pandas-docs/stable/user_guide/indexing.html#returning-a-view-versus-a-copy\n",
            "  \n"
          ],
          "name": "stderr"
        }
      ]
    },
    {
      "cell_type": "code",
      "metadata": {
        "id": "2wbj7H2UQ2gT"
      },
      "source": [
        "deceased_patients_true = deceased_patients.loc[deceased_patients['time_diff_days'] < 0]"
      ],
      "execution_count": 48,
      "outputs": []
    },
    {
      "cell_type": "code",
      "metadata": {
        "colab": {
          "base_uri": "https://localhost:8080/"
        },
        "id": "YVk2OpgnRf10",
        "outputId": "7bbc41b5-9417-4a62-a95b-186fb70b20cc"
      },
      "source": [
        "deceased_patients_true.head"
      ],
      "execution_count": 49,
      "outputs": [
        {
          "output_type": "execute_result",
          "data": {
            "text/plain": [
              "<bound method NDFrame.head of      BIRTHDATE  DEATHDATE  ...    Val_Diff time_diff_days\n",
              "42  1959-06-17 2020-11-03  ...  -1483 days          -1483\n",
              "72  1940-09-01 2020-03-15  ...   -286 days           -286\n",
              "93  1940-09-01 2020-03-19  ...   -158 days           -158\n",
              "107 1973-01-21 2007-09-23  ...   -663 days           -663\n",
              "111 1940-09-01 2015-01-27  ...  -2633 days          -2633\n",
              "115 1959-03-01 2020-03-15  ...  -3736 days          -3736\n",
              "123 1940-09-01 2020-02-20  ...  -2394 days          -2394\n",
              "169 1950-04-13 2001-11-12  ...  -7052 days          -7052\n",
              "178 1972-12-23 2001-12-19  ...  -5269 days          -5269\n",
              "180 1950-04-13 2006-06-05  ...  -6478 days          -6478\n",
              "256 1923-12-06 1988-04-01  ...  -4815 days          -4815\n",
              "259 1927-05-22 2014-03-22  ... -13504 days         -13504\n",
              "264 1923-07-20 2002-03-15  ...  -8459 days          -8459\n",
              "270 1974-01-06 2011-06-25  ... -10735 days         -10735\n",
              "273 1927-05-22 2008-09-12  ...  -8977 days          -8977\n",
              "279 1923-07-20 1995-07-21  ...  -3433 days          -3433\n",
              "291 1927-05-22 1996-12-22  ...  -1727 days          -1727\n",
              "308 1980-03-13 2017-07-04  ...  -6258 days          -6258\n",
              "319 1959-02-16 2018-09-24  ...  -4479 days          -4479\n",
              "340 1927-05-22 2019-07-12  ...  -2173 days          -2173\n",
              "374 1927-05-22 2019-06-23  ...    -22 days            -22\n",
              "380 1969-04-11 2020-03-20  ...   -191 days           -191\n",
              "384 1962-02-11 2020-03-19  ... -12110 days         -12110\n",
              "387 1969-04-11 2002-04-26  ...  -4285 days          -4285\n",
              "392 1940-11-26 2011-02-08  ...  -5637 days          -5637\n",
              "428 1942-06-20 2000-12-24  ...  -3942 days          -3942\n",
              "432 1940-11-06 2020-03-24  ...  -9281 days          -9281\n",
              "447 1940-11-06 2014-12-25  ...  -2171 days          -2171\n",
              "462 1952-03-29 2015-04-19  ...    -18 days            -18\n",
              "470 1913-06-27 2020-12-03  ...  -8261 days          -8261\n",
              "492 1955-02-04 2019-05-14  ...   -367 days           -367\n",
              "494 1913-06-27 1996-03-25  ...  -6772 days          -6772\n",
              "\n",
              "[32 rows x 24 columns]>"
            ]
          },
          "metadata": {
            "tags": []
          },
          "execution_count": 49
        }
      ]
    },
    {
      "cell_type": "markdown",
      "metadata": {
        "id": "-J2oUrUBsjM2"
      },
      "source": [
        "Verstorbene Patienten, die Medikation nach Todesdatum erhalten haben:"
      ]
    },
    {
      "cell_type": "code",
      "metadata": {
        "id": "L4fKx5MFsm5a"
      },
      "source": [
        "deceased_patients_false = deceased_patients.loc[deceased_patients['time_diff_days'] > 0]"
      ],
      "execution_count": 50,
      "outputs": []
    },
    {
      "cell_type": "code",
      "metadata": {
        "colab": {
          "base_uri": "https://localhost:8080/",
          "height": 1000
        },
        "id": "DO0TFN3nssrK",
        "outputId": "6c47ccb6-a7b3-48a5-b094-eccbf7b31343"
      },
      "source": [
        "deceased_patients_false"
      ],
      "execution_count": 51,
      "outputs": [
        {
          "output_type": "execute_result",
          "data": {
            "text/html": [
              "<div>\n",
              "<style scoped>\n",
              "    .dataframe tbody tr th:only-of-type {\n",
              "        vertical-align: middle;\n",
              "    }\n",
              "\n",
              "    .dataframe tbody tr th {\n",
              "        vertical-align: top;\n",
              "    }\n",
              "\n",
              "    .dataframe thead th {\n",
              "        text-align: right;\n",
              "    }\n",
              "</style>\n",
              "<table border=\"1\" class=\"dataframe\">\n",
              "  <thead>\n",
              "    <tr style=\"text-align: right;\">\n",
              "      <th></th>\n",
              "      <th>BIRTHDATE</th>\n",
              "      <th>DEATHDATE</th>\n",
              "      <th>MARITAL</th>\n",
              "      <th>RACE</th>\n",
              "      <th>GENDER</th>\n",
              "      <th>BIRTHPLACE</th>\n",
              "      <th>OBS_DATE</th>\n",
              "      <th>OBS_CODE</th>\n",
              "      <th>OBS_DESCRIPTION</th>\n",
              "      <th>OBS_VALUE</th>\n",
              "      <th>OBS_UNITS</th>\n",
              "      <th>CON_START</th>\n",
              "      <th>CON_STOP</th>\n",
              "      <th>CON_CODE</th>\n",
              "      <th>CON_DESCRIPTION</th>\n",
              "      <th>MED_START</th>\n",
              "      <th>MED_STOP</th>\n",
              "      <th>MED_CODE</th>\n",
              "      <th>MED_DESCRIPTION</th>\n",
              "      <th>MED_DISPENSES</th>\n",
              "      <th>MED_REASONCODE</th>\n",
              "      <th>MED_REASONDESCRIPTION</th>\n",
              "      <th>Val_Diff</th>\n",
              "      <th>time_diff_days</th>\n",
              "    </tr>\n",
              "  </thead>\n",
              "  <tbody>\n",
              "    <tr>\n",
              "      <th>11</th>\n",
              "      <td>1970-06-13</td>\n",
              "      <td>2016-07-05</td>\n",
              "      <td>S</td>\n",
              "      <td>white</td>\n",
              "      <td>F</td>\n",
              "      <td>Santiago  Santiago Province  CL</td>\n",
              "      <td>30.01.2020</td>\n",
              "      <td>72514-3</td>\n",
              "      <td>Pain severity - 0-10 verbal numeric rating [Sc...</td>\n",
              "      <td>4.0</td>\n",
              "      <td>{score}</td>\n",
              "      <td>20.03.2019</td>\n",
              "      <td>10.04.2019</td>\n",
              "      <td>444814009</td>\n",
              "      <td>Viral sinusitis (disorder)</td>\n",
              "      <td>2017-03-10</td>\n",
              "      <td>09.10.2018</td>\n",
              "      <td>999967.0</td>\n",
              "      <td>amLODIPine 5 MG / Hydrochlorothiazide 12.5 MG ...</td>\n",
              "      <td>12.0</td>\n",
              "      <td>59621000.0</td>\n",
              "      <td>Hypertension</td>\n",
              "      <td>248 days</td>\n",
              "      <td>248</td>\n",
              "    </tr>\n",
              "    <tr>\n",
              "      <th>62</th>\n",
              "      <td>1940-03-05</td>\n",
              "      <td>2010-04-20</td>\n",
              "      <td>M</td>\n",
              "      <td>white</td>\n",
              "      <td>F</td>\n",
              "      <td>Hopedale  Massachusetts  US</td>\n",
              "      <td>06.01.2020</td>\n",
              "      <td>8480-6</td>\n",
              "      <td>Systolic Blood Pressure</td>\n",
              "      <td>112.0</td>\n",
              "      <td>mm[Hg]</td>\n",
              "      <td>03.11.2016</td>\n",
              "      <td>17.11.2016</td>\n",
              "      <td>10509002</td>\n",
              "      <td>Acute bronchitis (disorder)</td>\n",
              "      <td>2012-01-25</td>\n",
              "      <td>30.01.2013</td>\n",
              "      <td>429503.0</td>\n",
              "      <td>Hydrochlorothiazide 12.5 MG</td>\n",
              "      <td>12.0</td>\n",
              "      <td>59621000.0</td>\n",
              "      <td>Hypertension</td>\n",
              "      <td>645 days</td>\n",
              "      <td>645</td>\n",
              "    </tr>\n",
              "    <tr>\n",
              "      <th>80</th>\n",
              "      <td>1964-06-09</td>\n",
              "      <td>1999-08-29</td>\n",
              "      <td>M</td>\n",
              "      <td>white</td>\n",
              "      <td>M</td>\n",
              "      <td>Arlington  Massachusetts  US</td>\n",
              "      <td>13.03.2020</td>\n",
              "      <td>92134-6</td>\n",
              "      <td>Human metapneumovirus RNA [Presence] in Respir...</td>\n",
              "      <td>Negative (qualifier value)</td>\n",
              "      <td>NaN</td>\n",
              "      <td>27.06.2010</td>\n",
              "      <td>18.07.2010</td>\n",
              "      <td>44465007</td>\n",
              "      <td>Sprain of ankle</td>\n",
              "      <td>2017-10-13</td>\n",
              "      <td>20.10.2017</td>\n",
              "      <td>309362.0</td>\n",
              "      <td>Clopidogrel 75 MG Oral Tablet</td>\n",
              "      <td>1.0</td>\n",
              "      <td>NaN</td>\n",
              "      <td>NaN</td>\n",
              "      <td>6620 days</td>\n",
              "      <td>6620</td>\n",
              "    </tr>\n",
              "    <tr>\n",
              "      <th>83</th>\n",
              "      <td>1946-09-09</td>\n",
              "      <td>2009-03-04</td>\n",
              "      <td>M</td>\n",
              "      <td>white</td>\n",
              "      <td>M</td>\n",
              "      <td>Stow  Massachusetts  US</td>\n",
              "      <td>28.04.2020</td>\n",
              "      <td>8310-5</td>\n",
              "      <td>Body temperature</td>\n",
              "      <td>37.6</td>\n",
              "      <td>Cel</td>\n",
              "      <td>10.11.2012</td>\n",
              "      <td>22.11.2012</td>\n",
              "      <td>195662009</td>\n",
              "      <td>Acute viral pharyngitis (disorder)</td>\n",
              "      <td>2017-10-13</td>\n",
              "      <td>20.10.2017</td>\n",
              "      <td>197361.0</td>\n",
              "      <td>Amlodipine 5 MG Oral Tablet</td>\n",
              "      <td>1.0</td>\n",
              "      <td>NaN</td>\n",
              "      <td>NaN</td>\n",
              "      <td>3145 days</td>\n",
              "      <td>3145</td>\n",
              "    </tr>\n",
              "    <tr>\n",
              "      <th>89</th>\n",
              "      <td>1964-06-09</td>\n",
              "      <td>2014-09-10</td>\n",
              "      <td>M</td>\n",
              "      <td>white</td>\n",
              "      <td>M</td>\n",
              "      <td>Waltham  Massachusetts  US</td>\n",
              "      <td>15.10.2019</td>\n",
              "      <td>29463-7</td>\n",
              "      <td>Body Weight</td>\n",
              "      <td>68.2</td>\n",
              "      <td>kg</td>\n",
              "      <td>02.01.2007</td>\n",
              "      <td>NaN</td>\n",
              "      <td>162864005</td>\n",
              "      <td>Body mass index 30+ - obesity (finding)</td>\n",
              "      <td>2018-10-26</td>\n",
              "      <td>01.11.2019</td>\n",
              "      <td>309362.0</td>\n",
              "      <td>Clopidogrel 75 MG Oral Tablet</td>\n",
              "      <td>12.0</td>\n",
              "      <td>NaN</td>\n",
              "      <td>NaN</td>\n",
              "      <td>1507 days</td>\n",
              "      <td>1507</td>\n",
              "    </tr>\n",
              "    <tr>\n",
              "      <th>143</th>\n",
              "      <td>1964-12-23</td>\n",
              "      <td>1997-07-05</td>\n",
              "      <td>M</td>\n",
              "      <td>white</td>\n",
              "      <td>F</td>\n",
              "      <td>North Reading  Massachusetts  US</td>\n",
              "      <td>01.03.2020</td>\n",
              "      <td>29463-7</td>\n",
              "      <td>Body Weight</td>\n",
              "      <td>45.3</td>\n",
              "      <td>kg</td>\n",
              "      <td>04.04.2006</td>\n",
              "      <td>NaN</td>\n",
              "      <td>162864005</td>\n",
              "      <td>Body mass index 30+ - obesity (finding)</td>\n",
              "      <td>2019-12-02</td>\n",
              "      <td>18.02.2020</td>\n",
              "      <td>895994.0</td>\n",
              "      <td>120 ACTUAT Fluticasone propionate 0.044 MG/ACT...</td>\n",
              "      <td>12.0</td>\n",
              "      <td>233678006.0</td>\n",
              "      <td>Childhood asthma</td>\n",
              "      <td>8185 days</td>\n",
              "      <td>8185</td>\n",
              "    </tr>\n",
              "    <tr>\n",
              "      <th>172</th>\n",
              "      <td>1923-07-20</td>\n",
              "      <td>1934-10-08</td>\n",
              "      <td>NaN</td>\n",
              "      <td>white</td>\n",
              "      <td>M</td>\n",
              "      <td>West Springfield  Massachusetts  US</td>\n",
              "      <td>15.11.2019</td>\n",
              "      <td>QOLS</td>\n",
              "      <td>QOLS</td>\n",
              "      <td>1.0</td>\n",
              "      <td>{score}</td>\n",
              "      <td>29.12.2014</td>\n",
              "      <td>19.01.2015</td>\n",
              "      <td>444814009</td>\n",
              "      <td>Viral sinusitis (disorder)</td>\n",
              "      <td>1983-12-08</td>\n",
              "      <td>12.08.1983</td>\n",
              "      <td>310798.0</td>\n",
              "      <td>Hydrochlorothiazide 25 MG Oral Tablet</td>\n",
              "      <td>1.0</td>\n",
              "      <td>59621000.0</td>\n",
              "      <td>Hypertension</td>\n",
              "      <td>17958 days</td>\n",
              "      <td>17958</td>\n",
              "    </tr>\n",
              "    <tr>\n",
              "      <th>183</th>\n",
              "      <td>1923-07-20</td>\n",
              "      <td>1983-01-16</td>\n",
              "      <td>M</td>\n",
              "      <td>white</td>\n",
              "      <td>M</td>\n",
              "      <td>Cohasset  Massachusetts  US</td>\n",
              "      <td>12.06.2019</td>\n",
              "      <td>789-8</td>\n",
              "      <td>Erythrocytes [#/volume] in Blood by Automated ...</td>\n",
              "      <td>04. Jan</td>\n",
              "      <td>10*6/uL</td>\n",
              "      <td>06.10.2003</td>\n",
              "      <td>NaN</td>\n",
              "      <td>239872002</td>\n",
              "      <td>Osteoarthritis of hip</td>\n",
              "      <td>1991-09-27</td>\n",
              "      <td>02.10.1992</td>\n",
              "      <td>310798.0</td>\n",
              "      <td>Hydrochlorothiazide 25 MG Oral Tablet</td>\n",
              "      <td>12.0</td>\n",
              "      <td>59621000.0</td>\n",
              "      <td>Hypertension</td>\n",
              "      <td>3176 days</td>\n",
              "      <td>3176</td>\n",
              "    </tr>\n",
              "    <tr>\n",
              "      <th>201</th>\n",
              "      <td>1994-05-31</td>\n",
              "      <td>1999-11-20</td>\n",
              "      <td>NaN</td>\n",
              "      <td>white</td>\n",
              "      <td>F</td>\n",
              "      <td>Boston  Massachusetts  US</td>\n",
              "      <td>17.07.2019</td>\n",
              "      <td>8867-4</td>\n",
              "      <td>Heart rate</td>\n",
              "      <td>98.0</td>\n",
              "      <td>/min</td>\n",
              "      <td>24.11.2004</td>\n",
              "      <td>NaN</td>\n",
              "      <td>271737000</td>\n",
              "      <td>Anemia (disorder)</td>\n",
              "      <td>2009-02-01</td>\n",
              "      <td>08.01.2010</td>\n",
              "      <td>310798.0</td>\n",
              "      <td>Hydrochlorothiazide 25 MG Oral Tablet</td>\n",
              "      <td>12.0</td>\n",
              "      <td>59621000.0</td>\n",
              "      <td>Hypertension</td>\n",
              "      <td>3361 days</td>\n",
              "      <td>3361</td>\n",
              "    </tr>\n",
              "    <tr>\n",
              "      <th>204</th>\n",
              "      <td>1923-07-20</td>\n",
              "      <td>2004-07-27</td>\n",
              "      <td>S</td>\n",
              "      <td>white</td>\n",
              "      <td>M</td>\n",
              "      <td>Barnstable  Massachusetts  US</td>\n",
              "      <td>18.09.2019</td>\n",
              "      <td>8302-2</td>\n",
              "      <td>Body Height</td>\n",
              "      <td>58.6</td>\n",
              "      <td>cm</td>\n",
              "      <td>09.11.2011</td>\n",
              "      <td>23.11.2011</td>\n",
              "      <td>35999006</td>\n",
              "      <td>Blighted ovum</td>\n",
              "      <td>2012-01-20</td>\n",
              "      <td>25.01.2013</td>\n",
              "      <td>310798.0</td>\n",
              "      <td>Hydrochlorothiazide 25 MG Oral Tablet</td>\n",
              "      <td>12.0</td>\n",
              "      <td>59621000.0</td>\n",
              "      <td>Hypertension</td>\n",
              "      <td>2733 days</td>\n",
              "      <td>2733</td>\n",
              "    </tr>\n",
              "    <tr>\n",
              "      <th>205</th>\n",
              "      <td>1953-05-03</td>\n",
              "      <td>2012-02-24</td>\n",
              "      <td>M</td>\n",
              "      <td>white</td>\n",
              "      <td>F</td>\n",
              "      <td>Brookline  Massachusetts  US</td>\n",
              "      <td>18.09.2019</td>\n",
              "      <td>72514-3</td>\n",
              "      <td>Pain severity - 0-10 verbal numeric rating [Sc...</td>\n",
              "      <td>1.0</td>\n",
              "      <td>{score}</td>\n",
              "      <td>09.01.2013</td>\n",
              "      <td>NaN</td>\n",
              "      <td>55822004</td>\n",
              "      <td>Hyperlipidemia</td>\n",
              "      <td>2013-01-25</td>\n",
              "      <td>31.01.2014</td>\n",
              "      <td>310798.0</td>\n",
              "      <td>Hydrochlorothiazide 25 MG Oral Tablet</td>\n",
              "      <td>12.0</td>\n",
              "      <td>59621000.0</td>\n",
              "      <td>Hypertension</td>\n",
              "      <td>336 days</td>\n",
              "      <td>336</td>\n",
              "    </tr>\n",
              "    <tr>\n",
              "      <th>217</th>\n",
              "      <td>1923-07-20</td>\n",
              "      <td>1981-07-31</td>\n",
              "      <td>M</td>\n",
              "      <td>white</td>\n",
              "      <td>M</td>\n",
              "      <td>Ashland  Massachusetts  US</td>\n",
              "      <td>19.11.2019</td>\n",
              "      <td>77606-2</td>\n",
              "      <td>Weight-for-length Per age and sex</td>\n",
              "      <td>80.4</td>\n",
              "      <td>%</td>\n",
              "      <td>06.05.2006</td>\n",
              "      <td>NaN</td>\n",
              "      <td>24079001</td>\n",
              "      <td>Atopic dermatitis</td>\n",
              "      <td>2019-01-03</td>\n",
              "      <td>06.03.2020</td>\n",
              "      <td>310798.0</td>\n",
              "      <td>Hydrochlorothiazide 25 MG Oral Tablet</td>\n",
              "      <td>12.0</td>\n",
              "      <td>59621000.0</td>\n",
              "      <td>Hypertension</td>\n",
              "      <td>13670 days</td>\n",
              "      <td>13670</td>\n",
              "    </tr>\n",
              "    <tr>\n",
              "      <th>235</th>\n",
              "      <td>1923-07-20</td>\n",
              "      <td>2001-03-12</td>\n",
              "      <td>S</td>\n",
              "      <td>white</td>\n",
              "      <td>M</td>\n",
              "      <td>Pittsfield  Massachusetts  US</td>\n",
              "      <td>18.02.2020</td>\n",
              "      <td>92139-5</td>\n",
              "      <td>Parainfluenza virus 2 RNA [Presence] in Respir...</td>\n",
              "      <td>Negative (qualifier value)</td>\n",
              "      <td>NaN</td>\n",
              "      <td>27.10.2018</td>\n",
              "      <td>17.11.2018</td>\n",
              "      <td>403191005</td>\n",
              "      <td>Second degree burn</td>\n",
              "      <td>2016-06-28</td>\n",
              "      <td>04.07.2017</td>\n",
              "      <td>429503.0</td>\n",
              "      <td>Hydrochlorothiazide 12.5 MG</td>\n",
              "      <td>12.0</td>\n",
              "      <td>59621000.0</td>\n",
              "      <td>Hypertension</td>\n",
              "      <td>5587 days</td>\n",
              "      <td>5587</td>\n",
              "    </tr>\n",
              "    <tr>\n",
              "      <th>246</th>\n",
              "      <td>1953-04-04</td>\n",
              "      <td>2010-10-16</td>\n",
              "      <td>S</td>\n",
              "      <td>white</td>\n",
              "      <td>F</td>\n",
              "      <td>Boston  Massachusetts  US</td>\n",
              "      <td>18.02.2020</td>\n",
              "      <td>8480-6</td>\n",
              "      <td>Systolic Blood Pressure</td>\n",
              "      <td>129.0</td>\n",
              "      <td>mm[Hg]</td>\n",
              "      <td>09.05.1992</td>\n",
              "      <td>NaN</td>\n",
              "      <td>40055000</td>\n",
              "      <td>Chronic sinusitis (disorder)</td>\n",
              "      <td>2011-05-28</td>\n",
              "      <td>27.05.2012</td>\n",
              "      <td>314231.0</td>\n",
              "      <td>Simvastatin 10 MG Oral Tablet</td>\n",
              "      <td>12.0</td>\n",
              "      <td>55822004.0</td>\n",
              "      <td>Hyperlipidemia</td>\n",
              "      <td>224 days</td>\n",
              "      <td>224</td>\n",
              "    </tr>\n",
              "    <tr>\n",
              "      <th>253</th>\n",
              "      <td>1923-07-20</td>\n",
              "      <td>2001-01-09</td>\n",
              "      <td>M</td>\n",
              "      <td>white</td>\n",
              "      <td>M</td>\n",
              "      <td>Boston  Massachusetts  US</td>\n",
              "      <td>19.02.2020</td>\n",
              "      <td>8867-4</td>\n",
              "      <td>Heart rate</td>\n",
              "      <td>136.5</td>\n",
              "      <td>/min</td>\n",
              "      <td>18.07.2001</td>\n",
              "      <td>NaN</td>\n",
              "      <td>44054006</td>\n",
              "      <td>Diabetes</td>\n",
              "      <td>2018-05-26</td>\n",
              "      <td>26.05.2019</td>\n",
              "      <td>314231.0</td>\n",
              "      <td>Simvastatin 10 MG Oral Tablet</td>\n",
              "      <td>12.0</td>\n",
              "      <td>55822004.0</td>\n",
              "      <td>Hyperlipidemia</td>\n",
              "      <td>6346 days</td>\n",
              "      <td>6346</td>\n",
              "    </tr>\n",
              "    <tr>\n",
              "      <th>297</th>\n",
              "      <td>1923-07-20</td>\n",
              "      <td>1994-01-17</td>\n",
              "      <td>S</td>\n",
              "      <td>white</td>\n",
              "      <td>M</td>\n",
              "      <td>Orange  Massachusetts  US</td>\n",
              "      <td>19.02.2020</td>\n",
              "      <td>1988-5</td>\n",
              "      <td>C reactive protein [Mass/volume] in Serum or P...</td>\n",
              "      <td>09. Jun</td>\n",
              "      <td>mg/L</td>\n",
              "      <td>16.10.2014</td>\n",
              "      <td>05.04.2015</td>\n",
              "      <td>65363002</td>\n",
              "      <td>Otitis media</td>\n",
              "      <td>1995-04-18</td>\n",
              "      <td>23.04.1996</td>\n",
              "      <td>895994.0</td>\n",
              "      <td>120 ACTUAT Fluticasone propionate 0.044 MG/ACT...</td>\n",
              "      <td>12.0</td>\n",
              "      <td>233678006.0</td>\n",
              "      <td>Childhood asthma</td>\n",
              "      <td>456 days</td>\n",
              "      <td>456</td>\n",
              "    </tr>\n",
              "    <tr>\n",
              "      <th>306</th>\n",
              "      <td>1980-03-13</td>\n",
              "      <td>1991-11-11</td>\n",
              "      <td>NaN</td>\n",
              "      <td>white</td>\n",
              "      <td>M</td>\n",
              "      <td>Milford  Massachusetts  US</td>\n",
              "      <td>20.02.2020</td>\n",
              "      <td>8480-6</td>\n",
              "      <td>Systolic Blood Pressure</td>\n",
              "      <td>129.0</td>\n",
              "      <td>mm[Hg]</td>\n",
              "      <td>09.08.2015</td>\n",
              "      <td>30.08.2015</td>\n",
              "      <td>444814009</td>\n",
              "      <td>Viral sinusitis (disorder)</td>\n",
              "      <td>1999-11-05</td>\n",
              "      <td>16.05.2000</td>\n",
              "      <td>2123111.0</td>\n",
              "      <td>NDA020503 200 ACTUAT Albuterol 0.09 MG/ACTUAT ...</td>\n",
              "      <td>12.0</td>\n",
              "      <td>233678006.0</td>\n",
              "      <td>Childhood asthma</td>\n",
              "      <td>2916 days</td>\n",
              "      <td>2916</td>\n",
              "    </tr>\n",
              "    <tr>\n",
              "      <th>312</th>\n",
              "      <td>1923-07-20</td>\n",
              "      <td>1986-10-15</td>\n",
              "      <td>M</td>\n",
              "      <td>white</td>\n",
              "      <td>M</td>\n",
              "      <td>Quincy  Massachusetts  US</td>\n",
              "      <td>20.02.2020</td>\n",
              "      <td>787-2</td>\n",
              "      <td>MCV [Entitic volume] by Automated count</td>\n",
              "      <td>96.1</td>\n",
              "      <td>fL</td>\n",
              "      <td>27.08.2012</td>\n",
              "      <td>25.03.2013</td>\n",
              "      <td>72892002</td>\n",
              "      <td>Normal pregnancy</td>\n",
              "      <td>2002-05-28</td>\n",
              "      <td>03.06.2003</td>\n",
              "      <td>2123111.0</td>\n",
              "      <td>NDA020503 200 ACTUAT Albuterol 0.09 MG/ACTUAT ...</td>\n",
              "      <td>12.0</td>\n",
              "      <td>233678006.0</td>\n",
              "      <td>Childhood asthma</td>\n",
              "      <td>5704 days</td>\n",
              "      <td>5704</td>\n",
              "    </tr>\n",
              "    <tr>\n",
              "      <th>315</th>\n",
              "      <td>1923-07-20</td>\n",
              "      <td>1934-05-18</td>\n",
              "      <td>NaN</td>\n",
              "      <td>white</td>\n",
              "      <td>M</td>\n",
              "      <td>Marblehead  Massachusetts  US</td>\n",
              "      <td>20.02.2020</td>\n",
              "      <td>788-0</td>\n",
              "      <td>Erythrocyte distribution width [Ratio] by Auto...</td>\n",
              "      <td>15. Mrz</td>\n",
              "      <td>%</td>\n",
              "      <td>18.01.2016</td>\n",
              "      <td>NaN</td>\n",
              "      <td>162864005</td>\n",
              "      <td>Body mass index 30+ - obesity (finding)</td>\n",
              "      <td>2004-08-06</td>\n",
              "      <td>14.06.2005</td>\n",
              "      <td>895994.0</td>\n",
              "      <td>120 ACTUAT Fluticasone propionate 0.044 MG/ACT...</td>\n",
              "      <td>12.0</td>\n",
              "      <td>233678006.0</td>\n",
              "      <td>Childhood asthma</td>\n",
              "      <td>25648 days</td>\n",
              "      <td>25648</td>\n",
              "    </tr>\n",
              "    <tr>\n",
              "      <th>318</th>\n",
              "      <td>1927-05-22</td>\n",
              "      <td>2000-11-12</td>\n",
              "      <td>M</td>\n",
              "      <td>asian</td>\n",
              "      <td>F</td>\n",
              "      <td>Delhi  Delhi  IN</td>\n",
              "      <td>20.02.2020</td>\n",
              "      <td>736-9</td>\n",
              "      <td>Lymphocytes/100 leukocytes in Blood by Automat...</td>\n",
              "      <td>11.0</td>\n",
              "      <td>%</td>\n",
              "      <td>04.12.2019</td>\n",
              "      <td>11.12.2019</td>\n",
              "      <td>444814009</td>\n",
              "      <td>Viral sinusitis (disorder)</td>\n",
              "      <td>2005-06-14</td>\n",
              "      <td>20.06.2006</td>\n",
              "      <td>2123111.0</td>\n",
              "      <td>NDA020503 200 ACTUAT Albuterol 0.09 MG/ACTUAT ...</td>\n",
              "      <td>12.0</td>\n",
              "      <td>233678006.0</td>\n",
              "      <td>Childhood asthma</td>\n",
              "      <td>1675 days</td>\n",
              "      <td>1675</td>\n",
              "    </tr>\n",
              "    <tr>\n",
              "      <th>330</th>\n",
              "      <td>1934-12-24</td>\n",
              "      <td>1996-12-08</td>\n",
              "      <td>S</td>\n",
              "      <td>white</td>\n",
              "      <td>M</td>\n",
              "      <td>Medford  Massachusetts  US</td>\n",
              "      <td>20.02.2020</td>\n",
              "      <td>17861-6</td>\n",
              "      <td>Calcium [Mass/volume] in Serum or Plasma</td>\n",
              "      <td>09. Feb</td>\n",
              "      <td>mg/dL</td>\n",
              "      <td>22.04.1995</td>\n",
              "      <td>NaN</td>\n",
              "      <td>15777000</td>\n",
              "      <td>Prediabetes</td>\n",
              "      <td>2010-07-13</td>\n",
              "      <td>24.05.2011</td>\n",
              "      <td>895994.0</td>\n",
              "      <td>120 ACTUAT Fluticasone propionate 0.044 MG/ACT...</td>\n",
              "      <td>10.0</td>\n",
              "      <td>233678006.0</td>\n",
              "      <td>Childhood asthma</td>\n",
              "      <td>4965 days</td>\n",
              "      <td>4965</td>\n",
              "    </tr>\n",
              "    <tr>\n",
              "      <th>341</th>\n",
              "      <td>1934-12-24</td>\n",
              "      <td>2010-07-17</td>\n",
              "      <td>S</td>\n",
              "      <td>white</td>\n",
              "      <td>M</td>\n",
              "      <td>Attleboro  Massachusetts  US</td>\n",
              "      <td>20.02.2020</td>\n",
              "      <td>1920-8</td>\n",
              "      <td>Aspartate aminotransferase [Enzymatic activity...</td>\n",
              "      <td>16. Apr</td>\n",
              "      <td>U/L</td>\n",
              "      <td>09.07.2014</td>\n",
              "      <td>16.07.2014</td>\n",
              "      <td>444814009</td>\n",
              "      <td>Viral sinusitis (disorder)</td>\n",
              "      <td>2014-04-14</td>\n",
              "      <td>17.04.2015</td>\n",
              "      <td>807283.0</td>\n",
              "      <td>Mirena 52 MG Intrauterine System</td>\n",
              "      <td>12.0</td>\n",
              "      <td>NaN</td>\n",
              "      <td>NaN</td>\n",
              "      <td>1367 days</td>\n",
              "      <td>1367</td>\n",
              "    </tr>\n",
              "    <tr>\n",
              "      <th>347</th>\n",
              "      <td>1925-01-24</td>\n",
              "      <td>2006-03-02</td>\n",
              "      <td>M</td>\n",
              "      <td>white</td>\n",
              "      <td>F</td>\n",
              "      <td>Montague  Massachusetts  US</td>\n",
              "      <td>21.02.2020</td>\n",
              "      <td>8480-6</td>\n",
              "      <td>Systolic Blood Pressure</td>\n",
              "      <td>127.0</td>\n",
              "      <td>mm[Hg]</td>\n",
              "      <td>23.08.2000</td>\n",
              "      <td>04.09.2000</td>\n",
              "      <td>43878008</td>\n",
              "      <td>Streptococcal sore throat (disorder)</td>\n",
              "      <td>2016-08-16</td>\n",
              "      <td>22.08.2017</td>\n",
              "      <td>2123111.0</td>\n",
              "      <td>NDA020503 200 ACTUAT Albuterol 0.09 MG/ACTUAT ...</td>\n",
              "      <td>12.0</td>\n",
              "      <td>233678006.0</td>\n",
              "      <td>Childhood asthma</td>\n",
              "      <td>3820 days</td>\n",
              "      <td>3820</td>\n",
              "    </tr>\n",
              "    <tr>\n",
              "      <th>355</th>\n",
              "      <td>1955-03-06</td>\n",
              "      <td>2009-03-06</td>\n",
              "      <td>S</td>\n",
              "      <td>white</td>\n",
              "      <td>M</td>\n",
              "      <td>Lowell  Massachusetts  US</td>\n",
              "      <td>21.02.2020</td>\n",
              "      <td>786-4</td>\n",
              "      <td>MCHC [Mass/volume] by Automated count</td>\n",
              "      <td>35.1</td>\n",
              "      <td>g/dL</td>\n",
              "      <td>07.05.2017</td>\n",
              "      <td>06.06.2017</td>\n",
              "      <td>62106007</td>\n",
              "      <td>Concussion with no loss of consciousness</td>\n",
              "      <td>2020-03-21</td>\n",
              "      <td>NaN</td>\n",
              "      <td>807283.0</td>\n",
              "      <td>Mirena 52 MG Intrauterine System</td>\n",
              "      <td>2.0</td>\n",
              "      <td>NaN</td>\n",
              "      <td>NaN</td>\n",
              "      <td>4033 days</td>\n",
              "      <td>4033</td>\n",
              "    </tr>\n",
              "    <tr>\n",
              "      <th>356</th>\n",
              "      <td>1934-12-24</td>\n",
              "      <td>1996-07-18</td>\n",
              "      <td>M</td>\n",
              "      <td>white</td>\n",
              "      <td>M</td>\n",
              "      <td>Stoughton  Massachusetts  US</td>\n",
              "      <td>21.02.2020</td>\n",
              "      <td>788-0</td>\n",
              "      <td>Erythrocyte distribution width [Ratio] by Auto...</td>\n",
              "      <td>13. Jun</td>\n",
              "      <td>%</td>\n",
              "      <td>02.02.2018</td>\n",
              "      <td>09.02.2018</td>\n",
              "      <td>444814009</td>\n",
              "      <td>Viral sinusitis (disorder)</td>\n",
              "      <td>2009-01-10</td>\n",
              "      <td>NaN</td>\n",
              "      <td>1014676.0</td>\n",
              "      <td>cetirizine hydrochloride 5 MG Oral Tablet</td>\n",
              "      <td>129.0</td>\n",
              "      <td>NaN</td>\n",
              "      <td>NaN</td>\n",
              "      <td>4559 days</td>\n",
              "      <td>4559</td>\n",
              "    </tr>\n",
              "    <tr>\n",
              "      <th>368</th>\n",
              "      <td>1969-04-11</td>\n",
              "      <td>2009-02-11</td>\n",
              "      <td>M</td>\n",
              "      <td>white</td>\n",
              "      <td>F</td>\n",
              "      <td>Somerset  Massachusetts  US</td>\n",
              "      <td>21.02.2020</td>\n",
              "      <td>2345-7</td>\n",
              "      <td>Glucose [Mass/volume] in Serum or Plasma</td>\n",
              "      <td>93.9</td>\n",
              "      <td>mg/dL</td>\n",
              "      <td>04.12.2016</td>\n",
              "      <td>11.12.2016</td>\n",
              "      <td>444814009</td>\n",
              "      <td>Viral sinusitis (disorder)</td>\n",
              "      <td>2012-02-12</td>\n",
              "      <td>08.12.2013</td>\n",
              "      <td>310798.0</td>\n",
              "      <td>Hydrochlorothiazide 25 MG Oral Tablet</td>\n",
              "      <td>12.0</td>\n",
              "      <td>59621000.0</td>\n",
              "      <td>Hypertension</td>\n",
              "      <td>1096 days</td>\n",
              "      <td>1096</td>\n",
              "    </tr>\n",
              "    <tr>\n",
              "      <th>395</th>\n",
              "      <td>1960-02-16</td>\n",
              "      <td>1990-06-19</td>\n",
              "      <td>M</td>\n",
              "      <td>white</td>\n",
              "      <td>M</td>\n",
              "      <td>Puebla  Puebla  MX</td>\n",
              "      <td>22.02.2020</td>\n",
              "      <td>2708-6</td>\n",
              "      <td>Oxygen saturation in Arterial blood</td>\n",
              "      <td>88.0</td>\n",
              "      <td>%</td>\n",
              "      <td>30.04.2012</td>\n",
              "      <td>NaN</td>\n",
              "      <td>196416002</td>\n",
              "      <td>Impacted molars</td>\n",
              "      <td>1998-03-26</td>\n",
              "      <td>01.04.1999</td>\n",
              "      <td>746030.0</td>\n",
              "      <td>Atenolol 50 MG / Chlorthalidone 25 MG Oral Tablet</td>\n",
              "      <td>12.0</td>\n",
              "      <td>59621000.0</td>\n",
              "      <td>Hypertension</td>\n",
              "      <td>2837 days</td>\n",
              "      <td>2837</td>\n",
              "    </tr>\n",
              "    <tr>\n",
              "      <th>399</th>\n",
              "      <td>1975-03-07</td>\n",
              "      <td>1977-10-02</td>\n",
              "      <td>NaN</td>\n",
              "      <td>white</td>\n",
              "      <td>F</td>\n",
              "      <td>Harwich  Massachusetts  US</td>\n",
              "      <td>22.02.2020</td>\n",
              "      <td>6690-2</td>\n",
              "      <td>Leukocytes [#/volume] in Blood by Automated count</td>\n",
              "      <td>03. Jul</td>\n",
              "      <td>10*3/uL</td>\n",
              "      <td>16.09.2015</td>\n",
              "      <td>14.10.2015</td>\n",
              "      <td>44465007</td>\n",
              "      <td>Sprain of ankle</td>\n",
              "      <td>2001-12-04</td>\n",
              "      <td>18.04.2002</td>\n",
              "      <td>746030.0</td>\n",
              "      <td>Atenolol 50 MG / Chlorthalidone 25 MG Oral Tablet</td>\n",
              "      <td>12.0</td>\n",
              "      <td>59621000.0</td>\n",
              "      <td>Hypertension</td>\n",
              "      <td>8829 days</td>\n",
              "      <td>8829</td>\n",
              "    </tr>\n",
              "    <tr>\n",
              "      <th>402</th>\n",
              "      <td>1940-11-26</td>\n",
              "      <td>1992-11-17</td>\n",
              "      <td>S</td>\n",
              "      <td>white</td>\n",
              "      <td>M</td>\n",
              "      <td>Holyoke  Massachusetts  US</td>\n",
              "      <td>22.02.2020</td>\n",
              "      <td>4544-3</td>\n",
              "      <td>Hematocrit [Volume Fraction] of Blood by Autom...</td>\n",
              "      <td>40.5</td>\n",
              "      <td>%</td>\n",
              "      <td>04.06.2017</td>\n",
              "      <td>NaN</td>\n",
              "      <td>429007001</td>\n",
              "      <td>History of cardiac arrest (situation)</td>\n",
              "      <td>2004-04-29</td>\n",
              "      <td>05.05.2005</td>\n",
              "      <td>746030.0</td>\n",
              "      <td>Atenolol 50 MG / Chlorthalidone 25 MG Oral Tablet</td>\n",
              "      <td>12.0</td>\n",
              "      <td>59621000.0</td>\n",
              "      <td>Hypertension</td>\n",
              "      <td>4181 days</td>\n",
              "      <td>4181</td>\n",
              "    </tr>\n",
              "    <tr>\n",
              "      <th>408</th>\n",
              "      <td>1949-03-29</td>\n",
              "      <td>1949-06-12</td>\n",
              "      <td>NaN</td>\n",
              "      <td>white</td>\n",
              "      <td>F</td>\n",
              "      <td>Westport  Massachusetts  US</td>\n",
              "      <td>22.02.2020</td>\n",
              "      <td>770-8</td>\n",
              "      <td>Neutrophils/100 leukocytes in Blood by Automat...</td>\n",
              "      <td>14. Apr</td>\n",
              "      <td>%</td>\n",
              "      <td>17.06.2012</td>\n",
              "      <td>24.06.2012</td>\n",
              "      <td>10509002</td>\n",
              "      <td>Acute bronchitis (disorder)</td>\n",
              "      <td>2010-03-06</td>\n",
              "      <td>09.06.2011</td>\n",
              "      <td>746030.0</td>\n",
              "      <td>Atenolol 50 MG / Chlorthalidone 25 MG Oral Tablet</td>\n",
              "      <td>12.0</td>\n",
              "      <td>59621000.0</td>\n",
              "      <td>Hypertension</td>\n",
              "      <td>22182 days</td>\n",
              "      <td>22182</td>\n",
              "    </tr>\n",
              "    <tr>\n",
              "      <th>411</th>\n",
              "      <td>1942-06-20</td>\n",
              "      <td>1999-02-14</td>\n",
              "      <td>S</td>\n",
              "      <td>native</td>\n",
              "      <td>M</td>\n",
              "      <td>Boston  Massachusetts  US</td>\n",
              "      <td>22.02.2020</td>\n",
              "      <td>713-8</td>\n",
              "      <td>Eosinophils/100 leukocytes in Blood by Automat...</td>\n",
              "      <td>04. Apr</td>\n",
              "      <td>%</td>\n",
              "      <td>25.07.2014</td>\n",
              "      <td>NaN</td>\n",
              "      <td>162864005</td>\n",
              "      <td>Body mass index 30+ - obesity (finding)</td>\n",
              "      <td>2013-06-20</td>\n",
              "      <td>26.06.2014</td>\n",
              "      <td>746030.0</td>\n",
              "      <td>Atenolol 50 MG / Chlorthalidone 25 MG Oral Tablet</td>\n",
              "      <td>12.0</td>\n",
              "      <td>59621000.0</td>\n",
              "      <td>Hypertension</td>\n",
              "      <td>5240 days</td>\n",
              "      <td>5240</td>\n",
              "    </tr>\n",
              "    <tr>\n",
              "      <th>414</th>\n",
              "      <td>1949-03-29</td>\n",
              "      <td>2005-03-19</td>\n",
              "      <td>M</td>\n",
              "      <td>white</td>\n",
              "      <td>F</td>\n",
              "      <td>Leverett  Massachusetts  US</td>\n",
              "      <td>22.02.2020</td>\n",
              "      <td>731-0</td>\n",
              "      <td>Lymphocytes [#/volume] in Blood by Automated c...</td>\n",
              "      <td>1.0</td>\n",
              "      <td>10*3/uL</td>\n",
              "      <td>05.10.2018</td>\n",
              "      <td>10.05.2019</td>\n",
              "      <td>72892002</td>\n",
              "      <td>Normal pregnancy</td>\n",
              "      <td>2016-07-07</td>\n",
              "      <td>13.07.2017</td>\n",
              "      <td>746030.0</td>\n",
              "      <td>Atenolol 50 MG / Chlorthalidone 25 MG Oral Tablet</td>\n",
              "      <td>12.0</td>\n",
              "      <td>59621000.0</td>\n",
              "      <td>Hypertension</td>\n",
              "      <td>4128 days</td>\n",
              "      <td>4128</td>\n",
              "    </tr>\n",
              "    <tr>\n",
              "      <th>416</th>\n",
              "      <td>1940-11-26</td>\n",
              "      <td>2013-12-17</td>\n",
              "      <td>M</td>\n",
              "      <td>white</td>\n",
              "      <td>M</td>\n",
              "      <td>Hopkinton  Massachusetts  US</td>\n",
              "      <td>22.02.2020</td>\n",
              "      <td>711-2</td>\n",
              "      <td>Eosinophils [#/volume] in Blood by Automated c...</td>\n",
              "      <td>0.3</td>\n",
              "      <td>10*3/uL</td>\n",
              "      <td>29.06.2017</td>\n",
              "      <td>NaN</td>\n",
              "      <td>271737000</td>\n",
              "      <td>Anemia (disorder)</td>\n",
              "      <td>2018-07-19</td>\n",
              "      <td>25.07.2019</td>\n",
              "      <td>746030.0</td>\n",
              "      <td>Atenolol 50 MG / Chlorthalidone 25 MG Oral Tablet</td>\n",
              "      <td>12.0</td>\n",
              "      <td>59621000.0</td>\n",
              "      <td>Hypertension</td>\n",
              "      <td>1675 days</td>\n",
              "      <td>1675</td>\n",
              "    </tr>\n",
              "    <tr>\n",
              "      <th>420</th>\n",
              "      <td>1942-06-20</td>\n",
              "      <td>2012-05-15</td>\n",
              "      <td>S</td>\n",
              "      <td>native</td>\n",
              "      <td>M</td>\n",
              "      <td>Worcester  Massachusetts  US</td>\n",
              "      <td>22.02.2020</td>\n",
              "      <td>2160-0</td>\n",
              "      <td>Creatinine [Mass/volume] in Serum or Plasma</td>\n",
              "      <td>02. Aug</td>\n",
              "      <td>mg/dL</td>\n",
              "      <td>05.03.2018</td>\n",
              "      <td>17.03.2018</td>\n",
              "      <td>43878008</td>\n",
              "      <td>Streptococcal sore throat (disorder)</td>\n",
              "      <td>2020-03-03</td>\n",
              "      <td>NaN</td>\n",
              "      <td>198440.0</td>\n",
              "      <td>Acetaminophen 500 MG Oral Tablet</td>\n",
              "      <td>2.0</td>\n",
              "      <td>NaN</td>\n",
              "      <td>NaN</td>\n",
              "      <td>2849 days</td>\n",
              "      <td>2849</td>\n",
              "    </tr>\n",
              "    <tr>\n",
              "      <th>438</th>\n",
              "      <td>1913-06-27</td>\n",
              "      <td>1991-03-08</td>\n",
              "      <td>M</td>\n",
              "      <td>black</td>\n",
              "      <td>M</td>\n",
              "      <td>Taunton  Massachusetts  US</td>\n",
              "      <td>23.02.2020</td>\n",
              "      <td>8480-6</td>\n",
              "      <td>Systolic Blood Pressure</td>\n",
              "      <td>128.0</td>\n",
              "      <td>mm[Hg]</td>\n",
              "      <td>05.06.2017</td>\n",
              "      <td>12.06.2017</td>\n",
              "      <td>444814009</td>\n",
              "      <td>Viral sinusitis (disorder)</td>\n",
              "      <td>1999-11-24</td>\n",
              "      <td>29.11.2000</td>\n",
              "      <td>310798.0</td>\n",
              "      <td>Hydrochlorothiazide 25 MG Oral Tablet</td>\n",
              "      <td>12.0</td>\n",
              "      <td>59621000.0</td>\n",
              "      <td>Hypertension</td>\n",
              "      <td>3183 days</td>\n",
              "      <td>3183</td>\n",
              "    </tr>\n",
              "    <tr>\n",
              "      <th>439</th>\n",
              "      <td>1913-06-27</td>\n",
              "      <td>1925-04-28</td>\n",
              "      <td>NaN</td>\n",
              "      <td>black</td>\n",
              "      <td>M</td>\n",
              "      <td>Boylston  Massachusetts  US</td>\n",
              "      <td>23.02.2020</td>\n",
              "      <td>29463-7</td>\n",
              "      <td>Body Weight</td>\n",
              "      <td>08. Mrz</td>\n",
              "      <td>kg</td>\n",
              "      <td>17.11.2017</td>\n",
              "      <td>01.12.2017</td>\n",
              "      <td>444814009</td>\n",
              "      <td>Viral sinusitis (disorder)</td>\n",
              "      <td>2000-11-29</td>\n",
              "      <td>05.12.2001</td>\n",
              "      <td>310798.0</td>\n",
              "      <td>Hydrochlorothiazide 25 MG Oral Tablet</td>\n",
              "      <td>12.0</td>\n",
              "      <td>59621000.0</td>\n",
              "      <td>Hypertension</td>\n",
              "      <td>27609 days</td>\n",
              "      <td>27609</td>\n",
              "    </tr>\n",
              "    <tr>\n",
              "      <th>463</th>\n",
              "      <td>1939-07-20</td>\n",
              "      <td>1990-06-12</td>\n",
              "      <td>M</td>\n",
              "      <td>white</td>\n",
              "      <td>M</td>\n",
              "      <td>Boston  Massachusetts  US</td>\n",
              "      <td>23.02.2020</td>\n",
              "      <td>2951-2</td>\n",
              "      <td>Sodium [Moles/volume] in Serum or Plasma</td>\n",
              "      <td>141.7</td>\n",
              "      <td>mmol/L</td>\n",
              "      <td>04.02.1958</td>\n",
              "      <td>NaN</td>\n",
              "      <td>59621000</td>\n",
              "      <td>Hypertension</td>\n",
              "      <td>2020-03-26</td>\n",
              "      <td>09.04.2020</td>\n",
              "      <td>313782.0</td>\n",
              "      <td>Acetaminophen 325 MG Oral Tablet</td>\n",
              "      <td>1.0</td>\n",
              "      <td>10509002.0</td>\n",
              "      <td>Acute bronchitis (disorder)</td>\n",
              "      <td>10880 days</td>\n",
              "      <td>10880</td>\n",
              "    </tr>\n",
              "    <tr>\n",
              "      <th>493</th>\n",
              "      <td>1935-11-09</td>\n",
              "      <td>1997-05-04</td>\n",
              "      <td>S</td>\n",
              "      <td>white</td>\n",
              "      <td>M</td>\n",
              "      <td>Lynn  Massachusetts  US</td>\n",
              "      <td>24.02.2020</td>\n",
              "      <td>4544-3</td>\n",
              "      <td>Hematocrit [Volume Fraction] of Blood by Autom...</td>\n",
              "      <td>45.7</td>\n",
              "      <td>%</td>\n",
              "      <td>21.03.1967</td>\n",
              "      <td>NaN</td>\n",
              "      <td>428251008</td>\n",
              "      <td>History of appendectomy</td>\n",
              "      <td>2019-11-12</td>\n",
              "      <td>NaN</td>\n",
              "      <td>429503.0</td>\n",
              "      <td>Hydrochlorothiazide 12.5 MG</td>\n",
              "      <td>5.0</td>\n",
              "      <td>59621000.0</td>\n",
              "      <td>Hypertension</td>\n",
              "      <td>8227 days</td>\n",
              "      <td>8227</td>\n",
              "    </tr>\n",
              "  </tbody>\n",
              "</table>\n",
              "</div>"
            ],
            "text/plain": [
              "     BIRTHDATE  DEATHDATE  ...   Val_Diff time_diff_days\n",
              "11  1970-06-13 2016-07-05  ...   248 days            248\n",
              "62  1940-03-05 2010-04-20  ...   645 days            645\n",
              "80  1964-06-09 1999-08-29  ...  6620 days           6620\n",
              "83  1946-09-09 2009-03-04  ...  3145 days           3145\n",
              "89  1964-06-09 2014-09-10  ...  1507 days           1507\n",
              "143 1964-12-23 1997-07-05  ...  8185 days           8185\n",
              "172 1923-07-20 1934-10-08  ... 17958 days          17958\n",
              "183 1923-07-20 1983-01-16  ...  3176 days           3176\n",
              "201 1994-05-31 1999-11-20  ...  3361 days           3361\n",
              "204 1923-07-20 2004-07-27  ...  2733 days           2733\n",
              "205 1953-05-03 2012-02-24  ...   336 days            336\n",
              "217 1923-07-20 1981-07-31  ... 13670 days          13670\n",
              "235 1923-07-20 2001-03-12  ...  5587 days           5587\n",
              "246 1953-04-04 2010-10-16  ...   224 days            224\n",
              "253 1923-07-20 2001-01-09  ...  6346 days           6346\n",
              "297 1923-07-20 1994-01-17  ...   456 days            456\n",
              "306 1980-03-13 1991-11-11  ...  2916 days           2916\n",
              "312 1923-07-20 1986-10-15  ...  5704 days           5704\n",
              "315 1923-07-20 1934-05-18  ... 25648 days          25648\n",
              "318 1927-05-22 2000-11-12  ...  1675 days           1675\n",
              "330 1934-12-24 1996-12-08  ...  4965 days           4965\n",
              "341 1934-12-24 2010-07-17  ...  1367 days           1367\n",
              "347 1925-01-24 2006-03-02  ...  3820 days           3820\n",
              "355 1955-03-06 2009-03-06  ...  4033 days           4033\n",
              "356 1934-12-24 1996-07-18  ...  4559 days           4559\n",
              "368 1969-04-11 2009-02-11  ...  1096 days           1096\n",
              "395 1960-02-16 1990-06-19  ...  2837 days           2837\n",
              "399 1975-03-07 1977-10-02  ...  8829 days           8829\n",
              "402 1940-11-26 1992-11-17  ...  4181 days           4181\n",
              "408 1949-03-29 1949-06-12  ... 22182 days          22182\n",
              "411 1942-06-20 1999-02-14  ...  5240 days           5240\n",
              "414 1949-03-29 2005-03-19  ...  4128 days           4128\n",
              "416 1940-11-26 2013-12-17  ...  1675 days           1675\n",
              "420 1942-06-20 2012-05-15  ...  2849 days           2849\n",
              "438 1913-06-27 1991-03-08  ...  3183 days           3183\n",
              "439 1913-06-27 1925-04-28  ... 27609 days          27609\n",
              "463 1939-07-20 1990-06-12  ... 10880 days          10880\n",
              "493 1935-11-09 1997-05-04  ...  8227 days           8227\n",
              "\n",
              "[38 rows x 24 columns]"
            ]
          },
          "metadata": {
            "tags": []
          },
          "execution_count": 51
        }
      ]
    },
    {
      "cell_type": "code",
      "metadata": {
        "id": "V7ipwfG0uxKa"
      },
      "source": [
        "#Index der betroffen Zeilen"
      ],
      "execution_count": 52,
      "outputs": []
    },
    {
      "cell_type": "code",
      "metadata": {
        "colab": {
          "base_uri": "https://localhost:8080/"
        },
        "id": "cJuMoSm6toRW",
        "outputId": "ee9d6507-ef0b-43d7-8289-07e508a45c41"
      },
      "source": [
        "deceased_patients_false.index.values"
      ],
      "execution_count": 53,
      "outputs": [
        {
          "output_type": "execute_result",
          "data": {
            "text/plain": [
              "array([ 11,  62,  80,  83,  89, 143, 172, 183, 201, 204, 205, 217, 235,\n",
              "       246, 253, 297, 306, 312, 315, 318, 330, 341, 347, 355, 356, 368,\n",
              "       395, 399, 402, 408, 411, 414, 416, 420, 438, 439, 463, 493])"
            ]
          },
          "metadata": {
            "tags": []
          },
          "execution_count": 53
        }
      ]
    },
    {
      "cell_type": "markdown",
      "metadata": {
        "id": "5OielvIaWoNh"
      },
      "source": [
        "Diese Datenpunkte sind sehr wahrscheinlich fehlerhaft und werden weiter unten bereinigt."
      ]
    },
    {
      "cell_type": "markdown",
      "metadata": {
        "id": "0BjHnOdmTRMV"
      },
      "source": [
        "###Schwangere mit dem Geschlecht M(ale)"
      ]
    },
    {
      "cell_type": "markdown",
      "metadata": {
        "id": "eTaCYBFVhUjw"
      },
      "source": [
        "Identifikaion aller Zeilen mit dem Eintrag 'Normal pregnancy' in der Spalte CON_DESCRIPTION"
      ]
    },
    {
      "cell_type": "code",
      "metadata": {
        "colab": {
          "base_uri": "https://localhost:8080/"
        },
        "id": "fPvHvkVAUgZs",
        "outputId": "557cf847-ba37-449b-97f2-a3eb7062d3c0"
      },
      "source": [
        "pregnant_patients = df.loc[(df['CON_DESCRIPTION'] == 'Normal pregnancy')]\n",
        "pregnant_patients.count"
      ],
      "execution_count": 54,
      "outputs": [
        {
          "output_type": "execute_result",
          "data": {
            "text/plain": [
              "<bound method DataFrame.count of      BIRTHDATE  DEATHDATE  ... MED_REASONCODE MED_REASONDESCRIPTION\n",
              "27  1993-06-04        NaT  ...     59621000.0          Hypertension\n",
              "33  1965-11-11        NaT  ...     59621000.0          Hypertension\n",
              "35  1967-12-07        NaT  ...     59621000.0          Hypertension\n",
              "37  2013-07-30        NaT  ...     59621000.0          Hypertension\n",
              "39  2002-01-24        NaT  ...     59621000.0          Hypertension\n",
              "41  1979-06-13        NaT  ...     59621000.0          Hypertension\n",
              "46  1982-06-19        NaT  ...     59621000.0          Hypertension\n",
              "49  1978-11-27        NaT  ...            NaN                   NaN\n",
              "50  1998-11-01        NaT  ...            NaN                   NaN\n",
              "51  1976-03-20        NaT  ...     59621000.0          Hypertension\n",
              "53  1955-03-05        NaT  ...     59621000.0          Hypertension\n",
              "55  2020-12-03        NaT  ...     59621000.0          Hypertension\n",
              "57  1995-02-10        NaT  ...     59621000.0          Hypertension\n",
              "104 1955-08-20        NaT  ...    233678006.0      Childhood asthma\n",
              "107 1973-01-21 2007-09-23  ...    233678006.0      Childhood asthma\n",
              "110 1980-05-24        NaT  ...    233678006.0      Childhood asthma\n",
              "140 1940-09-01        NaT  ...    233678006.0      Childhood asthma\n",
              "142 2000-10-17        NaT  ...            NaN                   NaN\n",
              "144 1965-03-22        NaT  ...    233678006.0      Childhood asthma\n",
              "145 1987-01-24        NaT  ...    233678006.0      Childhood asthma\n",
              "147 2000-11-13        NaT  ...            NaN                   NaN\n",
              "148 1999-08-16        NaT  ...            NaN                   NaN\n",
              "151 1974-06-29        NaT  ...            NaN                   NaN\n",
              "175 1979-04-23        NaT  ...     59621000.0          Hypertension\n",
              "194 1994-07-24        NaT  ...     59621000.0          Hypertension\n",
              "202 1995-01-22        NaT  ...     59621000.0          Hypertension\n",
              "208 2019-04-27        NaT  ...     59621000.0          Hypertension\n",
              "232 1962-01-31        NaT  ...     59621000.0          Hypertension\n",
              "233 1952-10-29        NaT  ...     59621000.0          Hypertension\n",
              "236 1954-04-03        NaT  ...     59621000.0          Hypertension\n",
              "272 1978-01-10        NaT  ...    233678006.0      Childhood asthma\n",
              "274 1994-11-06        NaT  ...    233678006.0      Childhood asthma\n",
              "276 1923-12-06        NaT  ...    233678006.0      Childhood asthma\n",
              "277 1974-01-06        NaT  ...    233678006.0      Childhood asthma\n",
              "278 1958-04-06        NaT  ...    233678006.0      Childhood asthma\n",
              "279 1923-07-20 1995-07-21  ...    233678006.0      Childhood asthma\n",
              "283 2004-03-25        NaT  ...    233678006.0      Childhood asthma\n",
              "284 1980-04-13        NaT  ...    233678006.0      Childhood asthma\n",
              "287 1980-04-13        NaT  ...    233678006.0      Childhood asthma\n",
              "312 1923-07-20 1986-10-15  ...    233678006.0      Childhood asthma\n",
              "314 2000-03-25        NaT  ...    233678006.0      Childhood asthma\n",
              "406 2011-08-04        NaT  ...     59621000.0          Hypertension\n",
              "412 1963-06-14        NaT  ...     59621000.0          Hypertension\n",
              "413 1968-04-07        NaT  ...     59621000.0          Hypertension\n",
              "414 1949-03-29 2005-03-19  ...     59621000.0          Hypertension\n",
              "429 1992-05-28        NaT  ...     59621000.0          Hypertension\n",
              "436 2019-06-22        NaT  ...     59621000.0          Hypertension\n",
              "440 1967-10-11        NaT  ...     59621000.0          Hypertension\n",
              "452 2013-07-02        NaT  ...     59621000.0          Hypertension\n",
              "455 1947-04-01        NaT  ...     59621000.0          Hypertension\n",
              "\n",
              "[50 rows x 22 columns]>"
            ]
          },
          "metadata": {
            "tags": []
          },
          "execution_count": 54
        }
      ]
    },
    {
      "cell_type": "markdown",
      "metadata": {
        "id": "5dgo24-NXBSl"
      },
      "source": [
        "50 Zeileneinträge weisen diesen Merkmal auf."
      ]
    },
    {
      "cell_type": "markdown",
      "metadata": {
        "id": "zsGEqKivhYRs"
      },
      "source": [
        "Aufteilung in Geschlecht "
      ]
    },
    {
      "cell_type": "code",
      "metadata": {
        "id": "iBfqRgzuTXCO"
      },
      "source": [
        "pregnant_males = df.loc[(df['CON_DESCRIPTION'] == 'Normal pregnancy') & (df['GENDER'] == 'M')]\n",
        "pregnant_females = df.loc[(df['CON_DESCRIPTION'] == 'Normal pregnancy') & (df['GENDER'] == 'F')]"
      ],
      "execution_count": 55,
      "outputs": []
    },
    {
      "cell_type": "markdown",
      "metadata": {
        "id": "d-IQFd6nhdGb"
      },
      "source": [
        "Darstellung"
      ]
    },
    {
      "cell_type": "code",
      "metadata": {
        "id": "orMmxaLrYDKs"
      },
      "source": [
        "sns.set(rc={'figure.figsize':(7,5)})"
      ],
      "execution_count": 56,
      "outputs": []
    },
    {
      "cell_type": "code",
      "metadata": {
        "colab": {
          "base_uri": "https://localhost:8080/",
          "height": 355
        },
        "id": "sTaG9IV5W8dg",
        "outputId": "fe2297f6-c8e2-449c-b319-43fff729e428"
      },
      "source": [
        "sns.countplot(x='GENDER', data=pregnant_patients)\n",
        "plt.title('Distribution Pregnant patients')\n",
        "plt.show()"
      ],
      "execution_count": 57,
      "outputs": [
        {
          "output_type": "display_data",
          "data": {
            "image/png": "[encoded data removed]",
            "text/plain": [
              "<Figure size 504x360 with 1 Axes>"
            ]
          },
          "metadata": {
            "tags": []
          }
        }
      ]
    },
    {
      "cell_type": "markdown",
      "metadata": {
        "id": "I7F_oDgFhkA4"
      },
      "source": [
        "#3. Verbesserungsvorschläge"
      ]
    },
    {
      "cell_type": "markdown",
      "metadata": {
        "id": "iVej7rGQhwu4"
      },
      "source": [
        "##Die Einträge in der Spalte RACE mit den Merkmalen *Alien* oder *w* wurden entfernt."
      ]
    },
    {
      "cell_type": "code",
      "metadata": {
        "id": "e_5pC94v2J4F"
      },
      "source": [
        "#Identifkation der Aliens\n",
        "df_Aliens = df.loc[(df['RACE'] == 'Alien')]"
      ],
      "execution_count": 58,
      "outputs": []
    },
    {
      "cell_type": "code",
      "metadata": {
        "colab": {
          "base_uri": "https://localhost:8080/"
        },
        "id": "bwgkiAU60O1y",
        "outputId": "6565b5e5-536c-40e9-bf73-40c06bae65f5"
      },
      "source": [
        "#Indizierung\n",
        "df_Aliens.index.values"
      ],
      "execution_count": 59,
      "outputs": [
        {
          "output_type": "execute_result",
          "data": {
            "text/plain": [
              "array([ 38, 159, 456])"
            ]
          },
          "metadata": {
            "tags": []
          },
          "execution_count": 59
        }
      ]
    },
    {
      "cell_type": "code",
      "metadata": {
        "id": "C5tp0bGC0bJ5"
      },
      "source": [
        "#Bereinigung\n",
        "df_cleaned = df.drop(labels=[38, 159, 456], axis=0)"
      ],
      "execution_count": 60,
      "outputs": []
    },
    {
      "cell_type": "code",
      "metadata": {
        "id": "Pr7zlMoQ0pCH"
      },
      "source": [
        "#Identifkation der Einträge w\n",
        "df_w = df_cleaned.loc[(df['RACE'] == 'w')]"
      ],
      "execution_count": 61,
      "outputs": []
    },
    {
      "cell_type": "code",
      "metadata": {
        "colab": {
          "base_uri": "https://localhost:8080/"
        },
        "id": "LpzXQibd3H7A",
        "outputId": "f6e1bb97-dfc8-4dfe-e231-a7a12394a1ed"
      },
      "source": [
        "#Indizierung\n",
        "df_w.index.values"
      ],
      "execution_count": 62,
      "outputs": [
        {
          "output_type": "execute_result",
          "data": {
            "text/plain": [
              "array([45, 46, 47, 48, 49, 50, 51, 52, 53])"
            ]
          },
          "metadata": {
            "tags": []
          },
          "execution_count": 62
        }
      ]
    },
    {
      "cell_type": "markdown",
      "metadata": {
        "id": "lCxNpmNq3Vid"
      },
      "source": [
        "###Interesanterweise werden nicht alle Indices mit dem Merkmal w agezeigt. Die Indices 42-44 wurden manuell hinzugefügt:"
      ]
    },
    {
      "cell_type": "code",
      "metadata": {
        "id": "XfCKiNRZ3ODk"
      },
      "source": [
        "#Bereinigung\n",
        "df_cleaned_2 = df_cleaned.drop(labels=[42, 43, 44, 45, 46, 47, 48, 49, 50, 51, 52, 53], axis=0)"
      ],
      "execution_count": 63,
      "outputs": []
    },
    {
      "cell_type": "markdown",
      "metadata": {
        "id": "xeMpHEjSmN4n"
      },
      "source": [
        "##Entfernung der schwangeren männlichen Patienten"
      ]
    },
    {
      "cell_type": "code",
      "metadata": {
        "id": "w9VWFn3rnBj7"
      },
      "source": [
        "#Identifikation\n",
        "df_pregnant_m = df_cleaned_2.loc[(df_cleaned_2['CON_DESCRIPTION'] == 'Normal pregnancy') & (df_cleaned_2['GENDER'] == 'M')]"
      ],
      "execution_count": 64,
      "outputs": []
    },
    {
      "cell_type": "code",
      "metadata": {
        "colab": {
          "base_uri": "https://localhost:8080/"
        },
        "id": "YN5SPcVZu3B1",
        "outputId": "b64e63e6-1c59-44c1-8fce-609beb049d98"
      },
      "source": [
        "#Indexierung\n",
        "df_pregnant_m.index.values"
      ],
      "execution_count": 65,
      "outputs": [
        {
          "output_type": "execute_result",
          "data": {
            "text/plain": [
              "array([ 35,  41,  57, 140, 144, 145, 194, 202, 236, 277, 278, 279, 284,\n",
              "       287, 312, 406, 412, 413, 440])"
            ]
          },
          "metadata": {
            "tags": []
          },
          "execution_count": 65
        }
      ]
    },
    {
      "cell_type": "code",
      "metadata": {
        "id": "CMGL5Tdhp4_o"
      },
      "source": [
        "#Entfernung der schwangeren männlichen Patienten\n",
        "df_no_pregnat_m = df_cleaned_2.drop(labels=[35,  41,  57, 140, 144, 145, 194, 202, 236, 277, 278, 279, 284,\n",
        "       287, 312, 406, 412, 413, 440], axis=0)"
      ],
      "execution_count": 66,
      "outputs": []
    },
    {
      "cell_type": "markdown",
      "metadata": {
        "id": "9j-KyVX3rEBz"
      },
      "source": [
        "##Entfernung der nicht aktuell verstorbenen Patienten sowie der Patienten, mit Medikation nach Todesdatum und fehlerhaften Einträgen in der Spalte OBS_Date"
      ]
    },
    {
      "cell_type": "code",
      "metadata": {
        "id": "doXvRtq0r68U"
      },
      "source": [
        "#Identifikation laut Index aus Abschnitt Datenaufbereitung, 2B\n",
        "df_incorrect_deathdate = df_no_pregnat_m.drop(labels=[11,  62,  80,  83,  89, 143, 172, 183, 201, 204, 205, 217, 235,\n",
        "       246, 253, 297, 306, 315, 318, 330, 341, 347, 355, 356, 368,\n",
        "       395, 399, 402, 408, 411, 414, 416, 420, 438, 439, 463, 493], axis=0)"
      ],
      "execution_count": 67,
      "outputs": []
    },
    {
      "cell_type": "code",
      "metadata": {
        "id": "BKQvUAvMv0_r"
      },
      "source": [
        "#Welche Patienten sind vor 2019 gestorben?\n",
        "df_old_deathdate = df_incorrect_deathdate.loc[df_incorrect_deathdate['DEATHDATE'] < '2019-01-01']"
      ],
      "execution_count": 68,
      "outputs": []
    },
    {
      "cell_type": "code",
      "metadata": {
        "colab": {
          "base_uri": "https://localhost:8080/"
        },
        "id": "4s_mfnrAwXDK",
        "outputId": "bac5e54d-b1f8-41d3-fac5-c73d1fc82150"
      },
      "source": [
        "df_old_deathdate.count "
      ],
      "execution_count": 69,
      "outputs": [
        {
          "output_type": "execute_result",
          "data": {
            "text/plain": [
              "<bound method DataFrame.count of      BIRTHDATE  DEATHDATE  ... MED_REASONCODE MED_REASONDESCRIPTION\n",
              "107 1973-01-21 2007-09-23  ...    233678006.0      Childhood asthma\n",
              "111 1940-09-01 2015-01-27  ...    233678006.0      Childhood asthma\n",
              "169 1950-04-13 2001-11-12  ...     59621000.0          Hypertension\n",
              "178 1972-12-23 2001-12-19  ...     59621000.0          Hypertension\n",
              "180 1950-04-13 2006-06-05  ...     59621000.0          Hypertension\n",
              "256 1923-12-06 1988-04-01  ...    233678006.0      Childhood asthma\n",
              "259 1927-05-22 2014-03-22  ...    233678006.0      Childhood asthma\n",
              "264 1923-07-20 2002-03-15  ...    233678006.0      Childhood asthma\n",
              "270 1974-01-06 2011-06-25  ...    233678006.0      Childhood asthma\n",
              "273 1927-05-22 2008-09-12  ...    233678006.0      Childhood asthma\n",
              "291 1927-05-22 1996-12-22  ...    233678006.0      Childhood asthma\n",
              "308 1980-03-13 2017-07-04  ...    233678006.0      Childhood asthma\n",
              "319 1959-02-16 2018-09-24  ...    233678006.0      Childhood asthma\n",
              "387 1969-04-11 2002-04-26  ...     59621000.0          Hypertension\n",
              "392 1940-11-26 2011-02-08  ...     59621000.0          Hypertension\n",
              "428 1942-06-20 2000-12-24  ...     59621000.0          Hypertension\n",
              "447 1940-11-06 2014-12-25  ...     59621000.0          Hypertension\n",
              "462 1952-03-29 2015-04-19  ...            NaN                   NaN\n",
              "494 1913-06-27 1996-03-25  ...     59621000.0          Hypertension\n",
              "\n",
              "[19 rows x 22 columns]>"
            ]
          },
          "metadata": {
            "tags": []
          },
          "execution_count": 69
        }
      ]
    },
    {
      "cell_type": "markdown",
      "metadata": {
        "id": "wbiAUeRUY8ZL"
      },
      "source": [
        "19 Patienten wuden ausgeschlossen, da sie vor 2019 verstorben waren"
      ]
    },
    {
      "cell_type": "code",
      "metadata": {
        "colab": {
          "base_uri": "https://localhost:8080/"
        },
        "id": "5fhuIsFiwlNt",
        "outputId": "5085ca5b-d3c8-4484-b8dd-d968fd89f096"
      },
      "source": [
        "df_old_deathdate.index.values"
      ],
      "execution_count": 70,
      "outputs": [
        {
          "output_type": "execute_result",
          "data": {
            "text/plain": [
              "array([107, 111, 169, 178, 180, 256, 259, 264, 270, 273, 291, 308, 319,\n",
              "       387, 392, 428, 447, 462, 494])"
            ]
          },
          "metadata": {
            "tags": []
          },
          "execution_count": 70
        }
      ]
    },
    {
      "cell_type": "code",
      "metadata": {
        "id": "ijxui_kWvqjJ"
      },
      "source": [
        "df_clean_final = df_incorrect_deathdate.drop(labels=[107, 111, 169, 178, 180, 256, 259, 264, 270, 273, 291, 308, 319,\n",
        "       387, 392, 428, 447, 462], axis=0)"
      ],
      "execution_count": 71,
      "outputs": []
    },
    {
      "cell_type": "code",
      "metadata": {
        "id": "RVd-SA0MxjZy"
      },
      "source": [
        "#Löschen von Spalten mit fehlerhaften Eintrag in OBS_date"
      ],
      "execution_count": 72,
      "outputs": []
    },
    {
      "cell_type": "code",
      "metadata": {
        "id": "nGQp2XJfxt_B"
      },
      "source": [
        "df_clean_date = df_clean_final.loc[df_clean_final['OBS_DATE'] == \"4386200%\"]"
      ],
      "execution_count": 73,
      "outputs": []
    },
    {
      "cell_type": "code",
      "metadata": {
        "id": "h-i9vF_Cx5CE"
      },
      "source": [
        "df_clean_date2 = df_clean_final.loc[df_clean_final['OBS_DATE'] == \"4386300%\"]"
      ],
      "execution_count": 74,
      "outputs": []
    },
    {
      "cell_type": "code",
      "metadata": {
        "colab": {
          "base_uri": "https://localhost:8080/",
          "height": 128
        },
        "id": "3ZrCOnnVynm2",
        "outputId": "9e440e97-3660-4827-b451-38aa8e9566a3"
      },
      "source": [
        "df_clean_date2"
      ],
      "execution_count": 75,
      "outputs": [
        {
          "output_type": "execute_result",
          "data": {
            "text/html": [
              "<div>\n",
              "<style scoped>\n",
              "    .dataframe tbody tr th:only-of-type {\n",
              "        vertical-align: middle;\n",
              "    }\n",
              "\n",
              "    .dataframe tbody tr th {\n",
              "        vertical-align: top;\n",
              "    }\n",
              "\n",
              "    .dataframe thead th {\n",
              "        text-align: right;\n",
              "    }\n",
              "</style>\n",
              "<table border=\"1\" class=\"dataframe\">\n",
              "  <thead>\n",
              "    <tr style=\"text-align: right;\">\n",
              "      <th></th>\n",
              "      <th>BIRTHDATE</th>\n",
              "      <th>DEATHDATE</th>\n",
              "      <th>MARITAL</th>\n",
              "      <th>RACE</th>\n",
              "      <th>GENDER</th>\n",
              "      <th>BIRTHPLACE</th>\n",
              "      <th>OBS_DATE</th>\n",
              "      <th>OBS_CODE</th>\n",
              "      <th>OBS_DESCRIPTION</th>\n",
              "      <th>OBS_VALUE</th>\n",
              "      <th>OBS_UNITS</th>\n",
              "      <th>CON_START</th>\n",
              "      <th>CON_STOP</th>\n",
              "      <th>CON_CODE</th>\n",
              "      <th>CON_DESCRIPTION</th>\n",
              "      <th>MED_START</th>\n",
              "      <th>MED_STOP</th>\n",
              "      <th>MED_CODE</th>\n",
              "      <th>MED_DESCRIPTION</th>\n",
              "      <th>MED_DISPENSES</th>\n",
              "      <th>MED_REASONCODE</th>\n",
              "      <th>MED_REASONDESCRIPTION</th>\n",
              "    </tr>\n",
              "  </thead>\n",
              "  <tbody>\n",
              "    <tr>\n",
              "      <th>14</th>\n",
              "      <td>1983-09-30</td>\n",
              "      <td>NaT</td>\n",
              "      <td>M</td>\n",
              "      <td>white</td>\n",
              "      <td>F</td>\n",
              "      <td>Agawam  Massachusetts  US</td>\n",
              "      <td>4386300%</td>\n",
              "      <td>9843-4</td>\n",
              "      <td>Head Occipital-frontal circumference</td>\n",
              "      <td>47.4</td>\n",
              "      <td>cm</td>\n",
              "      <td>23.04.2019</td>\n",
              "      <td>07.05.2019</td>\n",
              "      <td>10509002</td>\n",
              "      <td>Acute bronchitis (disorder)</td>\n",
              "      <td>2019-12-26</td>\n",
              "      <td>NaN</td>\n",
              "      <td>757594.0</td>\n",
              "      <td>Jolivette 28 Day Pack</td>\n",
              "      <td>5.0</td>\n",
              "      <td>NaN</td>\n",
              "      <td>NaN</td>\n",
              "    </tr>\n",
              "  </tbody>\n",
              "</table>\n",
              "</div>"
            ],
            "text/plain": [
              "    BIRTHDATE DEATHDATE  ... MED_REASONCODE MED_REASONDESCRIPTION\n",
              "14 1983-09-30       NaT  ...            NaN                   NaN\n",
              "\n",
              "[1 rows x 22 columns]"
            ]
          },
          "metadata": {
            "tags": []
          },
          "execution_count": 75
        }
      ]
    },
    {
      "cell_type": "code",
      "metadata": {
        "id": "iR_bFBeiyxES"
      },
      "source": [
        "#Löschen der 13. und 14. Zeile"
      ],
      "execution_count": 76,
      "outputs": []
    },
    {
      "cell_type": "code",
      "metadata": {
        "id": "cE4bC648y2Ge"
      },
      "source": [
        "df_clean_final_v2 = df_clean_final.drop(labels=[13, 14], axis=0)"
      ],
      "execution_count": 77,
      "outputs": []
    },
    {
      "cell_type": "markdown",
      "metadata": {
        "id": "Dp-o_EYqZWrg"
      },
      "source": [
        "Finaler Dataframe für Version 2"
      ]
    },
    {
      "cell_type": "code",
      "metadata": {
        "id": "W2oR-T6SzCXq",
        "colab": {
          "base_uri": "https://localhost:8080/",
          "height": 752
        },
        "outputId": "fc780beb-144f-4ca1-ce60-97710a60a183"
      },
      "source": [
        "df_clean_final_v2 "
      ],
      "execution_count": 78,
      "outputs": [
        {
          "output_type": "execute_result",
          "data": {
            "text/html": [
              "<div>\n",
              "<style scoped>\n",
              "    .dataframe tbody tr th:only-of-type {\n",
              "        vertical-align: middle;\n",
              "    }\n",
              "\n",
              "    .dataframe tbody tr th {\n",
              "        vertical-align: top;\n",
              "    }\n",
              "\n",
              "    .dataframe thead th {\n",
              "        text-align: right;\n",
              "    }\n",
              "</style>\n",
              "<table border=\"1\" class=\"dataframe\">\n",
              "  <thead>\n",
              "    <tr style=\"text-align: right;\">\n",
              "      <th></th>\n",
              "      <th>BIRTHDATE</th>\n",
              "      <th>DEATHDATE</th>\n",
              "      <th>MARITAL</th>\n",
              "      <th>RACE</th>\n",
              "      <th>GENDER</th>\n",
              "      <th>BIRTHPLACE</th>\n",
              "      <th>OBS_DATE</th>\n",
              "      <th>OBS_CODE</th>\n",
              "      <th>OBS_DESCRIPTION</th>\n",
              "      <th>OBS_VALUE</th>\n",
              "      <th>OBS_UNITS</th>\n",
              "      <th>CON_START</th>\n",
              "      <th>CON_STOP</th>\n",
              "      <th>CON_CODE</th>\n",
              "      <th>CON_DESCRIPTION</th>\n",
              "      <th>MED_START</th>\n",
              "      <th>MED_STOP</th>\n",
              "      <th>MED_CODE</th>\n",
              "      <th>MED_DESCRIPTION</th>\n",
              "      <th>MED_DISPENSES</th>\n",
              "      <th>MED_REASONCODE</th>\n",
              "      <th>MED_REASONDESCRIPTION</th>\n",
              "    </tr>\n",
              "  </thead>\n",
              "  <tbody>\n",
              "    <tr>\n",
              "      <th>0</th>\n",
              "      <td>2017-08-24</td>\n",
              "      <td>NaT</td>\n",
              "      <td>NaN</td>\n",
              "      <td>white</td>\n",
              "      <td>M</td>\n",
              "      <td>Beverly  Massachusetts  US</td>\n",
              "      <td>01.08.2019</td>\n",
              "      <td>8302-2</td>\n",
              "      <td>Body Height</td>\n",
              "      <td>82.7</td>\n",
              "      <td>cm</td>\n",
              "      <td>01.05.2001</td>\n",
              "      <td>NaN</td>\n",
              "      <td>40055000</td>\n",
              "      <td>Chronic sinusitis (disorder)</td>\n",
              "      <td>2019-10-30</td>\n",
              "      <td>13.11.2019</td>\n",
              "      <td>308182.0</td>\n",
              "      <td>Amoxicillin 250 MG Oral Capsule</td>\n",
              "      <td>1.0</td>\n",
              "      <td>NaN</td>\n",
              "      <td>NaN</td>\n",
              "    </tr>\n",
              "    <tr>\n",
              "      <th>1</th>\n",
              "      <td>2016-01-08</td>\n",
              "      <td>NaT</td>\n",
              "      <td>NaN</td>\n",
              "      <td>white</td>\n",
              "      <td>F</td>\n",
              "      <td>Boston  Massachusetts  US</td>\n",
              "      <td>01.08.2019</td>\n",
              "      <td>72514-3</td>\n",
              "      <td>Pain severity - 0-10 verbal numeric rating [Sc...</td>\n",
              "      <td>2.0</td>\n",
              "      <td>{score}</td>\n",
              "      <td>09.08.2011</td>\n",
              "      <td>16.08.2011</td>\n",
              "      <td>444814009</td>\n",
              "      <td>Viral sinusitis (disorder)</td>\n",
              "      <td>2019-10-30</td>\n",
              "      <td>13.11.2019</td>\n",
              "      <td>313820.0</td>\n",
              "      <td>Acetaminophen 160 MG Chewable Tablet</td>\n",
              "      <td>1.0</td>\n",
              "      <td>NaN</td>\n",
              "      <td>NaN</td>\n",
              "    </tr>\n",
              "    <tr>\n",
              "      <th>2</th>\n",
              "      <td>1992-06-30</td>\n",
              "      <td>NaT</td>\n",
              "      <td>S</td>\n",
              "      <td>white</td>\n",
              "      <td>M</td>\n",
              "      <td>Springfield  Massachusetts  US</td>\n",
              "      <td>01.08.2019</td>\n",
              "      <td>29463-7</td>\n",
              "      <td>Body Weight</td>\n",
              "      <td>12. Jun</td>\n",
              "      <td>kg</td>\n",
              "      <td>16.11.2011</td>\n",
              "      <td>26.11.2011</td>\n",
              "      <td>195662009</td>\n",
              "      <td>Acute viral pharyngitis (disorder)</td>\n",
              "      <td>2020-12-02</td>\n",
              "      <td>26.02.2020</td>\n",
              "      <td>313820.0</td>\n",
              "      <td>Acetaminophen 160 MG Chewable Tablet</td>\n",
              "      <td>1.0</td>\n",
              "      <td>NaN</td>\n",
              "      <td>NaN</td>\n",
              "    </tr>\n",
              "    <tr>\n",
              "      <th>3</th>\n",
              "      <td>2004-09-01</td>\n",
              "      <td>NaT</td>\n",
              "      <td>NaN</td>\n",
              "      <td>white</td>\n",
              "      <td>F</td>\n",
              "      <td>Worcester  Massachusetts  US</td>\n",
              "      <td>01.08.2019</td>\n",
              "      <td>77606-2</td>\n",
              "      <td>Weight-for-length Per age and sex</td>\n",
              "      <td>86.1</td>\n",
              "      <td>%</td>\n",
              "      <td>13.05.2011</td>\n",
              "      <td>27.05.2011</td>\n",
              "      <td>10509002</td>\n",
              "      <td>Acute bronchitis (disorder)</td>\n",
              "      <td>2020-04-28</td>\n",
              "      <td>08.05.2020</td>\n",
              "      <td>834061.0</td>\n",
              "      <td>Penicillin V Potassium 250 MG Oral Tablet</td>\n",
              "      <td>1.0</td>\n",
              "      <td>43878008.0</td>\n",
              "      <td>Streptococcal sore throat (disorder)</td>\n",
              "    </tr>\n",
              "    <tr>\n",
              "      <th>4</th>\n",
              "      <td>1996-11-15</td>\n",
              "      <td>NaT</td>\n",
              "      <td>NaN</td>\n",
              "      <td>white</td>\n",
              "      <td>M</td>\n",
              "      <td>Patras  Achaea  GR</td>\n",
              "      <td>01.08.2019</td>\n",
              "      <td>9843-4</td>\n",
              "      <td>Head Occipital-frontal circumference</td>\n",
              "      <td>46.9</td>\n",
              "      <td>cm</td>\n",
              "      <td>06.02.2011</td>\n",
              "      <td>14.02.2011</td>\n",
              "      <td>195662009</td>\n",
              "      <td>Acute viral pharyngitis (disorder)</td>\n",
              "      <td>2010-11-22</td>\n",
              "      <td>30.08.2011</td>\n",
              "      <td>999967.0</td>\n",
              "      <td>amLODIPine 5 MG / Hydrochlorothiazide 12.5 MG ...</td>\n",
              "      <td>9.0</td>\n",
              "      <td>59621000.0</td>\n",
              "      <td>Hypertension</td>\n",
              "    </tr>\n",
              "    <tr>\n",
              "      <th>...</th>\n",
              "      <td>...</td>\n",
              "      <td>...</td>\n",
              "      <td>...</td>\n",
              "      <td>...</td>\n",
              "      <td>...</td>\n",
              "      <td>...</td>\n",
              "      <td>...</td>\n",
              "      <td>...</td>\n",
              "      <td>...</td>\n",
              "      <td>...</td>\n",
              "      <td>...</td>\n",
              "      <td>...</td>\n",
              "      <td>...</td>\n",
              "      <td>...</td>\n",
              "      <td>...</td>\n",
              "      <td>...</td>\n",
              "      <td>...</td>\n",
              "      <td>...</td>\n",
              "      <td>...</td>\n",
              "      <td>...</td>\n",
              "      <td>...</td>\n",
              "      <td>...</td>\n",
              "    </tr>\n",
              "    <tr>\n",
              "      <th>492</th>\n",
              "      <td>1955-02-04</td>\n",
              "      <td>2019-05-14</td>\n",
              "      <td>M</td>\n",
              "      <td>white</td>\n",
              "      <td>M</td>\n",
              "      <td>Revere  Massachusetts  US</td>\n",
              "      <td>24.02.2020</td>\n",
              "      <td>718-7</td>\n",
              "      <td>Hemoglobin [Mass/volume] in Blood</td>\n",
              "      <td>12. Mrz</td>\n",
              "      <td>g/dL</td>\n",
              "      <td>21.03.1967</td>\n",
              "      <td>NaN</td>\n",
              "      <td>74400008</td>\n",
              "      <td>Appendicitis</td>\n",
              "      <td>2018-05-12</td>\n",
              "      <td>11.12.2019</td>\n",
              "      <td>429503.0</td>\n",
              "      <td>Hydrochlorothiazide 12.5 MG</td>\n",
              "      <td>12.0</td>\n",
              "      <td>59621000.0</td>\n",
              "      <td>Hypertension</td>\n",
              "    </tr>\n",
              "    <tr>\n",
              "      <th>494</th>\n",
              "      <td>1913-06-27</td>\n",
              "      <td>1996-03-25</td>\n",
              "      <td>M</td>\n",
              "      <td>black</td>\n",
              "      <td>M</td>\n",
              "      <td>Millis  Massachusetts  US</td>\n",
              "      <td>24.02.2020</td>\n",
              "      <td>787-2</td>\n",
              "      <td>MCV [Entitic volume] by Automated count</td>\n",
              "      <td>89.3</td>\n",
              "      <td>fL</td>\n",
              "      <td>12.06.1977</td>\n",
              "      <td>NaN</td>\n",
              "      <td>370143000</td>\n",
              "      <td>Major depression disorder</td>\n",
              "      <td>1977-09-09</td>\n",
              "      <td>16.08.1978</td>\n",
              "      <td>746030.0</td>\n",
              "      <td>Atenolol 50 MG / Chlorthalidone 25 MG Oral Tablet</td>\n",
              "      <td>11.0</td>\n",
              "      <td>59621000.0</td>\n",
              "      <td>Hypertension</td>\n",
              "    </tr>\n",
              "    <tr>\n",
              "      <th>495</th>\n",
              "      <td>1986-03-29</td>\n",
              "      <td>NaT</td>\n",
              "      <td>M</td>\n",
              "      <td>white</td>\n",
              "      <td>M</td>\n",
              "      <td>Haverhill  Massachusetts  US</td>\n",
              "      <td>24.02.2020</td>\n",
              "      <td>785-6</td>\n",
              "      <td>MCH [Entitic mass] by Automated count</td>\n",
              "      <td>29. Mai</td>\n",
              "      <td>pg</td>\n",
              "      <td>29.06.1980</td>\n",
              "      <td>NaN</td>\n",
              "      <td>7200002</td>\n",
              "      <td>Alcoholism</td>\n",
              "      <td>1978-08-16</td>\n",
              "      <td>22.08.1979</td>\n",
              "      <td>746030.0</td>\n",
              "      <td>Atenolol 50 MG / Chlorthalidone 25 MG Oral Tablet</td>\n",
              "      <td>12.0</td>\n",
              "      <td>59621000.0</td>\n",
              "      <td>Hypertension</td>\n",
              "    </tr>\n",
              "    <tr>\n",
              "      <th>496</th>\n",
              "      <td>1954-12-11</td>\n",
              "      <td>NaT</td>\n",
              "      <td>M</td>\n",
              "      <td>white</td>\n",
              "      <td>F</td>\n",
              "      <td>Attleboro  Massachusetts  US</td>\n",
              "      <td>24.02.2020</td>\n",
              "      <td>786-4</td>\n",
              "      <td>MCHC [Mass/volume] by Automated count</td>\n",
              "      <td>32.4</td>\n",
              "      <td>g/dL</td>\n",
              "      <td>29.06.1980</td>\n",
              "      <td>NaN</td>\n",
              "      <td>15777000</td>\n",
              "      <td>Prediabetes</td>\n",
              "      <td>1979-08-22</td>\n",
              "      <td>27.08.1980</td>\n",
              "      <td>746030.0</td>\n",
              "      <td>Atenolol 50 MG / Chlorthalidone 25 MG Oral Tablet</td>\n",
              "      <td>12.0</td>\n",
              "      <td>59621000.0</td>\n",
              "      <td>Hypertension</td>\n",
              "    </tr>\n",
              "    <tr>\n",
              "      <th>497</th>\n",
              "      <td>1943-03-21</td>\n",
              "      <td>NaT</td>\n",
              "      <td>M</td>\n",
              "      <td>white</td>\n",
              "      <td>F</td>\n",
              "      <td>Amherst  Massachusetts  US</td>\n",
              "      <td>24.02.2020</td>\n",
              "      <td>788-0</td>\n",
              "      <td>Erythrocyte distribution width [Ratio] by Auto...</td>\n",
              "      <td>14. Jan</td>\n",
              "      <td>%</td>\n",
              "      <td>29.06.1980</td>\n",
              "      <td>NaN</td>\n",
              "      <td>271737000</td>\n",
              "      <td>Anemia (disorder)</td>\n",
              "      <td>1980-08-27</td>\n",
              "      <td>02.09.1981</td>\n",
              "      <td>746030.0</td>\n",
              "      <td>Atenolol 50 MG / Chlorthalidone 25 MG Oral Tablet</td>\n",
              "      <td>12.0</td>\n",
              "      <td>59621000.0</td>\n",
              "      <td>Hypertension</td>\n",
              "    </tr>\n",
              "  </tbody>\n",
              "</table>\n",
              "<p>407 rows × 22 columns</p>\n",
              "</div>"
            ],
            "text/plain": [
              "     BIRTHDATE  DEATHDATE  ... MED_REASONCODE                 MED_REASONDESCRIPTION\n",
              "0   2017-08-24        NaT  ...            NaN                                   NaN\n",
              "1   2016-01-08        NaT  ...            NaN                                   NaN\n",
              "2   1992-06-30        NaT  ...            NaN                                   NaN\n",
              "3   2004-09-01        NaT  ...     43878008.0  Streptococcal sore throat (disorder)\n",
              "4   1996-11-15        NaT  ...     59621000.0                          Hypertension\n",
              "..         ...        ...  ...            ...                                   ...\n",
              "492 1955-02-04 2019-05-14  ...     59621000.0                          Hypertension\n",
              "494 1913-06-27 1996-03-25  ...     59621000.0                          Hypertension\n",
              "495 1986-03-29        NaT  ...     59621000.0                          Hypertension\n",
              "496 1954-12-11        NaT  ...     59621000.0                          Hypertension\n",
              "497 1943-03-21        NaT  ...     59621000.0                          Hypertension\n",
              "\n",
              "[407 rows x 22 columns]"
            ]
          },
          "metadata": {
            "tags": []
          },
          "execution_count": 78
        }
      ]
    },
    {
      "cell_type": "code",
      "metadata": {
        "colab": {
          "base_uri": "https://localhost:8080/"
        },
        "id": "vLVEQAA-dM-K",
        "outputId": "d43718b1-aa79-4ea7-8612-43abf10b503c"
      },
      "source": [
        "df_clean_final_v2.info()"
      ],
      "execution_count": 79,
      "outputs": [
        {
          "output_type": "stream",
          "text": [
            "<class 'pandas.core.frame.DataFrame'>\n",
            "Int64Index: 407 entries, 0 to 497\n",
            "Data columns (total 22 columns):\n",
            " #   Column                 Non-Null Count  Dtype         \n",
            "---  ------                 --------------  -----         \n",
            " 0   BIRTHDATE              404 non-null    datetime64[ns]\n",
            " 1   DEATHDATE              12 non-null     datetime64[ns]\n",
            " 2   MARITAL                263 non-null    object        \n",
            " 3   RACE                   404 non-null    object        \n",
            " 4   GENDER                 404 non-null    object        \n",
            " 5   BIRTHPLACE             404 non-null    object        \n",
            " 6   OBS_DATE               404 non-null    object        \n",
            " 7   OBS_CODE               404 non-null    object        \n",
            " 8   OBS_DESCRIPTION        404 non-null    object        \n",
            " 9   OBS_VALUE              404 non-null    object        \n",
            " 10  OBS_UNITS              349 non-null    object        \n",
            " 11  CON_START              404 non-null    object        \n",
            " 12  CON_STOP               252 non-null    object        \n",
            " 13  CON_CODE               404 non-null    object        \n",
            " 14  CON_DESCRIPTION        404 non-null    object        \n",
            " 15  MED_START              404 non-null    datetime64[ns]\n",
            " 16  MED_STOP               349 non-null    object        \n",
            " 17  MED_CODE               404 non-null    float64       \n",
            " 18  MED_DESCRIPTION        404 non-null    object        \n",
            " 19  MED_DISPENSES          404 non-null    float64       \n",
            " 20  MED_REASONCODE         341 non-null    float64       \n",
            " 21  MED_REASONDESCRIPTION  341 non-null    object        \n",
            "dtypes: datetime64[ns](3), float64(3), object(16)\n",
            "memory usage: 73.1+ KB\n"
          ],
          "name": "stdout"
        }
      ]
    },
    {
      "cell_type": "code",
      "metadata": {
        "colab": {
          "base_uri": "https://localhost:8080/"
        },
        "id": "b6QF4cR0huN_",
        "outputId": "e2fca109-6b2b-4635-ad1e-735d79bf4184"
      },
      "source": [
        "df_clean_final_v2.loc[1]"
      ],
      "execution_count": 80,
      "outputs": [
        {
          "output_type": "execute_result",
          "data": {
            "text/plain": [
              "BIRTHDATE                                              2016-01-08 00:00:00\n",
              "DEATHDATE                                                              NaT\n",
              "MARITAL                                                                NaN\n",
              "RACE                                                                 white\n",
              "GENDER                                                                   F\n",
              "BIRTHPLACE                                       Boston  Massachusetts  US\n",
              "OBS_DATE                                                        01.08.2019\n",
              "OBS_CODE                                                           72514-3\n",
              "OBS_DESCRIPTION          Pain severity - 0-10 verbal numeric rating [Sc...\n",
              "OBS_VALUE                                                              2.0\n",
              "OBS_UNITS                                                          {score}\n",
              "CON_START                                                       09.08.2011\n",
              "CON_STOP                                                        16.08.2011\n",
              "CON_CODE                                                         444814009\n",
              "CON_DESCRIPTION                                 Viral sinusitis (disorder)\n",
              "MED_START                                              2019-10-30 00:00:00\n",
              "MED_STOP                                                        13.11.2019\n",
              "MED_CODE                                                            313820\n",
              "MED_DESCRIPTION                       Acetaminophen 160 MG Chewable Tablet\n",
              "MED_DISPENSES                                                            1\n",
              "MED_REASONCODE                                                         NaN\n",
              "MED_REASONDESCRIPTION                                                  NaN\n",
              "Name: 1, dtype: object"
            ]
          },
          "metadata": {
            "tags": []
          },
          "execution_count": 80
        }
      ]
    },
    {
      "cell_type": "code",
      "metadata": {
        "colab": {
          "base_uri": "https://localhost:8080/"
        },
        "id": "ewtevSl_dSp9",
        "outputId": "5743f7ce-dbf6-4869-ced4-4534c2f7b56d"
      },
      "source": [
        "df_clean_final_v2.describe"
      ],
      "execution_count": 81,
      "outputs": [
        {
          "output_type": "execute_result",
          "data": {
            "text/plain": [
              "<bound method NDFrame.describe of      BIRTHDATE  DEATHDATE  ... MED_REASONCODE                 MED_REASONDESCRIPTION\n",
              "0   2017-08-24        NaT  ...            NaN                                   NaN\n",
              "1   2016-01-08        NaT  ...            NaN                                   NaN\n",
              "2   1992-06-30        NaT  ...            NaN                                   NaN\n",
              "3   2004-09-01        NaT  ...     43878008.0  Streptococcal sore throat (disorder)\n",
              "4   1996-11-15        NaT  ...     59621000.0                          Hypertension\n",
              "..         ...        ...  ...            ...                                   ...\n",
              "492 1955-02-04 2019-05-14  ...     59621000.0                          Hypertension\n",
              "494 1913-06-27 1996-03-25  ...     59621000.0                          Hypertension\n",
              "495 1986-03-29        NaT  ...     59621000.0                          Hypertension\n",
              "496 1954-12-11        NaT  ...     59621000.0                          Hypertension\n",
              "497 1943-03-21        NaT  ...     59621000.0                          Hypertension\n",
              "\n",
              "[407 rows x 22 columns]>"
            ]
          },
          "metadata": {
            "tags": []
          },
          "execution_count": 81
        }
      ]
    },
    {
      "cell_type": "markdown",
      "metadata": {
        "id": "PG-KPqjaxC2j"
      },
      "source": [
        "##Erstellung Version 2"
      ]
    },
    {
      "cell_type": "code",
      "metadata": {
        "id": "ljPNIWwwxHEi"
      },
      "source": [
        "#df_clean_final_v2.to_csv(r'/content/drive/MyDrive/Forschungsdatenmanagement/Hausarbeit/csv_files/Kopie_Complete_Dataset_Covid_10k_Valid_V2.csv', index = False)"
      ],
      "execution_count": 82,
      "outputs": []
    },
    {
      "cell_type": "markdown",
      "metadata": {
        "id": "ElAaX_Ycqzk7"
      },
      "source": [
        "#4. Metadaten"
      ]
    },
    {
      "cell_type": "code",
      "metadata": {
        "id": "WmGovi0AzsqH"
      },
      "source": [
        "#Überführung der anderen Daten in das ISO 8601 Format mittels pd.to_datetime"
      ],
      "execution_count": 83,
      "outputs": []
    },
    {
      "cell_type": "code",
      "metadata": {
        "id": "x1fk7UKXt6hu"
      },
      "source": [
        "df = df_clean_final_v2"
      ],
      "execution_count": 84,
      "outputs": []
    },
    {
      "cell_type": "code",
      "metadata": {
        "id": "tw6HfiLQt3QX"
      },
      "source": [
        "df[\"OBS_DATE\"] = pd.to_datetime(df[\"OBS_DATE\"])\n",
        "df[\"MED_STOP\"] = pd.to_datetime(df[\"MED_STOP\"])"
      ],
      "execution_count": 85,
      "outputs": []
    },
    {
      "cell_type": "code",
      "metadata": {
        "colab": {
          "base_uri": "https://localhost:8080/"
        },
        "id": "1l7_bmkbjjw5",
        "outputId": "9b0d8823-03fc-4561-fa04-2b357dd27d3c"
      },
      "source": [
        "df.info()"
      ],
      "execution_count": 86,
      "outputs": [
        {
          "output_type": "stream",
          "text": [
            "<class 'pandas.core.frame.DataFrame'>\n",
            "Int64Index: 407 entries, 0 to 497\n",
            "Data columns (total 22 columns):\n",
            " #   Column                 Non-Null Count  Dtype         \n",
            "---  ------                 --------------  -----         \n",
            " 0   BIRTHDATE              404 non-null    datetime64[ns]\n",
            " 1   DEATHDATE              12 non-null     datetime64[ns]\n",
            " 2   MARITAL                263 non-null    object        \n",
            " 3   RACE                   404 non-null    object        \n",
            " 4   GENDER                 404 non-null    object        \n",
            " 5   BIRTHPLACE             404 non-null    object        \n",
            " 6   OBS_DATE               404 non-null    datetime64[ns]\n",
            " 7   OBS_CODE               404 non-null    object        \n",
            " 8   OBS_DESCRIPTION        404 non-null    object        \n",
            " 9   OBS_VALUE              404 non-null    object        \n",
            " 10  OBS_UNITS              349 non-null    object        \n",
            " 11  CON_START              404 non-null    object        \n",
            " 12  CON_STOP               252 non-null    object        \n",
            " 13  CON_CODE               404 non-null    object        \n",
            " 14  CON_DESCRIPTION        404 non-null    object        \n",
            " 15  MED_START              404 non-null    datetime64[ns]\n",
            " 16  MED_STOP               349 non-null    datetime64[ns]\n",
            " 17  MED_CODE               404 non-null    float64       \n",
            " 18  MED_DESCRIPTION        404 non-null    object        \n",
            " 19  MED_DISPENSES          404 non-null    float64       \n",
            " 20  MED_REASONCODE         341 non-null    float64       \n",
            " 21  MED_REASONDESCRIPTION  341 non-null    object        \n",
            "dtypes: datetime64[ns](5), float64(3), object(14)\n",
            "memory usage: 93.1+ KB\n"
          ],
          "name": "stdout"
        }
      ]
    },
    {
      "cell_type": "code",
      "metadata": {
        "colab": {
          "base_uri": "https://localhost:8080/"
        },
        "id": "ncfTCe8Ejq9d",
        "outputId": "58738d54-2a67-4aa0-b3ff-b3097fe7b33f"
      },
      "source": [
        "df.loc[1]"
      ],
      "execution_count": 87,
      "outputs": [
        {
          "output_type": "execute_result",
          "data": {
            "text/plain": [
              "BIRTHDATE                                              2016-01-08 00:00:00\n",
              "DEATHDATE                                                              NaT\n",
              "MARITAL                                                                NaN\n",
              "RACE                                                                 white\n",
              "GENDER                                                                   F\n",
              "BIRTHPLACE                                       Boston  Massachusetts  US\n",
              "OBS_DATE                                               2019-01-08 00:00:00\n",
              "OBS_CODE                                                           72514-3\n",
              "OBS_DESCRIPTION          Pain severity - 0-10 verbal numeric rating [Sc...\n",
              "OBS_VALUE                                                              2.0\n",
              "OBS_UNITS                                                          {score}\n",
              "CON_START                                                       09.08.2011\n",
              "CON_STOP                                                        16.08.2011\n",
              "CON_CODE                                                         444814009\n",
              "CON_DESCRIPTION                                 Viral sinusitis (disorder)\n",
              "MED_START                                              2019-10-30 00:00:00\n",
              "MED_STOP                                               2019-11-13 00:00:00\n",
              "MED_CODE                                                            313820\n",
              "MED_DESCRIPTION                       Acetaminophen 160 MG Chewable Tablet\n",
              "MED_DISPENSES                                                            1\n",
              "MED_REASONCODE                                                         NaN\n",
              "MED_REASONDESCRIPTION                                                  NaN\n",
              "Name: 1, dtype: object"
            ]
          },
          "metadata": {
            "tags": []
          },
          "execution_count": 87
        }
      ]
    },
    {
      "cell_type": "markdown",
      "metadata": {
        "id": "H-cPwje80jkQ"
      },
      "source": [
        "##Erstellung Version 3"
      ]
    },
    {
      "cell_type": "code",
      "metadata": {
        "id": "YzV2oH37zZUn"
      },
      "source": [
        "#df.to_csv(r'/content/drive/MyDrive/Forschungsdatenmanagement/Hausarbeit/csv_files/Kopie_Complete_Dataset_Covid_10k_Valid_V3.csv', index = False)"
      ],
      "execution_count": 88,
      "outputs": []
    },
    {
      "cell_type": "markdown",
      "metadata": {
        "id": "e8Vm0_vaakCs"
      },
      "source": [
        "#Data Cleaning"
      ]
    },
    {
      "cell_type": "markdown",
      "metadata": {
        "id": "RbSwZypKsDTf"
      },
      "source": [
        "## Fehlende Werte/Nullwerte Identifizieren\n",
        "\n"
      ]
    },
    {
      "cell_type": "markdown",
      "metadata": {
        "id": "LnTcDelFtY8L"
      },
      "source": [
        "### Heatmap "
      ]
    },
    {
      "cell_type": "markdown",
      "metadata": {
        "id": "qOPUxdCxssEP"
      },
      "source": [
        "Mithilfe des Tools Seaborn können leere Zeilen im Dataframe erkannt werden."
      ]
    },
    {
      "cell_type": "code",
      "metadata": {
        "colab": {
          "base_uri": "https://localhost:8080/",
          "height": 755
        },
        "id": "pg08rUi3sHw3",
        "outputId": "73e92800-1c16-4c72-fb9f-3c3dbe589870"
      },
      "source": [
        "cols = df.columns\n",
        "colours = ['#000099', '#ffff00'] # yellow is missing. blue is not missing.\n",
        "#Erstellung einer Heatmap\n",
        "sns.set(rc={'figure.figsize':(10,10)})\n",
        "sns.heatmap(df[cols].isnull(), cmap=sns.color_palette(colours))"
      ],
      "execution_count": 89,
      "outputs": [
        {
          "output_type": "execute_result",
          "data": {
            "text/plain": [
              "<matplotlib.axes._subplots.AxesSubplot at 0x7f7c50fd2110>"
            ]
          },
          "metadata": {
            "tags": []
          },
          "execution_count": 89
        },
        {
          "output_type": "display_data",
          "data": {
            "image/png": "[encoded data removed]",
            "text/plain": [
              "<Figure size 720x720 with 2 Axes>"
            ]
          },
          "metadata": {
            "tags": []
          }
        }
      ]
    },
    {
      "cell_type": "markdown",
      "metadata": {
        "id": "upFDu_dUtFSf"
      },
      "source": [
        "**Interpretation:**\n",
        "1.   komplett leere Zeilen im Bereich um 95, 220 und 241 identifiziert.\n",
        "2.   Einige Variabeln wie DEATHDATE, OBS_UNIT und CON_STOP haben relativ viele leere Zeilen.\n",
        "\n",
        "\n"
      ]
    },
    {
      "cell_type": "markdown",
      "metadata": {
        "id": "kG06jVVYtdLT"
      },
      "source": [
        "### Fehlende Werte in %"
      ]
    },
    {
      "cell_type": "markdown",
      "metadata": {
        "id": "04Ilvg15tvOT"
      },
      "source": [
        "Mittels eines for loops können die fehlenden Werte quantifiziert werden:"
      ]
    },
    {
      "cell_type": "code",
      "metadata": {
        "colab": {
          "base_uri": "https://localhost:8080/"
        },
        "id": "qoR-BxcBtwXI",
        "outputId": "23d3ce2a-f0e6-4df9-98a7-d08776c33767"
      },
      "source": [
        "for col in df.columns:\n",
        "    pct_missing = np.mean(df[col].isnull())\n",
        "    print('{} - {}%'.format(col, round(pct_missing*100)))"
      ],
      "execution_count": 90,
      "outputs": [
        {
          "output_type": "stream",
          "text": [
            "BIRTHDATE - 1%\n",
            "DEATHDATE - 97%\n",
            "MARITAL - 35%\n",
            "RACE - 1%\n",
            "GENDER - 1%\n",
            "BIRTHPLACE - 1%\n",
            "OBS_DATE - 1%\n",
            "OBS_CODE - 1%\n",
            "OBS_DESCRIPTION - 1%\n",
            "OBS_VALUE - 1%\n",
            "OBS_UNITS - 14%\n",
            "CON_START - 1%\n",
            "CON_STOP - 38%\n",
            "CON_CODE - 1%\n",
            "CON_DESCRIPTION - 1%\n",
            "MED_START - 1%\n",
            "MED_STOP - 14%\n",
            "MED_CODE - 1%\n",
            "MED_DESCRIPTION - 1%\n",
            "MED_DISPENSES - 1%\n",
            "MED_REASONCODE - 16%\n",
            "MED_REASONDESCRIPTION - 16%\n"
          ],
          "name": "stdout"
        }
      ]
    },
    {
      "cell_type": "markdown",
      "metadata": {
        "id": "CtYahoK-v3FS"
      },
      "source": [
        "###Lösungsvorschlag: Leere Zeilen löschen"
      ]
    },
    {
      "cell_type": "code",
      "metadata": {
        "id": "Symwzj5s9ZWt"
      },
      "source": [
        "#Kompletter DF zeigen\n",
        "#pd.set_option(\"display.max_rows\", None, \"display.max_columns\", None)\n",
        "#df"
      ],
      "execution_count": 91,
      "outputs": []
    },
    {
      "cell_type": "code",
      "metadata": {
        "colab": {
          "base_uri": "https://localhost:8080/"
        },
        "id": "JhQyOGQABhp6",
        "outputId": "b34cba43-77b5-43ac-f08c-fc763041a4a4"
      },
      "source": [
        "#Zeilen identifizieren, in denen das Geburstdatum = 0 ist.\n",
        "df['BIRTHDATE'].isnull().sum()"
      ],
      "execution_count": 92,
      "outputs": [
        {
          "output_type": "execute_result",
          "data": {
            "text/plain": [
              "3"
            ]
          },
          "metadata": {
            "tags": []
          },
          "execution_count": 92
        }
      ]
    },
    {
      "cell_type": "code",
      "metadata": {
        "colab": {
          "base_uri": "https://localhost:8080/"
        },
        "id": "8U0Uuf1_CnSW",
        "outputId": "d113e3d2-8687-455d-c17c-319b80bf9cc3"
      },
      "source": [
        "#Zeilen identifizieren, in denen das Geburstdatum = 0 ist.\n",
        "index = df.loc[pd.isna(df[\"BIRTHDATE\"]), :].index\n",
        "index"
      ],
      "execution_count": 93,
      "outputs": [
        {
          "output_type": "execute_result",
          "data": {
            "text/plain": [
              "Int64Index([95, 225, 242], dtype='int64')"
            ]
          },
          "metadata": {
            "tags": []
          },
          "execution_count": 93
        }
      ]
    },
    {
      "cell_type": "code",
      "metadata": {
        "id": "IzgScyZ8DBs3"
      },
      "source": [
        "#Indizierte Zeilen aus dem Dataframe löschen\n",
        "df = df.drop(index)"
      ],
      "execution_count": 94,
      "outputs": []
    },
    {
      "cell_type": "code",
      "metadata": {
        "colab": {
          "base_uri": "https://localhost:8080/"
        },
        "id": "Ru30AuOKEfoS",
        "outputId": "7c6c62d8-765c-43a6-858f-b9540d386332"
      },
      "source": [
        "df.shape"
      ],
      "execution_count": 95,
      "outputs": [
        {
          "output_type": "execute_result",
          "data": {
            "text/plain": [
              "(404, 22)"
            ]
          },
          "metadata": {
            "tags": []
          },
          "execution_count": 95
        }
      ]
    },
    {
      "cell_type": "markdown",
      "metadata": {
        "id": "-PtdIaKzEhjG"
      },
      "source": [
        "3 Zeilen wurden aus dem Dataframe gelöscht.\n"
      ]
    },
    {
      "cell_type": "markdown",
      "metadata": {
        "id": "c9nvXv8AFUmg"
      },
      "source": [
        "## Duplikate"
      ]
    },
    {
      "cell_type": "markdown",
      "metadata": {
        "id": "0prjlfnaG1Mg"
      },
      "source": [
        "Duplizierte Reihen indentifizieren anhand von 5 Spalten"
      ]
    },
    {
      "cell_type": "code",
      "metadata": {
        "id": "HcHVTSwJUuZm"
      },
      "source": [
        "#Definition der Spalten\n",
        "column_names = ['BIRTHDATE', 'DEATHDATE', 'MARITAL', 'GENDER', 'BIRTHPLACE']"
      ],
      "execution_count": 96,
      "outputs": []
    },
    {
      "cell_type": "code",
      "metadata": {
        "colab": {
          "base_uri": "https://localhost:8080/",
          "height": 345
        },
        "id": "EELNNfH5TMdq",
        "outputId": "a2fbbd2d-6ae1-4f43-ea51-4c2cbc99faa4"
      },
      "source": [
        "#Identifikation der duplizierten Zeilen\n",
        "duplicates = df.duplicated(subset = column_names, keep=False)\n",
        "df[duplicates]"
      ],
      "execution_count": 97,
      "outputs": [
        {
          "output_type": "execute_result",
          "data": {
            "text/html": [
              "<div>\n",
              "<style scoped>\n",
              "    .dataframe tbody tr th:only-of-type {\n",
              "        vertical-align: middle;\n",
              "    }\n",
              "\n",
              "    .dataframe tbody tr th {\n",
              "        vertical-align: top;\n",
              "    }\n",
              "\n",
              "    .dataframe thead th {\n",
              "        text-align: right;\n",
              "    }\n",
              "</style>\n",
              "<table border=\"1\" class=\"dataframe\">\n",
              "  <thead>\n",
              "    <tr style=\"text-align: right;\">\n",
              "      <th></th>\n",
              "      <th>BIRTHDATE</th>\n",
              "      <th>DEATHDATE</th>\n",
              "      <th>MARITAL</th>\n",
              "      <th>RACE</th>\n",
              "      <th>GENDER</th>\n",
              "      <th>BIRTHPLACE</th>\n",
              "      <th>OBS_DATE</th>\n",
              "      <th>OBS_CODE</th>\n",
              "      <th>OBS_DESCRIPTION</th>\n",
              "      <th>OBS_VALUE</th>\n",
              "      <th>OBS_UNITS</th>\n",
              "      <th>CON_START</th>\n",
              "      <th>CON_STOP</th>\n",
              "      <th>CON_CODE</th>\n",
              "      <th>CON_DESCRIPTION</th>\n",
              "      <th>MED_START</th>\n",
              "      <th>MED_STOP</th>\n",
              "      <th>MED_CODE</th>\n",
              "      <th>MED_DESCRIPTION</th>\n",
              "      <th>MED_DISPENSES</th>\n",
              "      <th>MED_REASONCODE</th>\n",
              "      <th>MED_REASONDESCRIPTION</th>\n",
              "    </tr>\n",
              "  </thead>\n",
              "  <tbody>\n",
              "    <tr>\n",
              "      <th>23</th>\n",
              "      <td>1986-02-25</td>\n",
              "      <td>NaT</td>\n",
              "      <td>M</td>\n",
              "      <td>native</td>\n",
              "      <td>F</td>\n",
              "      <td>Lynn  Massachusetts  US</td>\n",
              "      <td>2020-01-03</td>\n",
              "      <td>9279-1</td>\n",
              "      <td>Respiratory rate</td>\n",
              "      <td>32.9</td>\n",
              "      <td>/min</td>\n",
              "      <td>31.07.2004</td>\n",
              "      <td>NaN</td>\n",
              "      <td>162864005</td>\n",
              "      <td>Body mass index 30+ - obesity (finding)</td>\n",
              "      <td>1998-08-29</td>\n",
              "      <td>1999-04-09</td>\n",
              "      <td>310798.0</td>\n",
              "      <td>Hydrochlorothiazide 25 MG Oral Tablet</td>\n",
              "      <td>12.0</td>\n",
              "      <td>59621000.0</td>\n",
              "      <td>Hypertension</td>\n",
              "    </tr>\n",
              "    <tr>\n",
              "      <th>24</th>\n",
              "      <td>1986-02-25</td>\n",
              "      <td>NaT</td>\n",
              "      <td>M</td>\n",
              "      <td>native</td>\n",
              "      <td>F</td>\n",
              "      <td>Lynn  Massachusetts  US</td>\n",
              "      <td>2020-01-03</td>\n",
              "      <td>9279-1</td>\n",
              "      <td>Respiratory rate</td>\n",
              "      <td>32.9</td>\n",
              "      <td>/min</td>\n",
              "      <td>31.07.2004</td>\n",
              "      <td>NaN</td>\n",
              "      <td>162864005</td>\n",
              "      <td>Body mass index 30+ - obesity (finding)</td>\n",
              "      <td>1998-08-29</td>\n",
              "      <td>1999-04-09</td>\n",
              "      <td>310798.0</td>\n",
              "      <td>Hydrochlorothiazide 25 MG Oral Tablet</td>\n",
              "      <td>12.0</td>\n",
              "      <td>59621000.0</td>\n",
              "      <td>Hypertension</td>\n",
              "    </tr>\n",
              "    <tr>\n",
              "      <th>124</th>\n",
              "      <td>1959-03-01</td>\n",
              "      <td>NaT</td>\n",
              "      <td>M</td>\n",
              "      <td>white</td>\n",
              "      <td>M</td>\n",
              "      <td>Medford  Massachusetts  US</td>\n",
              "      <td>2020-11-03</td>\n",
              "      <td>94040-3</td>\n",
              "      <td>Adenovirus A+B+C+D+E DNA [Presence] in Respira...</td>\n",
              "      <td>Negative (qualifier value)</td>\n",
              "      <td>NaN</td>\n",
              "      <td>29.06.2014</td>\n",
              "      <td>13.07.2014</td>\n",
              "      <td>444814009</td>\n",
              "      <td>Viral sinusitis (disorder)</td>\n",
              "      <td>2013-08-01</td>\n",
              "      <td>2013-09-07</td>\n",
              "      <td>895994.0</td>\n",
              "      <td>120 ACTUAT Fluticasone propionate 0.044 MG/ACT...</td>\n",
              "      <td>6.0</td>\n",
              "      <td>233678006.0</td>\n",
              "      <td>Childhood asthma</td>\n",
              "    </tr>\n",
              "    <tr>\n",
              "      <th>131</th>\n",
              "      <td>1959-03-01</td>\n",
              "      <td>NaT</td>\n",
              "      <td>M</td>\n",
              "      <td>white</td>\n",
              "      <td>M</td>\n",
              "      <td>Medford  Massachusetts  US</td>\n",
              "      <td>2020-11-03</td>\n",
              "      <td>94040-3</td>\n",
              "      <td>Adenovirus A+B+C+D+E DNA [Presence] in Respira...</td>\n",
              "      <td>Negative (qualifier value)</td>\n",
              "      <td>NaN</td>\n",
              "      <td>29.06.2014</td>\n",
              "      <td>13.07.2014</td>\n",
              "      <td>444814009</td>\n",
              "      <td>Viral sinusitis (disorder)</td>\n",
              "      <td>2013-08-01</td>\n",
              "      <td>2013-09-07</td>\n",
              "      <td>895994.0</td>\n",
              "      <td>120 ACTUAT Fluticasone propionate 0.044 MG/ACT...</td>\n",
              "      <td>6.0</td>\n",
              "      <td>233678006.0</td>\n",
              "      <td>Childhood asthma</td>\n",
              "    </tr>\n",
              "  </tbody>\n",
              "</table>\n",
              "</div>"
            ],
            "text/plain": [
              "     BIRTHDATE DEATHDATE  ... MED_REASONCODE MED_REASONDESCRIPTION\n",
              "23  1986-02-25       NaT  ...     59621000.0          Hypertension\n",
              "24  1986-02-25       NaT  ...     59621000.0          Hypertension\n",
              "124 1959-03-01       NaT  ...    233678006.0      Childhood asthma\n",
              "131 1959-03-01       NaT  ...    233678006.0      Childhood asthma\n",
              "\n",
              "[4 rows x 22 columns]"
            ]
          },
          "metadata": {
            "tags": []
          },
          "execution_count": 97
        }
      ]
    },
    {
      "cell_type": "code",
      "metadata": {
        "id": "DnaiPOXAVhfI"
      },
      "source": [
        "#Löschen der zwei doppelten Zeilen\n",
        "df = df.drop(labels=[23, 124], axis=0)"
      ],
      "execution_count": 98,
      "outputs": []
    },
    {
      "cell_type": "code",
      "metadata": {
        "colab": {
          "base_uri": "https://localhost:8080/"
        },
        "id": "tpMa2Y-OT09e",
        "outputId": "06cf40e6-858e-4d0d-f4b9-6ad20c07ed8f"
      },
      "source": [
        "#Anzeigen der neuen Zeilen-Zahl\n",
        "df.shape"
      ],
      "execution_count": 99,
      "outputs": [
        {
          "output_type": "execute_result",
          "data": {
            "text/plain": [
              "(402, 22)"
            ]
          },
          "metadata": {
            "tags": []
          },
          "execution_count": 99
        }
      ]
    },
    {
      "cell_type": "markdown",
      "metadata": {
        "id": "25SRrvjsZHLS"
      },
      "source": [
        "2 Zeilen wurden aus dem Dataframe gelöscht."
      ]
    },
    {
      "cell_type": "markdown",
      "metadata": {
        "id": "u3Jxqv5UdsXC"
      },
      "source": [
        "## Datenformat"
      ]
    },
    {
      "cell_type": "markdown",
      "metadata": {
        "id": "nUD5gpk5pRFJ"
      },
      "source": [
        "Zuerst sollte sich ein Überblick über die verschiedenen Datentypen verschafft werden. Dies kann mit Hilfe der .info Funktion durchgeführt werden."
      ]
    },
    {
      "cell_type": "code",
      "metadata": {
        "colab": {
          "base_uri": "https://localhost:8080/"
        },
        "id": "DI9dbSI-pZV0",
        "outputId": "b38cad57-85dc-443f-9219-8aa060cc6b5b"
      },
      "source": [
        "df.info()"
      ],
      "execution_count": 100,
      "outputs": [
        {
          "output_type": "stream",
          "text": [
            "<class 'pandas.core.frame.DataFrame'>\n",
            "Int64Index: 402 entries, 0 to 497\n",
            "Data columns (total 22 columns):\n",
            " #   Column                 Non-Null Count  Dtype         \n",
            "---  ------                 --------------  -----         \n",
            " 0   BIRTHDATE              402 non-null    datetime64[ns]\n",
            " 1   DEATHDATE              12 non-null     datetime64[ns]\n",
            " 2   MARITAL                261 non-null    object        \n",
            " 3   RACE                   402 non-null    object        \n",
            " 4   GENDER                 402 non-null    object        \n",
            " 5   BIRTHPLACE             402 non-null    object        \n",
            " 6   OBS_DATE               402 non-null    datetime64[ns]\n",
            " 7   OBS_CODE               402 non-null    object        \n",
            " 8   OBS_DESCRIPTION        402 non-null    object        \n",
            " 9   OBS_VALUE              402 non-null    object        \n",
            " 10  OBS_UNITS              348 non-null    object        \n",
            " 11  CON_START              402 non-null    object        \n",
            " 12  CON_STOP               251 non-null    object        \n",
            " 13  CON_CODE               402 non-null    object        \n",
            " 14  CON_DESCRIPTION        402 non-null    object        \n",
            " 15  MED_START              402 non-null    datetime64[ns]\n",
            " 16  MED_STOP               347 non-null    datetime64[ns]\n",
            " 17  MED_CODE               402 non-null    float64       \n",
            " 18  MED_DESCRIPTION        402 non-null    object        \n",
            " 19  MED_DISPENSES          402 non-null    float64       \n",
            " 20  MED_REASONCODE         339 non-null    float64       \n",
            " 21  MED_REASONDESCRIPTION  339 non-null    object        \n",
            "dtypes: datetime64[ns](5), float64(3), object(14)\n",
            "memory usage: 72.2+ KB\n"
          ],
          "name": "stdout"
        }
      ]
    },
    {
      "cell_type": "markdown",
      "metadata": {
        "id": "pJNMbu3Tt4Zj"
      },
      "source": [
        "###Kategotische Werte"
      ]
    },
    {
      "cell_type": "markdown",
      "metadata": {
        "id": "SCcTQysaphxQ"
      },
      "source": [
        "Die Spalten mit kategorischen Werten können über eine Funktion identifiziert werden. Dafür lässt man sich die Anzahl der Merkmalsausprägungen anzeigen."
      ]
    },
    {
      "cell_type": "code",
      "metadata": {
        "colab": {
          "base_uri": "https://localhost:8080/",
          "height": 680
        },
        "id": "9Hy2-aDitRCx",
        "outputId": "57bc5542-760d-4c1d-8fd6-4a92a9f145d7"
      },
      "source": [
        "unique_counts = pd.DataFrame.from_records([(col, df[col].nunique()) for col in df.columns],\n",
        "                          columns=['Column_Name', 'Num_Unique']).sort_values(by=['Num_Unique'])\n",
        "unique_counts"
      ],
      "execution_count": 101,
      "outputs": [
        {
          "output_type": "execute_result",
          "data": {
            "text/html": [
              "<div>\n",
              "<style scoped>\n",
              "    .dataframe tbody tr th:only-of-type {\n",
              "        vertical-align: middle;\n",
              "    }\n",
              "\n",
              "    .dataframe tbody tr th {\n",
              "        vertical-align: top;\n",
              "    }\n",
              "\n",
              "    .dataframe thead th {\n",
              "        text-align: right;\n",
              "    }\n",
              "</style>\n",
              "<table border=\"1\" class=\"dataframe\">\n",
              "  <thead>\n",
              "    <tr style=\"text-align: right;\">\n",
              "      <th></th>\n",
              "      <th>Column_Name</th>\n",
              "      <th>Num_Unique</th>\n",
              "    </tr>\n",
              "  </thead>\n",
              "  <tbody>\n",
              "    <tr>\n",
              "      <th>2</th>\n",
              "      <td>MARITAL</td>\n",
              "      <td>2</td>\n",
              "    </tr>\n",
              "    <tr>\n",
              "      <th>4</th>\n",
              "      <td>GENDER</td>\n",
              "      <td>2</td>\n",
              "    </tr>\n",
              "    <tr>\n",
              "      <th>3</th>\n",
              "      <td>RACE</td>\n",
              "      <td>4</td>\n",
              "    </tr>\n",
              "    <tr>\n",
              "      <th>1</th>\n",
              "      <td>DEATHDATE</td>\n",
              "      <td>10</td>\n",
              "    </tr>\n",
              "    <tr>\n",
              "      <th>21</th>\n",
              "      <td>MED_REASONDESCRIPTION</td>\n",
              "      <td>11</td>\n",
              "    </tr>\n",
              "    <tr>\n",
              "      <th>20</th>\n",
              "      <td>MED_REASONCODE</td>\n",
              "      <td>11</td>\n",
              "    </tr>\n",
              "    <tr>\n",
              "      <th>19</th>\n",
              "      <td>MED_DISPENSES</td>\n",
              "      <td>24</td>\n",
              "    </tr>\n",
              "    <tr>\n",
              "      <th>10</th>\n",
              "      <td>OBS_UNITS</td>\n",
              "      <td>25</td>\n",
              "    </tr>\n",
              "    <tr>\n",
              "      <th>6</th>\n",
              "      <td>OBS_DATE</td>\n",
              "      <td>26</td>\n",
              "    </tr>\n",
              "    <tr>\n",
              "      <th>17</th>\n",
              "      <td>MED_CODE</td>\n",
              "      <td>38</td>\n",
              "    </tr>\n",
              "    <tr>\n",
              "      <th>18</th>\n",
              "      <td>MED_DESCRIPTION</td>\n",
              "      <td>39</td>\n",
              "    </tr>\n",
              "    <tr>\n",
              "      <th>8</th>\n",
              "      <td>OBS_DESCRIPTION</td>\n",
              "      <td>75</td>\n",
              "    </tr>\n",
              "    <tr>\n",
              "      <th>7</th>\n",
              "      <td>OBS_CODE</td>\n",
              "      <td>75</td>\n",
              "    </tr>\n",
              "    <tr>\n",
              "      <th>13</th>\n",
              "      <td>CON_CODE</td>\n",
              "      <td>78</td>\n",
              "    </tr>\n",
              "    <tr>\n",
              "      <th>14</th>\n",
              "      <td>CON_DESCRIPTION</td>\n",
              "      <td>78</td>\n",
              "    </tr>\n",
              "    <tr>\n",
              "      <th>5</th>\n",
              "      <td>BIRTHPLACE</td>\n",
              "      <td>184</td>\n",
              "    </tr>\n",
              "    <tr>\n",
              "      <th>12</th>\n",
              "      <td>CON_STOP</td>\n",
              "      <td>239</td>\n",
              "    </tr>\n",
              "    <tr>\n",
              "      <th>9</th>\n",
              "      <td>OBS_VALUE</td>\n",
              "      <td>250</td>\n",
              "    </tr>\n",
              "    <tr>\n",
              "      <th>16</th>\n",
              "      <td>MED_STOP</td>\n",
              "      <td>284</td>\n",
              "    </tr>\n",
              "    <tr>\n",
              "      <th>15</th>\n",
              "      <td>MED_START</td>\n",
              "      <td>317</td>\n",
              "    </tr>\n",
              "    <tr>\n",
              "      <th>11</th>\n",
              "      <td>CON_START</td>\n",
              "      <td>374</td>\n",
              "    </tr>\n",
              "    <tr>\n",
              "      <th>0</th>\n",
              "      <td>BIRTHDATE</td>\n",
              "      <td>391</td>\n",
              "    </tr>\n",
              "  </tbody>\n",
              "</table>\n",
              "</div>"
            ],
            "text/plain": [
              "              Column_Name  Num_Unique\n",
              "2                 MARITAL           2\n",
              "4                  GENDER           2\n",
              "3                    RACE           4\n",
              "1               DEATHDATE          10\n",
              "21  MED_REASONDESCRIPTION          11\n",
              "20         MED_REASONCODE          11\n",
              "19          MED_DISPENSES          24\n",
              "10              OBS_UNITS          25\n",
              "6                OBS_DATE          26\n",
              "17               MED_CODE          38\n",
              "18        MED_DESCRIPTION          39\n",
              "8         OBS_DESCRIPTION          75\n",
              "7                OBS_CODE          75\n",
              "13               CON_CODE          78\n",
              "14        CON_DESCRIPTION          78\n",
              "5              BIRTHPLACE         184\n",
              "12               CON_STOP         239\n",
              "9               OBS_VALUE         250\n",
              "16               MED_STOP         284\n",
              "15              MED_START         317\n",
              "11              CON_START         374\n",
              "0               BIRTHDATE         391"
            ]
          },
          "metadata": {
            "tags": []
          },
          "execution_count": 101
        }
      ]
    },
    {
      "cell_type": "markdown",
      "metadata": {
        "id": "Yydx4AykuDuk"
      },
      "source": [
        "Die Spalten **MARITAL**, **RACE** und **GENDER** enthalten kategorische (<10 Merkmale) Werte und können transformiert werden."
      ]
    },
    {
      "cell_type": "code",
      "metadata": {
        "id": "rG2_pXxCuDIJ"
      },
      "source": [
        "cols_to_exclude = ['DEATHDATE\t', 'OBS_DATE\t', 'BIRTHDATE', 'CON_STOP', 'CON_START']\n",
        "for col in df.columns:\n",
        "    if df[col].nunique() < 10 and col not in cols_to_exclude:\n",
        "        df[col] = df[col].astype('category')"
      ],
      "execution_count": 102,
      "outputs": []
    },
    {
      "cell_type": "markdown",
      "metadata": {
        "id": "3ACEDnQGvJKy"
      },
      "source": [
        "Der neue Dataframe ist kleiner und enthält nun die kategorischen Werte und ist kleiner."
      ]
    },
    {
      "cell_type": "code",
      "metadata": {
        "colab": {
          "base_uri": "https://localhost:8080/"
        },
        "id": "CJLsMx7Fu3Uw",
        "outputId": "b84a0433-aea5-4363-9077-63676e877cc1"
      },
      "source": [
        "df.info()"
      ],
      "execution_count": 103,
      "outputs": [
        {
          "output_type": "stream",
          "text": [
            "<class 'pandas.core.frame.DataFrame'>\n",
            "Int64Index: 402 entries, 0 to 497\n",
            "Data columns (total 22 columns):\n",
            " #   Column                 Non-Null Count  Dtype         \n",
            "---  ------                 --------------  -----         \n",
            " 0   BIRTHDATE              402 non-null    datetime64[ns]\n",
            " 1   DEATHDATE              12 non-null     datetime64[ns]\n",
            " 2   MARITAL                261 non-null    category      \n",
            " 3   RACE                   402 non-null    category      \n",
            " 4   GENDER                 402 non-null    category      \n",
            " 5   BIRTHPLACE             402 non-null    object        \n",
            " 6   OBS_DATE               402 non-null    datetime64[ns]\n",
            " 7   OBS_CODE               402 non-null    object        \n",
            " 8   OBS_DESCRIPTION        402 non-null    object        \n",
            " 9   OBS_VALUE              402 non-null    object        \n",
            " 10  OBS_UNITS              348 non-null    object        \n",
            " 11  CON_START              402 non-null    object        \n",
            " 12  CON_STOP               251 non-null    object        \n",
            " 13  CON_CODE               402 non-null    object        \n",
            " 14  CON_DESCRIPTION        402 non-null    object        \n",
            " 15  MED_START              402 non-null    datetime64[ns]\n",
            " 16  MED_STOP               347 non-null    datetime64[ns]\n",
            " 17  MED_CODE               402 non-null    float64       \n",
            " 18  MED_DESCRIPTION        402 non-null    object        \n",
            " 19  MED_DISPENSES          402 non-null    float64       \n",
            " 20  MED_REASONCODE         339 non-null    float64       \n",
            " 21  MED_REASONDESCRIPTION  339 non-null    object        \n",
            "dtypes: category(3), datetime64[ns](5), float64(3), object(11)\n",
            "memory usage: 64.4+ KB\n"
          ],
          "name": "stdout"
        }
      ]
    },
    {
      "cell_type": "markdown",
      "metadata": {
        "id": "_n9EosL4u1Dz"
      },
      "source": [
        "###Schreibweise BIRTHPLACE"
      ]
    },
    {
      "cell_type": "markdown",
      "metadata": {
        "id": "x934_6j8gkGJ"
      },
      "source": [
        "Das Format des Geburtsortes beachtet Groß- und Kleinschreibung. Dies ist potentiell problematisch für die  Maschinenlesbarkeit, v.a. von Python-basierten Applikatonen.\n",
        "Außerdem fallen einige irreguläre Werte mit Sonderzeichen auf.\n",
        "\n",
        "Das Ziel ist es, dass irreguläre Werte in der Spalte BIRTHPLACE  entfernt und eine einheitliche Schreibweise eingeführt werden(Klein-Schreibung und Entfernung von Leerzeichen)"
      ]
    },
    {
      "cell_type": "code",
      "metadata": {
        "colab": {
          "base_uri": "https://localhost:8080/"
        },
        "id": "ruNCbwjxlrhB",
        "outputId": "be38b008-ab0b-4673-b98f-1ae178b8a236"
      },
      "source": [
        "df['BIRTHPLACE']"
      ],
      "execution_count": 104,
      "outputs": [
        {
          "output_type": "execute_result",
          "data": {
            "text/plain": [
              "0          Beverly  Massachusetts  US\n",
              "1           Boston  Massachusetts  US\n",
              "2      Springfield  Massachusetts  US\n",
              "3        Worcester  Massachusetts  US\n",
              "4                  Patras  Achaea  GR\n",
              "                    ...              \n",
              "492         Revere  Massachusetts  US\n",
              "494         Millis  Massachusetts  US\n",
              "495      Haverhill  Massachusetts  US\n",
              "496      Attleboro  Massachusetts  US\n",
              "497        Amherst  Massachusetts  US\n",
              "Name: BIRTHPLACE, Length: 402, dtype: object"
            ]
          },
          "metadata": {
            "tags": []
          },
          "execution_count": 104
        }
      ]
    },
    {
      "cell_type": "code",
      "metadata": {
        "id": "2VB9hrYUgnml",
        "colab": {
          "base_uri": "https://localhost:8080/",
          "height": 752
        },
        "outputId": "e0e93729-4bfa-4c7e-d653-ced978fa4215"
      },
      "source": [
        "df['BIRTHPLACE_new'] = df['BIRTHPLACE'].str.lower()\n",
        "df['BIRTHPLACE_new'] = df['BIRTHPLACE_new'].str.strip() # remove leading and trailing whitespace.\n",
        "df['BIRTHPLACE_new'] = df['BIRTHPLACE_new'].str.replace('\\\\.', '') # remove period.\n",
        "df"
      ],
      "execution_count": 105,
      "outputs": [
        {
          "output_type": "execute_result",
          "data": {
            "text/html": [
              "<div>\n",
              "<style scoped>\n",
              "    .dataframe tbody tr th:only-of-type {\n",
              "        vertical-align: middle;\n",
              "    }\n",
              "\n",
              "    .dataframe tbody tr th {\n",
              "        vertical-align: top;\n",
              "    }\n",
              "\n",
              "    .dataframe thead th {\n",
              "        text-align: right;\n",
              "    }\n",
              "</style>\n",
              "<table border=\"1\" class=\"dataframe\">\n",
              "  <thead>\n",
              "    <tr style=\"text-align: right;\">\n",
              "      <th></th>\n",
              "      <th>BIRTHDATE</th>\n",
              "      <th>DEATHDATE</th>\n",
              "      <th>MARITAL</th>\n",
              "      <th>RACE</th>\n",
              "      <th>GENDER</th>\n",
              "      <th>BIRTHPLACE</th>\n",
              "      <th>OBS_DATE</th>\n",
              "      <th>OBS_CODE</th>\n",
              "      <th>OBS_DESCRIPTION</th>\n",
              "      <th>OBS_VALUE</th>\n",
              "      <th>OBS_UNITS</th>\n",
              "      <th>CON_START</th>\n",
              "      <th>CON_STOP</th>\n",
              "      <th>CON_CODE</th>\n",
              "      <th>CON_DESCRIPTION</th>\n",
              "      <th>MED_START</th>\n",
              "      <th>MED_STOP</th>\n",
              "      <th>MED_CODE</th>\n",
              "      <th>MED_DESCRIPTION</th>\n",
              "      <th>MED_DISPENSES</th>\n",
              "      <th>MED_REASONCODE</th>\n",
              "      <th>MED_REASONDESCRIPTION</th>\n",
              "      <th>BIRTHPLACE_new</th>\n",
              "    </tr>\n",
              "  </thead>\n",
              "  <tbody>\n",
              "    <tr>\n",
              "      <th>0</th>\n",
              "      <td>2017-08-24</td>\n",
              "      <td>NaT</td>\n",
              "      <td>NaN</td>\n",
              "      <td>white</td>\n",
              "      <td>M</td>\n",
              "      <td>Beverly  Massachusetts  US</td>\n",
              "      <td>2019-01-08</td>\n",
              "      <td>8302-2</td>\n",
              "      <td>Body Height</td>\n",
              "      <td>82.7</td>\n",
              "      <td>cm</td>\n",
              "      <td>01.05.2001</td>\n",
              "      <td>NaN</td>\n",
              "      <td>40055000</td>\n",
              "      <td>Chronic sinusitis (disorder)</td>\n",
              "      <td>2019-10-30</td>\n",
              "      <td>2019-11-13</td>\n",
              "      <td>308182.0</td>\n",
              "      <td>Amoxicillin 250 MG Oral Capsule</td>\n",
              "      <td>1.0</td>\n",
              "      <td>NaN</td>\n",
              "      <td>NaN</td>\n",
              "      <td>beverly  massachusetts  us</td>\n",
              "    </tr>\n",
              "    <tr>\n",
              "      <th>1</th>\n",
              "      <td>2016-01-08</td>\n",
              "      <td>NaT</td>\n",
              "      <td>NaN</td>\n",
              "      <td>white</td>\n",
              "      <td>F</td>\n",
              "      <td>Boston  Massachusetts  US</td>\n",
              "      <td>2019-01-08</td>\n",
              "      <td>72514-3</td>\n",
              "      <td>Pain severity - 0-10 verbal numeric rating [Sc...</td>\n",
              "      <td>2.0</td>\n",
              "      <td>{score}</td>\n",
              "      <td>09.08.2011</td>\n",
              "      <td>16.08.2011</td>\n",
              "      <td>444814009</td>\n",
              "      <td>Viral sinusitis (disorder)</td>\n",
              "      <td>2019-10-30</td>\n",
              "      <td>2019-11-13</td>\n",
              "      <td>313820.0</td>\n",
              "      <td>Acetaminophen 160 MG Chewable Tablet</td>\n",
              "      <td>1.0</td>\n",
              "      <td>NaN</td>\n",
              "      <td>NaN</td>\n",
              "      <td>boston  massachusetts  us</td>\n",
              "    </tr>\n",
              "    <tr>\n",
              "      <th>2</th>\n",
              "      <td>1992-06-30</td>\n",
              "      <td>NaT</td>\n",
              "      <td>S</td>\n",
              "      <td>white</td>\n",
              "      <td>M</td>\n",
              "      <td>Springfield  Massachusetts  US</td>\n",
              "      <td>2019-01-08</td>\n",
              "      <td>29463-7</td>\n",
              "      <td>Body Weight</td>\n",
              "      <td>12. Jun</td>\n",
              "      <td>kg</td>\n",
              "      <td>16.11.2011</td>\n",
              "      <td>26.11.2011</td>\n",
              "      <td>195662009</td>\n",
              "      <td>Acute viral pharyngitis (disorder)</td>\n",
              "      <td>2020-12-02</td>\n",
              "      <td>2020-02-26</td>\n",
              "      <td>313820.0</td>\n",
              "      <td>Acetaminophen 160 MG Chewable Tablet</td>\n",
              "      <td>1.0</td>\n",
              "      <td>NaN</td>\n",
              "      <td>NaN</td>\n",
              "      <td>springfield  massachusetts  us</td>\n",
              "    </tr>\n",
              "    <tr>\n",
              "      <th>3</th>\n",
              "      <td>2004-09-01</td>\n",
              "      <td>NaT</td>\n",
              "      <td>NaN</td>\n",
              "      <td>white</td>\n",
              "      <td>F</td>\n",
              "      <td>Worcester  Massachusetts  US</td>\n",
              "      <td>2019-01-08</td>\n",
              "      <td>77606-2</td>\n",
              "      <td>Weight-for-length Per age and sex</td>\n",
              "      <td>86.1</td>\n",
              "      <td>%</td>\n",
              "      <td>13.05.2011</td>\n",
              "      <td>27.05.2011</td>\n",
              "      <td>10509002</td>\n",
              "      <td>Acute bronchitis (disorder)</td>\n",
              "      <td>2020-04-28</td>\n",
              "      <td>2020-08-05</td>\n",
              "      <td>834061.0</td>\n",
              "      <td>Penicillin V Potassium 250 MG Oral Tablet</td>\n",
              "      <td>1.0</td>\n",
              "      <td>43878008.0</td>\n",
              "      <td>Streptococcal sore throat (disorder)</td>\n",
              "      <td>worcester  massachusetts  us</td>\n",
              "    </tr>\n",
              "    <tr>\n",
              "      <th>4</th>\n",
              "      <td>1996-11-15</td>\n",
              "      <td>NaT</td>\n",
              "      <td>NaN</td>\n",
              "      <td>white</td>\n",
              "      <td>M</td>\n",
              "      <td>Patras  Achaea  GR</td>\n",
              "      <td>2019-01-08</td>\n",
              "      <td>9843-4</td>\n",
              "      <td>Head Occipital-frontal circumference</td>\n",
              "      <td>46.9</td>\n",
              "      <td>cm</td>\n",
              "      <td>06.02.2011</td>\n",
              "      <td>14.02.2011</td>\n",
              "      <td>195662009</td>\n",
              "      <td>Acute viral pharyngitis (disorder)</td>\n",
              "      <td>2010-11-22</td>\n",
              "      <td>2011-08-30</td>\n",
              "      <td>999967.0</td>\n",
              "      <td>amLODIPine 5 MG / Hydrochlorothiazide 12.5 MG ...</td>\n",
              "      <td>9.0</td>\n",
              "      <td>59621000.0</td>\n",
              "      <td>Hypertension</td>\n",
              "      <td>patras  achaea  gr</td>\n",
              "    </tr>\n",
              "    <tr>\n",
              "      <th>...</th>\n",
              "      <td>...</td>\n",
              "      <td>...</td>\n",
              "      <td>...</td>\n",
              "      <td>...</td>\n",
              "      <td>...</td>\n",
              "      <td>...</td>\n",
              "      <td>...</td>\n",
              "      <td>...</td>\n",
              "      <td>...</td>\n",
              "      <td>...</td>\n",
              "      <td>...</td>\n",
              "      <td>...</td>\n",
              "      <td>...</td>\n",
              "      <td>...</td>\n",
              "      <td>...</td>\n",
              "      <td>...</td>\n",
              "      <td>...</td>\n",
              "      <td>...</td>\n",
              "      <td>...</td>\n",
              "      <td>...</td>\n",
              "      <td>...</td>\n",
              "      <td>...</td>\n",
              "      <td>...</td>\n",
              "    </tr>\n",
              "    <tr>\n",
              "      <th>492</th>\n",
              "      <td>1955-02-04</td>\n",
              "      <td>2019-05-14</td>\n",
              "      <td>M</td>\n",
              "      <td>white</td>\n",
              "      <td>M</td>\n",
              "      <td>Revere  Massachusetts  US</td>\n",
              "      <td>2020-02-24</td>\n",
              "      <td>718-7</td>\n",
              "      <td>Hemoglobin [Mass/volume] in Blood</td>\n",
              "      <td>12. Mrz</td>\n",
              "      <td>g/dL</td>\n",
              "      <td>21.03.1967</td>\n",
              "      <td>NaN</td>\n",
              "      <td>74400008</td>\n",
              "      <td>Appendicitis</td>\n",
              "      <td>2018-05-12</td>\n",
              "      <td>2019-11-12</td>\n",
              "      <td>429503.0</td>\n",
              "      <td>Hydrochlorothiazide 12.5 MG</td>\n",
              "      <td>12.0</td>\n",
              "      <td>59621000.0</td>\n",
              "      <td>Hypertension</td>\n",
              "      <td>revere  massachusetts  us</td>\n",
              "    </tr>\n",
              "    <tr>\n",
              "      <th>494</th>\n",
              "      <td>1913-06-27</td>\n",
              "      <td>1996-03-25</td>\n",
              "      <td>M</td>\n",
              "      <td>black</td>\n",
              "      <td>M</td>\n",
              "      <td>Millis  Massachusetts  US</td>\n",
              "      <td>2020-02-24</td>\n",
              "      <td>787-2</td>\n",
              "      <td>MCV [Entitic volume] by Automated count</td>\n",
              "      <td>89.3</td>\n",
              "      <td>fL</td>\n",
              "      <td>12.06.1977</td>\n",
              "      <td>NaN</td>\n",
              "      <td>370143000</td>\n",
              "      <td>Major depression disorder</td>\n",
              "      <td>1977-09-09</td>\n",
              "      <td>1978-08-16</td>\n",
              "      <td>746030.0</td>\n",
              "      <td>Atenolol 50 MG / Chlorthalidone 25 MG Oral Tablet</td>\n",
              "      <td>11.0</td>\n",
              "      <td>59621000.0</td>\n",
              "      <td>Hypertension</td>\n",
              "      <td>millis  massachusetts  us</td>\n",
              "    </tr>\n",
              "    <tr>\n",
              "      <th>495</th>\n",
              "      <td>1986-03-29</td>\n",
              "      <td>NaT</td>\n",
              "      <td>M</td>\n",
              "      <td>white</td>\n",
              "      <td>M</td>\n",
              "      <td>Haverhill  Massachusetts  US</td>\n",
              "      <td>2020-02-24</td>\n",
              "      <td>785-6</td>\n",
              "      <td>MCH [Entitic mass] by Automated count</td>\n",
              "      <td>29. Mai</td>\n",
              "      <td>pg</td>\n",
              "      <td>29.06.1980</td>\n",
              "      <td>NaN</td>\n",
              "      <td>7200002</td>\n",
              "      <td>Alcoholism</td>\n",
              "      <td>1978-08-16</td>\n",
              "      <td>1979-08-22</td>\n",
              "      <td>746030.0</td>\n",
              "      <td>Atenolol 50 MG / Chlorthalidone 25 MG Oral Tablet</td>\n",
              "      <td>12.0</td>\n",
              "      <td>59621000.0</td>\n",
              "      <td>Hypertension</td>\n",
              "      <td>haverhill  massachusetts  us</td>\n",
              "    </tr>\n",
              "    <tr>\n",
              "      <th>496</th>\n",
              "      <td>1954-12-11</td>\n",
              "      <td>NaT</td>\n",
              "      <td>M</td>\n",
              "      <td>white</td>\n",
              "      <td>F</td>\n",
              "      <td>Attleboro  Massachusetts  US</td>\n",
              "      <td>2020-02-24</td>\n",
              "      <td>786-4</td>\n",
              "      <td>MCHC [Mass/volume] by Automated count</td>\n",
              "      <td>32.4</td>\n",
              "      <td>g/dL</td>\n",
              "      <td>29.06.1980</td>\n",
              "      <td>NaN</td>\n",
              "      <td>15777000</td>\n",
              "      <td>Prediabetes</td>\n",
              "      <td>1979-08-22</td>\n",
              "      <td>1980-08-27</td>\n",
              "      <td>746030.0</td>\n",
              "      <td>Atenolol 50 MG / Chlorthalidone 25 MG Oral Tablet</td>\n",
              "      <td>12.0</td>\n",
              "      <td>59621000.0</td>\n",
              "      <td>Hypertension</td>\n",
              "      <td>attleboro  massachusetts  us</td>\n",
              "    </tr>\n",
              "    <tr>\n",
              "      <th>497</th>\n",
              "      <td>1943-03-21</td>\n",
              "      <td>NaT</td>\n",
              "      <td>M</td>\n",
              "      <td>white</td>\n",
              "      <td>F</td>\n",
              "      <td>Amherst  Massachusetts  US</td>\n",
              "      <td>2020-02-24</td>\n",
              "      <td>788-0</td>\n",
              "      <td>Erythrocyte distribution width [Ratio] by Auto...</td>\n",
              "      <td>14. Jan</td>\n",
              "      <td>%</td>\n",
              "      <td>29.06.1980</td>\n",
              "      <td>NaN</td>\n",
              "      <td>271737000</td>\n",
              "      <td>Anemia (disorder)</td>\n",
              "      <td>1980-08-27</td>\n",
              "      <td>1981-02-09</td>\n",
              "      <td>746030.0</td>\n",
              "      <td>Atenolol 50 MG / Chlorthalidone 25 MG Oral Tablet</td>\n",
              "      <td>12.0</td>\n",
              "      <td>59621000.0</td>\n",
              "      <td>Hypertension</td>\n",
              "      <td>amherst  massachusetts  us</td>\n",
              "    </tr>\n",
              "  </tbody>\n",
              "</table>\n",
              "<p>402 rows × 23 columns</p>\n",
              "</div>"
            ],
            "text/plain": [
              "     BIRTHDATE  ...                  BIRTHPLACE_new\n",
              "0   2017-08-24  ...      beverly  massachusetts  us\n",
              "1   2016-01-08  ...       boston  massachusetts  us\n",
              "2   1992-06-30  ...  springfield  massachusetts  us\n",
              "3   2004-09-01  ...    worcester  massachusetts  us\n",
              "4   1996-11-15  ...              patras  achaea  gr\n",
              "..         ...  ...                             ...\n",
              "492 1955-02-04  ...       revere  massachusetts  us\n",
              "494 1913-06-27  ...       millis  massachusetts  us\n",
              "495 1986-03-29  ...    haverhill  massachusetts  us\n",
              "496 1954-12-11  ...    attleboro  massachusetts  us\n",
              "497 1943-03-21  ...      amherst  massachusetts  us\n",
              "\n",
              "[402 rows x 23 columns]"
            ]
          },
          "metadata": {
            "tags": []
          },
          "execution_count": 105
        }
      ]
    },
    {
      "cell_type": "markdown",
      "metadata": {
        "id": "pAehKoXYz_MQ"
      },
      "source": [
        "Zeilen mit irreguläre Schreibweise entfernen"
      ]
    },
    {
      "cell_type": "code",
      "metadata": {
        "id": "GFDRUEVSm6zC"
      },
      "source": [
        "df_new = df.loc[df['BIRTHPLACE_new'] == 'hanoi  h√† ƒê√¥ng  vn']"
      ],
      "execution_count": 106,
      "outputs": []
    },
    {
      "cell_type": "code",
      "metadata": {
        "id": "Ueb83dS8umWF",
        "colab": {
          "base_uri": "https://localhost:8080/",
          "height": 222
        },
        "outputId": "38f0941e-2dfa-4e75-c83c-c2cac34d82da"
      },
      "source": [
        "df_new"
      ],
      "execution_count": 107,
      "outputs": [
        {
          "output_type": "execute_result",
          "data": {
            "text/html": [
              "<div>\n",
              "<style scoped>\n",
              "    .dataframe tbody tr th:only-of-type {\n",
              "        vertical-align: middle;\n",
              "    }\n",
              "\n",
              "    .dataframe tbody tr th {\n",
              "        vertical-align: top;\n",
              "    }\n",
              "\n",
              "    .dataframe thead th {\n",
              "        text-align: right;\n",
              "    }\n",
              "</style>\n",
              "<table border=\"1\" class=\"dataframe\">\n",
              "  <thead>\n",
              "    <tr style=\"text-align: right;\">\n",
              "      <th></th>\n",
              "      <th>BIRTHDATE</th>\n",
              "      <th>DEATHDATE</th>\n",
              "      <th>MARITAL</th>\n",
              "      <th>RACE</th>\n",
              "      <th>GENDER</th>\n",
              "      <th>BIRTHPLACE</th>\n",
              "      <th>OBS_DATE</th>\n",
              "      <th>OBS_CODE</th>\n",
              "      <th>OBS_DESCRIPTION</th>\n",
              "      <th>OBS_VALUE</th>\n",
              "      <th>OBS_UNITS</th>\n",
              "      <th>CON_START</th>\n",
              "      <th>CON_STOP</th>\n",
              "      <th>CON_CODE</th>\n",
              "      <th>CON_DESCRIPTION</th>\n",
              "      <th>MED_START</th>\n",
              "      <th>MED_STOP</th>\n",
              "      <th>MED_CODE</th>\n",
              "      <th>MED_DESCRIPTION</th>\n",
              "      <th>MED_DISPENSES</th>\n",
              "      <th>MED_REASONCODE</th>\n",
              "      <th>MED_REASONDESCRIPTION</th>\n",
              "      <th>BIRTHPLACE_new</th>\n",
              "    </tr>\n",
              "  </thead>\n",
              "  <tbody>\n",
              "    <tr>\n",
              "      <th>129</th>\n",
              "      <td>1971-09-10</td>\n",
              "      <td>NaT</td>\n",
              "      <td>S</td>\n",
              "      <td>asian</td>\n",
              "      <td>F</td>\n",
              "      <td>Hanoi  H√† ƒê√¥ng  VN</td>\n",
              "      <td>2019-06-30</td>\n",
              "      <td>QALY</td>\n",
              "      <td>QALY</td>\n",
              "      <td>26.0</td>\n",
              "      <td>a</td>\n",
              "      <td>10.03.2020</td>\n",
              "      <td>31.03.2020</td>\n",
              "      <td>444814009</td>\n",
              "      <td>Viral sinusitis (disorder)</td>\n",
              "      <td>2014-01-14</td>\n",
              "      <td>2014-01-14</td>\n",
              "      <td>2123111.0</td>\n",
              "      <td>NDA020503 200 ACTUAT Albuterol 0.09 MG/ACTUAT ...</td>\n",
              "      <td>1.0</td>\n",
              "      <td>233678006.0</td>\n",
              "      <td>Childhood asthma</td>\n",
              "      <td>hanoi  h√† ƒê√¥ng  vn</td>\n",
              "    </tr>\n",
              "    <tr>\n",
              "      <th>288</th>\n",
              "      <td>1984-12-20</td>\n",
              "      <td>NaT</td>\n",
              "      <td>M</td>\n",
              "      <td>asian</td>\n",
              "      <td>F</td>\n",
              "      <td>Hanoi  H√† ƒê√¥ng  VN</td>\n",
              "      <td>2020-02-19</td>\n",
              "      <td>1975-2</td>\n",
              "      <td>Bilirubin.total [Mass/volume] in Serum or Plasma</td>\n",
              "      <td>10. Jun</td>\n",
              "      <td>mg/dL</td>\n",
              "      <td>17.10.2010</td>\n",
              "      <td>30.12.2010</td>\n",
              "      <td>65363002</td>\n",
              "      <td>Otitis media</td>\n",
              "      <td>1990-03-20</td>\n",
              "      <td>1991-03-26</td>\n",
              "      <td>2123111.0</td>\n",
              "      <td>NDA020503 200 ACTUAT Albuterol 0.09 MG/ACTUAT ...</td>\n",
              "      <td>12.0</td>\n",
              "      <td>233678006.0</td>\n",
              "      <td>Childhood asthma</td>\n",
              "      <td>hanoi  h√† ƒê√¥ng  vn</td>\n",
              "    </tr>\n",
              "  </tbody>\n",
              "</table>\n",
              "</div>"
            ],
            "text/plain": [
              "     BIRTHDATE DEATHDATE  ... MED_REASONDESCRIPTION         BIRTHPLACE_new\n",
              "129 1971-09-10       NaT  ...      Childhood asthma  hanoi  h√† ƒê√¥ng  vn\n",
              "288 1984-12-20       NaT  ...      Childhood asthma  hanoi  h√† ƒê√¥ng  vn\n",
              "\n",
              "[2 rows x 23 columns]"
            ]
          },
          "metadata": {
            "tags": []
          },
          "execution_count": 107
        }
      ]
    },
    {
      "cell_type": "markdown",
      "metadata": {
        "id": "Xip3Rn8j0HeJ"
      },
      "source": [
        "**h√† ƒê√¥ng  vn** wird zu **hanoi hanoi  vn**"
      ]
    },
    {
      "cell_type": "code",
      "metadata": {
        "id": "Yd37e1oivR7j"
      },
      "source": [
        "df.loc[129, 'BIRTHPLACE'] = 'Hanoi  Hanoi  VN'\n",
        "df.loc[288, 'BIRTHPLACE'] = 'Hanoi  Hanoi  VN'\n",
        "df.loc[129, 'BIRTHPLACE_new'] = 'hanoi  hanoi  vn'\n",
        "df.loc[288, 'BIRTHPLACE_new'] = 'hanoi  hanoi  vn'"
      ],
      "execution_count": 108,
      "outputs": []
    },
    {
      "cell_type": "code",
      "metadata": {
        "id": "tgae4YhM0J1J",
        "colab": {
          "base_uri": "https://localhost:8080/"
        },
        "outputId": "6d78f531-eb87-4261-f66c-3201f44c7470"
      },
      "source": [
        "df.loc[288,]"
      ],
      "execution_count": 109,
      "outputs": [
        {
          "output_type": "execute_result",
          "data": {
            "text/plain": [
              "BIRTHDATE                                              1984-12-20 00:00:00\n",
              "DEATHDATE                                                              NaT\n",
              "MARITAL                                                                  M\n",
              "RACE                                                                 asian\n",
              "GENDER                                                                   F\n",
              "BIRTHPLACE                                                Hanoi  Hanoi  VN\n",
              "OBS_DATE                                               2020-02-19 00:00:00\n",
              "OBS_CODE                                                            1975-2\n",
              "OBS_DESCRIPTION           Bilirubin.total [Mass/volume] in Serum or Plasma\n",
              "OBS_VALUE                                                          10. Jun\n",
              "OBS_UNITS                                                            mg/dL\n",
              "CON_START                                                       17.10.2010\n",
              "CON_STOP                                                        30.12.2010\n",
              "CON_CODE                                                          65363002\n",
              "CON_DESCRIPTION                                               Otitis media\n",
              "MED_START                                              1990-03-20 00:00:00\n",
              "MED_STOP                                               1991-03-26 00:00:00\n",
              "MED_CODE                                                       2.12311e+06\n",
              "MED_DESCRIPTION          NDA020503 200 ACTUAT Albuterol 0.09 MG/ACTUAT ...\n",
              "MED_DISPENSES                                                           12\n",
              "MED_REASONCODE                                                 2.33678e+08\n",
              "MED_REASONDESCRIPTION                                     Childhood asthma\n",
              "BIRTHPLACE_new                                            hanoi  hanoi  vn\n",
              "Name: 288, dtype: object"
            ]
          },
          "metadata": {
            "tags": []
          },
          "execution_count": 109
        }
      ]
    },
    {
      "cell_type": "markdown",
      "metadata": {
        "id": "UKmrhkGNxUYC"
      },
      "source": [
        "###Verbleibende Daten umformatieren"
      ]
    },
    {
      "cell_type": "code",
      "metadata": {
        "id": "x83Iiy2HxTxC"
      },
      "source": [
        "df[\"CON_START\"] = pd.to_datetime(df[\"CON_START\"])\n",
        "df[\"CON_STOP\"] = pd.to_datetime(df[\"CON_STOP\"])"
      ],
      "execution_count": 110,
      "outputs": []
    },
    {
      "cell_type": "code",
      "metadata": {
        "colab": {
          "base_uri": "https://localhost:8080/"
        },
        "id": "2C-2uw88xrVk",
        "outputId": "03c2df15-0021-4a8d-d3c5-cefd817ec7ec"
      },
      "source": [
        "df.info()"
      ],
      "execution_count": 111,
      "outputs": [
        {
          "output_type": "stream",
          "text": [
            "<class 'pandas.core.frame.DataFrame'>\n",
            "Int64Index: 402 entries, 0 to 497\n",
            "Data columns (total 23 columns):\n",
            " #   Column                 Non-Null Count  Dtype         \n",
            "---  ------                 --------------  -----         \n",
            " 0   BIRTHDATE              402 non-null    datetime64[ns]\n",
            " 1   DEATHDATE              12 non-null     datetime64[ns]\n",
            " 2   MARITAL                261 non-null    category      \n",
            " 3   RACE                   402 non-null    category      \n",
            " 4   GENDER                 402 non-null    category      \n",
            " 5   BIRTHPLACE             402 non-null    object        \n",
            " 6   OBS_DATE               402 non-null    datetime64[ns]\n",
            " 7   OBS_CODE               402 non-null    object        \n",
            " 8   OBS_DESCRIPTION        402 non-null    object        \n",
            " 9   OBS_VALUE              402 non-null    object        \n",
            " 10  OBS_UNITS              348 non-null    object        \n",
            " 11  CON_START              402 non-null    datetime64[ns]\n",
            " 12  CON_STOP               251 non-null    datetime64[ns]\n",
            " 13  CON_CODE               402 non-null    object        \n",
            " 14  CON_DESCRIPTION        402 non-null    object        \n",
            " 15  MED_START              402 non-null    datetime64[ns]\n",
            " 16  MED_STOP               347 non-null    datetime64[ns]\n",
            " 17  MED_CODE               402 non-null    float64       \n",
            " 18  MED_DESCRIPTION        402 non-null    object        \n",
            " 19  MED_DISPENSES          402 non-null    float64       \n",
            " 20  MED_REASONCODE         339 non-null    float64       \n",
            " 21  MED_REASONDESCRIPTION  339 non-null    object        \n",
            " 22  BIRTHPLACE_new         402 non-null    object        \n",
            "dtypes: category(3), datetime64[ns](7), float64(3), object(10)\n",
            "memory usage: 87.5+ KB\n"
          ],
          "name": "stdout"
        }
      ]
    },
    {
      "cell_type": "markdown",
      "metadata": {
        "id": "PAzchQanZqKs"
      },
      "source": [
        "## Irreguläre Daten / Extremwerte"
      ]
    },
    {
      "cell_type": "markdown",
      "metadata": {
        "id": "G2rCBqO4xBqY"
      },
      "source": [
        "###MED_DISPENSES Spalte"
      ]
    },
    {
      "cell_type": "code",
      "metadata": {
        "colab": {
          "base_uri": "https://localhost:8080/",
          "height": 610
        },
        "id": "zJDeCIfxdLBq",
        "outputId": "048560a7-3f43-4aa3-b975-22f82b8a8ae2"
      },
      "source": [
        "#Histogramm\n",
        "df['MED_DISPENSES'].hist(bins=100)"
      ],
      "execution_count": 112,
      "outputs": [
        {
          "output_type": "execute_result",
          "data": {
            "text/plain": [
              "<matplotlib.axes._subplots.AxesSubplot at 0x7f7c4861aa50>"
            ]
          },
          "metadata": {
            "tags": []
          },
          "execution_count": 112
        },
        {
          "output_type": "display_data",
          "data": {
            "image/png": "[encoded data removed]",
            "text/plain": [
              "<Figure size 720x720 with 1 Axes>"
            ]
          },
          "metadata": {
            "tags": []
          }
        }
      ]
    },
    {
      "cell_type": "code",
      "metadata": {
        "colab": {
          "base_uri": "https://localhost:8080/"
        },
        "id": "gZZz4zWW1xq4",
        "outputId": "597d34cc-7d1d-452b-c11f-2ce8a9323d42"
      },
      "source": [
        "#Deskriptive Statistik mit DataFrame.describe()\n",
        "df['MED_DISPENSES'].describe()"
      ],
      "execution_count": 113,
      "outputs": [
        {
          "output_type": "execute_result",
          "data": {
            "text/plain": [
              "count    402.000000\n",
              "mean      18.325871\n",
              "std       52.555120\n",
              "min        1.000000\n",
              "25%       12.000000\n",
              "50%       12.000000\n",
              "75%       12.000000\n",
              "max      583.000000\n",
              "Name: MED_DISPENSES, dtype: float64"
            ]
          },
          "metadata": {
            "tags": []
          },
          "execution_count": 113
        }
      ]
    },
    {
      "cell_type": "markdown",
      "metadata": {
        "id": "2iJXacCU2WI8"
      },
      "source": [
        "Der höchste Wert liegt bei **583**, obwohl der Mittelwert bei 18 liegt. Sehr wahrscheinlich ein Ausreißer."
      ]
    },
    {
      "cell_type": "markdown",
      "metadata": {
        "id": "fvSF0x0fxGG3"
      },
      "source": [
        "###CODE Spalten \n"
      ]
    },
    {
      "cell_type": "markdown",
      "metadata": {
        "id": "QP3HDPNpK947"
      },
      "source": [
        "####CON_CODE"
      ]
    },
    {
      "cell_type": "markdown",
      "metadata": {
        "id": "5mhFIpRZ_EgD"
      },
      "source": [
        "Die Werte für die Reihen 320, 396, 451 und 458 wurden durch die korrekten SNOMED-CT Codes ersetzt."
      ]
    },
    {
      "cell_type": "code",
      "metadata": {
        "colab": {
          "base_uri": "https://localhost:8080/"
        },
        "id": "hCHLPdQzJx3C",
        "outputId": "6c62dc1b-833a-411d-a75e-01bde1e9741c"
      },
      "source": [
        "#Alle Einträge in der Spalte CON_CODE\n",
        "df['CON_CODE'].sort_values(ascending=True)"
      ],
      "execution_count": 114,
      "outputs": [
        {
          "output_type": "execute_result",
          "data": {
            "text/plain": [
              "320    1,24171E+14\n",
              "396    1,24171E+14\n",
              "458      1,551E+12\n",
              "252       10509002\n",
              "433       10509002\n",
              "          ...     \n",
              "394       82423001\n",
              "346       83664006\n",
              "386       84757009\n",
              "488       87433001\n",
              "468       92691004\n",
              "Name: CON_CODE, Length: 402, dtype: object"
            ]
          },
          "metadata": {
            "tags": []
          },
          "execution_count": 114
        }
      ]
    },
    {
      "cell_type": "code",
      "metadata": {
        "id": "BeviP7WO-9nw"
      },
      "source": [
        "df.loc[320, 'CON_CODE'] = '437931000124100' #SNOMED füe Migräne\n",
        "df.loc[396, 'CON_CODE'] = '437931000124100'\n",
        "df.loc[458, 'CON_CODE'] = '1551000119108' #SNOMED für Diabetische Retinopathie\n",
        "df.loc[451, 'CON_CODE'] = '1511000119107' #SNOMED für periphere Neuropathie"
      ],
      "execution_count": 115,
      "outputs": []
    },
    {
      "cell_type": "markdown",
      "metadata": {
        "id": "XVFDjuh1Js_y"
      },
      "source": [
        "In der Spalte wurden Objects zu Int64 (also Zahlen umgewandelt)"
      ]
    },
    {
      "cell_type": "code",
      "metadata": {
        "id": "RtcshQX5-HaJ"
      },
      "source": [
        "df['CON_CODE'] = pd.to_numeric(df['CON_CODE']) "
      ],
      "execution_count": 116,
      "outputs": []
    },
    {
      "cell_type": "code",
      "metadata": {
        "colab": {
          "base_uri": "https://localhost:8080/"
        },
        "id": "x9msvAsXDGIP",
        "outputId": "e10b2418-be88-45bf-c7e5-30ed89f3c3e3"
      },
      "source": [
        "df['CON_CODE'].describe"
      ],
      "execution_count": 117,
      "outputs": [
        {
          "output_type": "execute_result",
          "data": {
            "text/plain": [
              "<bound method NDFrame.describe of 0       40055000\n",
              "1      444814009\n",
              "2      195662009\n",
              "3       10509002\n",
              "4      195662009\n",
              "         ...    \n",
              "492     74400008\n",
              "494    370143000\n",
              "495      7200002\n",
              "496     15777000\n",
              "497    271737000\n",
              "Name: CON_CODE, Length: 402, dtype: int64>"
            ]
          },
          "metadata": {
            "tags": []
          },
          "execution_count": 117
        }
      ]
    },
    {
      "cell_type": "code",
      "metadata": {
        "id": "LndrRiamJvAV"
      },
      "source": [
        "#Kompletter DF zeigen\n",
        "#pd.set_option(\"display.max_rows\", None, \"display.max_columns\", None)\n",
        "#df"
      ],
      "execution_count": 118,
      "outputs": []
    },
    {
      "cell_type": "markdown",
      "metadata": {
        "id": "XR8xV1sRLDFI"
      },
      "source": [
        "####MED_CODE: Obj --> Int64 Transformation zur besseren Lesbarkeit"
      ]
    },
    {
      "cell_type": "code",
      "metadata": {
        "colab": {
          "base_uri": "https://localhost:8080/"
        },
        "id": "30ESYCikMIIk",
        "outputId": "47c8af4e-8d52-42a4-a48c-64fe40cf80f4"
      },
      "source": [
        "df['MED_CODE'] = pd.to_numeric(df['MED_CODE']) \n",
        "df['MED_CODE'] = df['MED_CODE'].astype(int)\n",
        "df['MED_CODE'].sort_values(ascending=True)"
      ],
      "execution_count": 119,
      "outputs": [
        {
          "output_type": "execute_result",
          "data": {
            "text/plain": [
              "358     141918\n",
              "97      197361\n",
              "92      197361\n",
              "87      197361\n",
              "78      197361\n",
              "        ...   \n",
              "268    2123111\n",
              "351    2123111\n",
              "272    2123111\n",
              "345    2123111\n",
              "274    2123111\n",
              "Name: MED_CODE, Length: 402, dtype: int64"
            ]
          },
          "metadata": {
            "tags": []
          },
          "execution_count": 119
        }
      ]
    },
    {
      "cell_type": "markdown",
      "metadata": {
        "id": "q3TgysJXw_2X"
      },
      "source": [
        "##Finalen DataFrame überprüfen"
      ]
    },
    {
      "cell_type": "code",
      "metadata": {
        "colab": {
          "base_uri": "https://localhost:8080/"
        },
        "id": "6nshZMm7uMdP",
        "outputId": "6b1f08c6-5aaa-4a7d-b4dd-a88d40ac09b5"
      },
      "source": [
        "df.info()"
      ],
      "execution_count": 120,
      "outputs": [
        {
          "output_type": "stream",
          "text": [
            "<class 'pandas.core.frame.DataFrame'>\n",
            "Int64Index: 402 entries, 0 to 497\n",
            "Data columns (total 23 columns):\n",
            " #   Column                 Non-Null Count  Dtype         \n",
            "---  ------                 --------------  -----         \n",
            " 0   BIRTHDATE              402 non-null    datetime64[ns]\n",
            " 1   DEATHDATE              12 non-null     datetime64[ns]\n",
            " 2   MARITAL                261 non-null    category      \n",
            " 3   RACE                   402 non-null    category      \n",
            " 4   GENDER                 402 non-null    category      \n",
            " 5   BIRTHPLACE             402 non-null    object        \n",
            " 6   OBS_DATE               402 non-null    datetime64[ns]\n",
            " 7   OBS_CODE               402 non-null    object        \n",
            " 8   OBS_DESCRIPTION        402 non-null    object        \n",
            " 9   OBS_VALUE              402 non-null    object        \n",
            " 10  OBS_UNITS              348 non-null    object        \n",
            " 11  CON_START              402 non-null    datetime64[ns]\n",
            " 12  CON_STOP               251 non-null    datetime64[ns]\n",
            " 13  CON_CODE               402 non-null    int64         \n",
            " 14  CON_DESCRIPTION        402 non-null    object        \n",
            " 15  MED_START              402 non-null    datetime64[ns]\n",
            " 16  MED_STOP               347 non-null    datetime64[ns]\n",
            " 17  MED_CODE               402 non-null    int64         \n",
            " 18  MED_DESCRIPTION        402 non-null    object        \n",
            " 19  MED_DISPENSES          402 non-null    float64       \n",
            " 20  MED_REASONCODE         339 non-null    float64       \n",
            " 21  MED_REASONDESCRIPTION  339 non-null    object        \n",
            " 22  BIRTHPLACE_new         402 non-null    object        \n",
            "dtypes: category(3), datetime64[ns](7), float64(2), int64(2), object(9)\n",
            "memory usage: 87.5+ KB\n"
          ],
          "name": "stdout"
        }
      ]
    },
    {
      "cell_type": "code",
      "metadata": {
        "colab": {
          "base_uri": "https://localhost:8080/"
        },
        "id": "aqLDYOUUuUdb",
        "outputId": "dedc008a-2fc7-45be-c94a-9bbd730005cf"
      },
      "source": [
        "df.describe"
      ],
      "execution_count": 121,
      "outputs": [
        {
          "output_type": "execute_result",
          "data": {
            "text/plain": [
              "<bound method NDFrame.describe of      BIRTHDATE  ...                  BIRTHPLACE_new\n",
              "0   2017-08-24  ...      beverly  massachusetts  us\n",
              "1   2016-01-08  ...       boston  massachusetts  us\n",
              "2   1992-06-30  ...  springfield  massachusetts  us\n",
              "3   2004-09-01  ...    worcester  massachusetts  us\n",
              "4   1996-11-15  ...              patras  achaea  gr\n",
              "..         ...  ...                             ...\n",
              "492 1955-02-04  ...       revere  massachusetts  us\n",
              "494 1913-06-27  ...       millis  massachusetts  us\n",
              "495 1986-03-29  ...    haverhill  massachusetts  us\n",
              "496 1954-12-11  ...    attleboro  massachusetts  us\n",
              "497 1943-03-21  ...      amherst  massachusetts  us\n",
              "\n",
              "[402 rows x 23 columns]>"
            ]
          },
          "metadata": {
            "tags": []
          },
          "execution_count": 121
        }
      ]
    },
    {
      "cell_type": "code",
      "metadata": {
        "colab": {
          "base_uri": "https://localhost:8080/"
        },
        "id": "fqQCTwTnvb7_",
        "outputId": "e4256133-fa23-4f87-d159-2a0327493f00"
      },
      "source": [
        "df.loc[1]"
      ],
      "execution_count": 122,
      "outputs": [
        {
          "output_type": "execute_result",
          "data": {
            "text/plain": [
              "BIRTHDATE                                              2016-01-08 00:00:00\n",
              "DEATHDATE                                                              NaT\n",
              "MARITAL                                                                NaN\n",
              "RACE                                                                 white\n",
              "GENDER                                                                   F\n",
              "BIRTHPLACE                                       Boston  Massachusetts  US\n",
              "OBS_DATE                                               2019-01-08 00:00:00\n",
              "OBS_CODE                                                           72514-3\n",
              "OBS_DESCRIPTION          Pain severity - 0-10 verbal numeric rating [Sc...\n",
              "OBS_VALUE                                                              2.0\n",
              "OBS_UNITS                                                          {score}\n",
              "CON_START                                              2011-09-08 00:00:00\n",
              "CON_STOP                                               2011-08-16 00:00:00\n",
              "CON_CODE                                                         444814009\n",
              "CON_DESCRIPTION                                 Viral sinusitis (disorder)\n",
              "MED_START                                              2019-10-30 00:00:00\n",
              "MED_STOP                                               2019-11-13 00:00:00\n",
              "MED_CODE                                                            313820\n",
              "MED_DESCRIPTION                       Acetaminophen 160 MG Chewable Tablet\n",
              "MED_DISPENSES                                                            1\n",
              "MED_REASONCODE                                                         NaN\n",
              "MED_REASONDESCRIPTION                                                  NaN\n",
              "BIRTHPLACE_new                                   boston  massachusetts  us\n",
              "Name: 1, dtype: object"
            ]
          },
          "metadata": {
            "tags": []
          },
          "execution_count": 122
        }
      ]
    },
    {
      "cell_type": "markdown",
      "metadata": {
        "id": "wO_u7UchpHos"
      },
      "source": [
        "##Erstellung Version 4"
      ]
    },
    {
      "cell_type": "code",
      "metadata": {
        "id": "JLbkwG1NpL8E"
      },
      "source": [
        "#df.to_csv(r'/content/drive/MyDrive/Forschungsdatenmanagement/Hausarbeit/csv_files/Kopie_Complete_Dataset_Covid_10k_Valid_V4.csv', index = False)"
      ],
      "execution_count": 123,
      "outputs": []
    },
    {
      "cell_type": "markdown",
      "metadata": {
        "id": "BP7sJJHWdH3v"
      },
      "source": [
        "df_0 = pd.read_csv('/content/drive/MyDrive/Forschungsdatenmanagement/Hausarbeit/csv_files/Kopie_Complete_Dataset_Covid_10k_Valid_V0.csv', sep=\";\") # ggf. \",\""
      ]
    },
    {
      "cell_type": "markdown",
      "metadata": {
        "id": "L5bw2C0Ydlfg"
      },
      "source": [
        "#Checksum des Datensatzes überprüfen"
      ]
    },
    {
      "cell_type": "markdown",
      "metadata": {
        "id": "jp5uBtyKdtKQ"
      },
      "source": [
        "##Datensatz laden"
      ]
    },
    {
      "cell_type": "code",
      "metadata": {
        "id": "zcEggAYIdQ5Q"
      },
      "source": [
        "df_new = pd.read_csv('/content/drive/MyDrive/Forschungsdatenmanagement/Hausarbeit/csv_files/Kopie_Complete_Dataset_Covid_10k_Valid_V4.csv', sep=\";\") # ggf. \",\""
      ],
      "execution_count": 124,
      "outputs": []
    },
    {
      "cell_type": "code",
      "metadata": {
        "id": "LGyDy2U-dwXJ"
      },
      "source": [
        "from pandas.util import hash_pandas_object\n",
        "df_newhashes = hash_pandas_object(df_new)"
      ],
      "execution_count": 125,
      "outputs": []
    },
    {
      "cell_type": "code",
      "metadata": {
        "colab": {
          "base_uri": "https://localhost:8080/"
        },
        "id": "U17H6pXQdhGH",
        "outputId": "fe7f3951-2ac6-44e8-a4ea-bbe3973f25ac"
      },
      "source": [
        "df_newhashes"
      ],
      "execution_count": 126,
      "outputs": [
        {
          "output_type": "execute_result",
          "data": {
            "text/plain": [
              "0       1361311020871574867\n",
              "1       6562544486741711634\n",
              "2      13989948102070031639\n",
              "3       1723490946744185018\n",
              "4       2677837615848096838\n",
              "               ...         \n",
              "397     6071120933425309432\n",
              "398    17729717618054060606\n",
              "399    11938426041472357116\n",
              "400    17122329460960300879\n",
              "401     8097091569756539399\n",
              "Length: 402, dtype: uint64"
            ]
          },
          "metadata": {
            "tags": []
          },
          "execution_count": 126
        }
      ]
    },
    {
      "cell_type": "markdown",
      "metadata": {
        "id": "mApzvfNBeGPz"
      },
      "source": [
        "##Wert sollte -2765201148000130798 sein"
      ]
    },
    {
      "cell_type": "code",
      "metadata": {
        "colab": {
          "base_uri": "https://localhost:8080/"
        },
        "id": "AOCdpatCeBrY",
        "outputId": "f76b6f5b-9487-44c0-dfb7-c6f51d0bf5b2"
      },
      "source": [
        "df_newhashes.sum()"
      ],
      "execution_count": 127,
      "outputs": [
        {
          "output_type": "execute_result",
          "data": {
            "text/plain": [
              "-2765201148000130798"
            ]
          },
          "metadata": {
            "tags": []
          },
          "execution_count": 127
        }
      ]
    },
    {
      "cell_type": "markdown",
      "metadata": {
        "id": "AbYhdPs2H-Fh"
      },
      "source": [
        "#Quellen\n",
        "- Seaborn: https://seaborn.pydata.org/tutorial/data_structure.html\n",
        "- pandas: https://pandas.pydata.org/pandas-docs/stable/reference/api/pandas.DataFrame.describe.html\n",
        "\n",
        "Data cleaning\n",
        "\n",
        "1.   https://towardsdatascience.com/data-cleaning-in-python-the-ultimate-guide-2020-c63b88bf0a0d\n",
        "2.   https://learn.datacamp.com/courses/cleaning-data-in-python\n",
        "3. https://www.w3schools.com/python/pandas/pandas_cleaning_wrong_format.asp\n",
        "\n"
      ]
    }
  ]
}